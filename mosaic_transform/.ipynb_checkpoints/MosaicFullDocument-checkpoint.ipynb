{
 "cells": [
  {
   "cell_type": "code",
   "execution_count": 1,
   "id": "c183195b",
   "metadata": {},
   "outputs": [],
   "source": [
    "from osgeo import gdal\n",
    "import os\n",
    "import glob\n",
    "import math\n",
    "import time"
   ]
  },
  {
   "cell_type": "code",
   "execution_count": 2,
   "id": "5468cfef",
   "metadata": {},
   "outputs": [],
   "source": [
    "#获取影像的左上角和右下角坐标\n",
    "def GetExtent(in_fn):\n",
    "    ds=gdal.Open(in_fn)\n",
    "    geotrans=list(ds.GetGeoTransform())\n",
    "    xsize=ds.RasterXSize \n",
    "    ysize=ds.RasterYSize\n",
    "    min_x=geotrans[0]\n",
    "    max_y=geotrans[3]\n",
    "    max_x=geotrans[0]+xsize*geotrans[1]\n",
    "    min_y=geotrans[3]+ysize*geotrans[5]\n",
    "    ds=None\n",
    "    return min_x,max_y,max_x,min_y"
   ]
  },
  {
   "cell_type": "code",
   "execution_count": null,
   "id": "a26db9d0",
   "metadata": {},
   "outputs": [],
   "source": [
    "path=r\"C:\\\\\"\n",
    "f_list = os.listdir(path)\n",
    "# f_list[5:21]\n",
    "for i in range(2,8):\n",
    "    os.chdir(os.path.join(path, f_list[i]))\n",
    "    in_files=glob.glob(\"*.tif\")\n",
    "    in_fn=in_files[0]\n",
    "    min_x,max_y,max_x,min_y=GetExtent(in_fn)\n",
    "    for in_fn in in_files[1:]:\n",
    "        minx,maxy,maxx,miny=GetExtent(in_fn)\n",
    "        min_x=min(min_x,minx)\n",
    "        min_y=min(min_y,miny)\n",
    "        max_x=max(max_x,maxx)\n",
    "        max_y=max(max_y,maxy)\n",
    "        \n",
    "    #计算镶嵌后影像的行列号\n",
    "    in_ds=gdal.Open(in_files[0])\n",
    "    geotrans=list(in_ds.GetGeoTransform())\n",
    "    width=geotrans[1]\n",
    "    height=geotrans[5]\n",
    "    columns=math.ceil((max_x-min_x)/width)\n",
    "    rows=math.ceil((max_y-min_y)/(-height))\n",
    "    band_type=in_ds.GetRasterBand(1)\n",
    "    in_band=in_ds.RasterCount\n",
    "    \n",
    "    name=\"D:\\LAI_fitting_param\\download_lai_param_oneCycle\"+\"\\LaiParamOneCycle_\"+f_list[i]+\".tif\"\n",
    "    \n",
    "    out_ds=gdal.GetDriverByName('GTiff').Create(name,columns,rows,in_band,band_type.DataType)\n",
    "    out_ds.SetProjection(in_ds.GetProjection())\n",
    "    geotrans[0]=min_x\n",
    "    geotrans[3]=max_y\n",
    "    out_ds.SetGeoTransform(geotrans)\n",
    "\n",
    "    #定义仿射逆变换\n",
    "    inv_geotrans=gdal.InvGeoTransform(geotrans)\n",
    "    #开始逐渐写入\n",
    "    for in_fn in in_files:\n",
    "        in_ds=gdal.Open(in_fn)\n",
    "        in_gt=in_ds.GetGeoTransform()\n",
    "        #仿射逆变换\n",
    "        offset=gdal.ApplyGeoTransform(inv_geotrans,in_gt[0],in_gt[3])\n",
    "        x,y=map(int,offset)\n",
    "        for j in range(in_band):\n",
    "            data=in_ds.GetRasterBand(j+1).ReadAsArray()\n",
    "            out_ds.GetRasterBand(j+1).WriteArray(data,x,y)#x，y是开始写入时左上角像元行列号\n",
    "    out_ds.FlushCache()\n",
    "    del in_ds,out_ds"
   ]
  },
  {
   "cell_type": "code",
   "execution_count": null,
   "id": "1174941f",
   "metadata": {},
   "outputs": [],
   "source": []
  },
  {
   "cell_type": "code",
   "execution_count": null,
   "id": "eb2dbba1",
   "metadata": {},
   "outputs": [],
   "source": []
  }
 ],
 "metadata": {
  "hide_input": false,
  "kernelspec": {
   "display_name": "Python 3 (ipykernel)",
   "language": "python",
   "name": "python3"
  },
  "language_info": {
   "codemirror_mode": {
    "name": "ipython",
    "version": 3
   },
   "file_extension": ".py",
   "mimetype": "text/x-python",
   "name": "python",
   "nbconvert_exporter": "python",
   "pygments_lexer": "ipython3",
   "version": "3.7.10"
  },
  "toc": {
   "base_numbering": 1,
   "nav_menu": {},
   "number_sections": true,
   "sideBar": true,
   "skip_h1_title": false,
   "title_cell": "Table of Contents",
   "title_sidebar": "Contents",
   "toc_cell": false,
   "toc_position": {},
   "toc_section_display": true,
   "toc_window_display": false
  }
 },
 "nbformat": 4,
 "nbformat_minor": 5
}

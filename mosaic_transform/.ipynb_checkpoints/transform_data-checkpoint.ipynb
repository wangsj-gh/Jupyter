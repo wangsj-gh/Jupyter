{
 "cells": [
  {
   "cell_type": "code",
   "execution_count": 5,
   "id": "0111ed66",
   "metadata": {},
   "outputs": [],
   "source": [
    "import numpy as np\n",
    "import pandas as pd\n",
    "from osgeo import gdal\n",
    "import os"
   ]
  },
  {
   "cell_type": "code",
   "execution_count": 6,
   "id": "534eacd6",
   "metadata": {},
   "outputs": [],
   "source": [
    "class InputTif:\n",
    "    def __init__(self,in_file):\n",
    "        self.in_file = in_file  # Tiff或者ENVI文件\n",
    "        dataset = gdal.Open(self.in_file)\n",
    "        self.XSize = dataset.RasterXSize  # 网格的X轴像素数量\n",
    "        self.YSize = dataset.RasterYSize  # 网格的Y轴像素数量\n",
    "        self.Bands = dataset.RasterCount  # 波段数\n",
    "        self.GeoTransform = dataset.GetGeoTransform()  # 投影转换信息\n",
    "        self.ProjectionInfo = dataset.GetProjection()  # 投影信息\n",
    "        \n",
    "    def get_data(self):\n",
    "        dataset = gdal.Open(self.in_file)\n",
    "        data = dataset.ReadAsArray(0,0,self.XSize,self.YSize)\n",
    "        return np.array(data)\n",
    "        \n",
    "    def get_infor(self):\n",
    "        dataset = gdal.Open(self.in_file)\n",
    "        gtf = self.GeoTransform\n",
    "        pro = self.ProjectionInfo\n",
    "        return gtf,pro"
   ]
  },
  {
   "cell_type": "code",
   "execution_count": null,
   "id": "3c0b0c82",
   "metadata": {},
   "outputs": [],
   "source": [
    "# input_file=r\"C:\\year_365\\test_0.tif\"\n",
    "input_file=r\"D:\\LAI_fitting_param\\download_lai_param_oneCycle\\2020\\mosaiced_image.tif\"\n",
    "gtf,pro=InputTif(input_file).get_infor()\n",
    "dataset=InputTif(input_file).get_data()"
   ]
  },
  {
   "cell_type": "code",
   "execution_count": 4,
   "id": "e2d8f099",
   "metadata": {},
   "outputs": [
    {
     "name": "stdout",
     "output_type": "stream",
     "text": [
      "(-180.00441663186973, 0.004491576420597608, 0.0, 90.00220831593487, 0.0, -0.004491576420597608)\n",
      "GEOGCS[\"WGS 84\",DATUM[\"WGS_1984\",SPHEROID[\"WGS 84\",6378137,298.257223563,AUTHORITY[\"EPSG\",\"7030\"]],AUTHORITY[\"EPSG\",\"6326\"]],PRIMEM[\"Greenwich\",0],UNIT[\"degree\",0.0174532925199433,AUTHORITY[\"EPSG\",\"9122\"]],AXIS[\"Latitude\",NORTH],AXIS[\"Longitude\",EAST],AUTHORITY[\"EPSG\",\"4326\"]]\n",
      "(40076, 80152)\n"
     ]
    }
   ],
   "source": [
    "print(gtf)\n",
    "print(pro)\n",
    "print(dataset.shape)"
   ]
  },
  {
   "cell_type": "code",
   "execution_count": 5,
   "id": "13a6d754",
   "metadata": {},
   "outputs": [],
   "source": [
    "input_file_lai=r\"D:\\LAI_fitting_param\\download_lai_param_oneCycle\\LaiParamOneCycle_2007.tif\"\n",
    "gtf_lai,pro_lai=InputTif(input_file_lai).get_infor()\n",
    "dataset_lai=InputTif(input_file_lai).get_data()"
   ]
  },
  {
   "cell_type": "code",
   "execution_count": 6,
   "id": "f52cf23e",
   "metadata": {},
   "outputs": [
    {
     "name": "stdout",
     "output_type": "stream",
     "text": [
      "(-180.00441663186973, 0.004491576420597608, 0.0, 90.00220831593487, 0.0, -0.004491576420597608)\n",
      "GEOGCS[\"WGS 84\",DATUM[\"WGS_1984\",SPHEROID[\"WGS 84\",6378137,298.257223563,AUTHORITY[\"EPSG\",\"7030\"]],AUTHORITY[\"EPSG\",\"6326\"]],PRIMEM[\"Greenwich\",0],UNIT[\"degree\",0.0174532925199433,AUTHORITY[\"EPSG\",\"9122\"]],AXIS[\"Latitude\",NORTH],AXIS[\"Longitude\",EAST],AUTHORITY[\"EPSG\",\"4326\"]]\n",
      "(6, 40076, 80152)\n"
     ]
    }
   ],
   "source": [
    "print(gtf_lai)\n",
    "print(pro_lai)\n",
    "print(dataset_lai.shape)"
   ]
  },
  {
   "cell_type": "code",
   "execution_count": null,
   "id": "0f0133d3",
   "metadata": {},
   "outputs": [],
   "source": []
  }
 ],
 "metadata": {
  "hide_input": false,
  "kernelspec": {
   "display_name": "Python 3 (ipykernel)",
   "language": "python",
   "name": "python3"
  },
  "language_info": {
   "codemirror_mode": {
    "name": "ipython",
    "version": 3
   },
   "file_extension": ".py",
   "mimetype": "text/x-python",
   "name": "python",
   "nbconvert_exporter": "python",
   "pygments_lexer": "ipython3",
   "version": "3.7.10"
  },
  "toc": {
   "base_numbering": 1,
   "nav_menu": {},
   "number_sections": true,
   "sideBar": true,
   "skip_h1_title": false,
   "title_cell": "Table of Contents",
   "title_sidebar": "Contents",
   "toc_cell": false,
   "toc_position": {},
   "toc_section_display": true,
   "toc_window_display": false
  }
 },
 "nbformat": 4,
 "nbformat_minor": 5
}

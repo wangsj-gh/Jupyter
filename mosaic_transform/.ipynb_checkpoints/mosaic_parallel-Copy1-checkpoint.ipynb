{
 "cells": [
  {
   "cell_type": "code",
   "execution_count": 1,
   "id": "4442db03",
   "metadata": {},
   "outputs": [],
   "source": [
    "from osgeo import gdal\n",
    "import os\n",
    "import glob\n",
    "import math\n",
    "import time\n",
    "import numpy as np\n",
    "from concurrent.futures import ThreadPoolExecutor, ProcessPoolExecutor\n",
    "import multiprocessing as mp"
   ]
  },
  {
   "cell_type": "code",
   "execution_count": 2,
   "id": "06c9982d",
   "metadata": {},
   "outputs": [],
   "source": [
    "#获取影像的左上角和右下角坐标\n",
    "def GetExtent(in_fn):\n",
    "    ds=gdal.Open(in_fn)\n",
    "    geotrans=list(ds.GetGeoTransform())\n",
    "    xsize=ds.RasterXSize \n",
    "    ysize=ds.RasterYSize\n",
    "    min_x=geotrans[0]\n",
    "    max_y=geotrans[3]\n",
    "    max_x=geotrans[0]+xsize*geotrans[1]\n",
    "    min_y=geotrans[3]+ysize*geotrans[5]\n",
    "    ds=None\n",
    "    return min_x,max_y,max_x,min_y"
   ]
  },
  {
   "cell_type": "code",
   "execution_count": 3,
   "id": "ee49d61a",
   "metadata": {},
   "outputs": [
    {
     "name": "stdout",
     "output_type": "stream",
     "text": [
      "-180.00441663186973 90.00220831593487 180.0044166318697 -90.00220831593487\n"
     ]
    }
   ],
   "source": [
    "path=r\"C:\\\\2005\"\n",
    "os.chdir(path)\n",
    "#如果存在同名影像则先删除\n",
    "# if os.path.exists('LaiParamOneCycle_2018.tif'):\n",
    "#     os.remove('LaiParamOneCycle_2018.tif')\n",
    "    \n",
    "in_files=glob.glob(\"*.tif\")#得到该目录下所有的影像名\n",
    "in_fn=in_files[0]\n",
    "#获取待镶嵌栅格的最大最小的坐标值\n",
    "min_x,max_y,max_x,min_y=GetExtent(in_fn)\n",
    "for in_fn in in_files[1:]:\n",
    "    minx,maxy,maxx,miny=GetExtent(in_fn)\n",
    "    min_x=min(min_x,minx)\n",
    "    min_y=min(min_y,miny)\n",
    "    max_x=max(max_x,maxx)\n",
    "    max_y=max(max_y,maxy)\n",
    "print(min_x,max_y,max_x,min_y)"
   ]
  },
  {
   "cell_type": "code",
   "execution_count": 4,
   "id": "a3f7f4f6",
   "metadata": {},
   "outputs": [],
   "source": [
    "#计算镶嵌后影像的行列号\n",
    "in_ds=gdal.Open(in_files[0])\n",
    "geotrans=list(in_ds.GetGeoTransform())\n",
    "width=geotrans[1]\n",
    "height=geotrans[5]\n",
    "columns=math.ceil((max_x-min_x)/width)\n",
    "rows=math.ceil((max_y-min_y)/(-height))\n",
    "band_type=in_ds.GetRasterBand(1)\n",
    "in_band=in_ds.RasterCount\n",
    "#定义仿射逆变换\n",
    "inv_geotrans=gdal.InvGeoTransform(geotrans)"
   ]
  },
  {
   "cell_type": "code",
   "execution_count": 5,
   "id": "35aac463",
   "metadata": {},
   "outputs": [],
   "source": [
    "def GetData(in_filename):\n",
    "    in_ds=gdal.Open(in_filename)\n",
    "    in_gt=in_ds.GetGeoTransform()\n",
    "    #仿射逆变换\n",
    "    resul=[]\n",
    "    offset=gdal.ApplyGeoTransform(inv_geotrans,in_gt[0],in_gt[3])\n",
    "    x,y=map(int,offset)\n",
    "    data=in_ds.ReadAsArray()\n",
    "    resul.append(x)\n",
    "    resul.append(y)\n",
    "    resul.append(data)\n",
    "#     for j in range(in_band):\n",
    "#         data=in_ds.GetRasterBand(j+1).ReadAsArray()\n",
    "#         out_ds.GetRasterBand(j+1).WriteArray(data,x,y)\n",
    "    return resul"
   ]
  },
  {
   "cell_type": "code",
   "execution_count": null,
   "id": "e37027ee",
   "metadata": {},
   "outputs": [],
   "source": [
    "if __name__ == '__main__':\n",
    "    star=time.time()\n",
    "    pool = ThreadPoolExecutor(max_workers=72)\n",
    "    result=list(pool.map(GetData,in_files))\n",
    "    pool.shutdown(wait=True)\n",
    "\n",
    "    #     for j in range(in_band):\n",
    "#         out_ds.GetRasterBand(j+1).WriteArray(data[j,:,:],x,y)\n",
    "#     pool = mp.Pool(processes=72)\n",
    "#     res = np.array(pool.map(GetData,in_files))\n",
    "#     pool = mp.Pool(processes=36)\n",
    "#     res=[pool.apply_async(GetData,(i,)) for i in in_files]\n",
    "    print(\"total time:\",time.time()-star)"
   ]
  },
  {
   "cell_type": "code",
   "execution_count": null,
   "id": "b1720d39",
   "metadata": {},
   "outputs": [],
   "source": [
    "name=\"C:\\year_365\"+\"\\LaiParamTwoCycle_2005\"+\".tif\"\n",
    "out_ds=gdal.GetDriverByName('GTiff').Create(name,columns,rows,in_band,band_type.DataType)\n",
    "out_ds.SetProjection(in_ds.GetProjection())\n",
    "geotrans[0]=min_x\n",
    "geotrans[3]=max_y\n",
    "out_ds.SetGeoTransform(geotrans)\n",
    "\n"
   ]
  },
  {
   "cell_type": "code",
   "execution_count": null,
   "id": "fccb0696",
   "metadata": {},
   "outputs": [],
   "source": []
  }
 ],
 "metadata": {
  "hide_input": false,
  "kernelspec": {
   "display_name": "Python 3 (ipykernel)",
   "language": "python",
   "name": "python3"
  },
  "language_info": {
   "codemirror_mode": {
    "name": "ipython",
    "version": 3
   },
   "file_extension": ".py",
   "mimetype": "text/x-python",
   "name": "python",
   "nbconvert_exporter": "python",
   "pygments_lexer": "ipython3",
   "version": "3.7.10"
  },
  "toc": {
   "base_numbering": 1,
   "nav_menu": {},
   "number_sections": true,
   "sideBar": true,
   "skip_h1_title": false,
   "title_cell": "Table of Contents",
   "title_sidebar": "Contents",
   "toc_cell": false,
   "toc_position": {},
   "toc_section_display": true,
   "toc_window_display": false
  }
 },
 "nbformat": 4,
 "nbformat_minor": 5
}

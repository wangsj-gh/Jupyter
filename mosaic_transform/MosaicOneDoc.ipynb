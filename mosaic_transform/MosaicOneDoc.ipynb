{
 "cells": [
  {
   "cell_type": "code",
   "execution_count": 1,
   "id": "9f641ede",
   "metadata": {},
   "outputs": [],
   "source": [
    "from osgeo import gdal\n",
    "import os\n",
    "import glob\n",
    "import math\n",
    "import time"
   ]
  },
  {
   "cell_type": "code",
   "execution_count": 2,
   "id": "8239a71e",
   "metadata": {},
   "outputs": [],
   "source": [
    "#获取影像的左上角和右下角坐标\n",
    "def GetExtent(in_fn):\n",
    "    ds=gdal.Open(in_fn)\n",
    "    geotrans=list(ds.GetGeoTransform())\n",
    "    xsize=ds.RasterXSize \n",
    "    ysize=ds.RasterYSize\n",
    "    min_x=geotrans[0]\n",
    "    max_y=geotrans[3]\n",
    "    max_x=geotrans[0]+xsize*geotrans[1]\n",
    "    min_y=geotrans[3]+ysize*geotrans[5]\n",
    "    ds=None\n",
    "    return min_x,max_y,max_x,min_y"
   ]
  },
  {
   "cell_type": "code",
   "execution_count": 3,
   "id": "15ebc24a",
   "metadata": {},
   "outputs": [],
   "source": [
    "def GetImageInform(in_files):\n",
    "    in_fn=in_files[0]\n",
    "    #获取待镶嵌栅格的最大最小的坐标值\n",
    "    min_x,max_y,max_x,min_y=GetExtent(in_fn)\n",
    "    for in_fn in in_files[1:]:\n",
    "        minx,maxy,maxx,miny=GetExtent(in_fn)\n",
    "        min_x=min(min_x,minx)\n",
    "        min_y=min(min_y,miny)\n",
    "        max_x=max(max_x,maxx)\n",
    "        max_y=max(max_y,maxy)\n",
    "\n",
    "    #计算镶嵌后影像的行列号\n",
    "    in_ds=gdal.Open(in_fn)\n",
    "    geotrans=list(in_ds.GetGeoTransform())\n",
    "\n",
    "    geoproj=in_ds.GetProjection()\n",
    "    width=geotrans[1]\n",
    "    height=geotrans[5]\n",
    "    columns=math.ceil((max_x-min_x)/width)\n",
    "    rows=math.ceil((max_y-min_y)/(-height))\n",
    "    in_band=in_ds.RasterCount\n",
    "    geotrans[0]=min_x\n",
    "    geotrans[3]=max_y\n",
    "\n",
    "    return columns,rows,in_band,geotrans,geoproj"
   ]
  },
  {
   "cell_type": "code",
   "execution_count": 4,
   "id": "836c6e09",
   "metadata": {},
   "outputs": [],
   "source": [
    "def MosaicImage(InputPath,OutputPathName):\n",
    "    os.chdir(InputPath)\n",
    "#     if os.path.exists('LaiParamOneCycle_2017.tif'):\n",
    "#         os.remove('LaiParamOneCycle_2017.tif')\n",
    "    in_files=glob.glob(\"*.tif\")\n",
    "\n",
    "    columns,rows,in_band,geotrans,geoproj=GetImageInform(in_files)\n",
    "    out_ds=gdal.GetDriverByName('GTiff').Create(OutputPathName,columns,rows,in_band,gdal.GDT_Float32)\n",
    "    out_ds.SetProjection(geoproj)\n",
    "    out_ds.SetGeoTransform(geotrans)\n",
    "    #定义仿射逆变换\n",
    "    inv_geotrans=gdal.InvGeoTransform(geotrans)\n",
    "    #开始逐渐写入\n",
    "    for in_fn in in_files:\n",
    "        in_ds=gdal.Open(in_fn)\n",
    "        in_gt=in_ds.GetGeoTransform()\n",
    "        #仿射逆变换\n",
    "        offset=gdal.ApplyGeoTransform(inv_geotrans,in_gt[0],in_gt[3])\n",
    "        x,y=map(int,offset)\n",
    "        for i in range(in_band):\n",
    "            if(i==21):\n",
    "                name='x1'\n",
    "            elif(i==22):\n",
    "                name='x2'    \n",
    "            else:\n",
    "                name='param'+str(math.floor(i/7)+1)+'_'+'p'+str(i % 7)\n",
    "            \n",
    "            data=in_ds.GetRasterBand(i+1).ReadAsArray()\n",
    "            out_ds.GetRasterBand(i+1).WriteArray(data,x,y)#x，y是开始写入时左上角像元行列号\n",
    "            # out_ds.GetRasterBand(i+1).SetDescription(\"%s\"%name)\n",
    "            out_ds.GetRasterBand(i+1).SetNoDataValue(-9999)\n",
    "    out_ds.FlushCache()\n",
    "    del in_ds,out_ds\n",
    "    return True"
   ]
  },
  {
   "cell_type": "code",
   "execution_count": 5,
   "id": "9056c09c",
   "metadata": {},
   "outputs": [],
   "source": [
    "if __name__ == '__main__':\n",
    "    T1=time.time()\n",
    "    InputPath=r\"C:\\\\2012_mask\"\n",
    "    OutputPathName=\"G:\\LaiParamTwoCycle_2012.tif\"\n",
    "    MosaicImage(InputPath,OutputPathName)\n",
    "    T2 = time.time()\n",
    "    print('程序运行时间 :',(T2 - T1))"
   ]
  },
  {
   "cell_type": "code",
   "execution_count": null,
   "id": "f2d754aa",
   "metadata": {},
   "outputs": [],
   "source": []
  }
 ],
 "metadata": {
  "hide_input": false,
  "kernelspec": {
   "display_name": "Python 3 (ipykernel)",
   "language": "python",
   "name": "python3"
  },
  "language_info": {
   "codemirror_mode": {
    "name": "ipython",
    "version": 3
   },
   "file_extension": ".py",
   "mimetype": "text/x-python",
   "name": "python",
   "nbconvert_exporter": "python",
   "pygments_lexer": "ipython3",
   "version": "3.7.10"
  },
  "toc": {
   "base_numbering": 1,
   "nav_menu": {},
   "number_sections": true,
   "sideBar": true,
   "skip_h1_title": false,
   "title_cell": "Table of Contents",
   "title_sidebar": "Contents",
   "toc_cell": false,
   "toc_position": {},
   "toc_section_display": true,
   "toc_window_display": false
  }
 },
 "nbformat": 4,
 "nbformat_minor": 5
}

{
 "cells": [
  {
   "cell_type": "code",
   "execution_count": 2,
   "metadata": {},
   "outputs": [
    {
     "data": {
      "image/png": "[encoded data removed]",
      "text/plain": [
       "<Figure size 432x288 with 1 Axes>"
      ]
     },
     "metadata": {
      "needs_background": "light"
     },
     "output_type": "display_data"
    },
    {
     "name": "stdout",
     "output_type": "stream",
     "text": [
      "     fun: array([-2.])\n",
      " message: 'too many function evaluations required'\n",
      "    nfev: 1000\n",
      "     nit: 319\n",
      " success: False\n",
      "       x: array([3.51499783e+12])\n"
     ]
    },
    {
     "name": "stderr",
     "output_type": "stream",
     "text": [
      "d:\\python37\\lib\\site-packages\\ipykernel_launcher.py:9: RuntimeWarning: overflow encountered in exp\n",
      "  if __name__ == '__main__':\n",
      "d:\\python37\\lib\\site-packages\\scipy\\optimize\\_spectral.py:144: RuntimeWarning: divide by zero encountered in double_scalars\n",
      "  sigma_k = np.vdot(s_k, s_k) / np.vdot(s_k, y_k)\n"
     ]
    }
   ],
   "source": [
    "import numpy as np\n",
    "from scipy import optimize\n",
    "import matplotlib.pyplot as plt\n",
    "\n",
    "x = np.arange(1, 365, 4)\n",
    "\n",
    "def f(x):\n",
    "    p=[2,10,2,120,0.1,240]\n",
    "    return p[0]+p[1]*(1/(1+np.exp(-1*p[2]*(x-p[3])))-1/(1+np.exp(-1*p[4]*(x-p[5]))))\n",
    "\n",
    "def f1(x):\n",
    "    return f(x)-4\n",
    "\n",
    "plt.figure(figsize=(6, 4))\n",
    "plt.plot(x,f(x))\n",
    "plt.plot(x,[4] * len(x))\n",
    "plt.show()\n",
    "\n",
    "root = optimize.root(f1,[100],method='df-sane')\n",
    "print (root)"
   ]
  },
  {
   "cell_type": "code",
   "execution_count": 1,
   "metadata": {},
   "outputs": [
    {
     "name": "stdout",
     "output_type": "stream",
     "text": [
      "your acceptable error:1e-06\n",
      "left: 1\n",
      "right: 4\n",
      "current acceptable error: 1e-06\n",
      "\n",
      "1 root = 1.0\n",
      "2 root = 1.0\n",
      "3 root = 1.0\n",
      "4 root = 1.375\n",
      "5 root = 1.5625\n",
      "6 root = 1.65625\n",
      "7 root = 1.65625\n",
      "8 root = 1.6796875\n",
      "9 root = 1.69140625\n",
      "10 root = 1.69140625\n",
      "11 root = 1.6943359375\n",
      "12 root = 1.6943359375\n",
      "13 root = 1.6943359375\n",
      "14 root = 1.6943359375\n",
      "15 root = 1.69451904296875\n",
      "16 root = 1.69451904296875\n",
      "17 root = 1.6945648193359375\n",
      "18 root = 1.6945877075195312\n",
      "19 root = 1.6945991516113281\n",
      "20 root = 1.6945991516113281\n",
      "21 root = 1.6945991516113281\n"
     ]
    }
   ],
   "source": [
    "import math\n",
    "\n",
    "def func(cur_root):\n",
    "    \n",
    "#     p=[2,10,2,120,0.1,240]\n",
    "#     return p[0]+p[1]*(1/(1+np.exp(-1*p[2]*(x-p[3])))-1/(1+np.exp(-1*p[4]*(x-p[5]))))\n",
    "    func = math.exp(cur_root) * math.log(cur_root) - cur_root ** 2\n",
    "    return func\n",
    "\n",
    "def binary(convergence, left, right):\n",
    "    print('current acceptable error: ' + str(convergence) + '\\n')\n",
    "    error = convergence + 1  # 循环开始条件\n",
    "    cur_root = left\n",
    "    count = 1\n",
    "    while error > convergence:\n",
    "        if abs(func(left)) < convergence:\n",
    "            print('root = ' + str(left))\n",
    "        elif abs(func(right)) < convergence:\n",
    "            print('root = ' + str(left))\n",
    "        else:\n",
    "            print(str(count) + ' root = ' +str(cur_root))\n",
    "            middle = (left + right) / 2\n",
    "            if (func(left) * func(middle)) < 0:\n",
    "                right = middle\n",
    "            else:\n",
    "                left = middle\n",
    "            cur_root = left\n",
    "        error = abs(func(cur_root))\n",
    "        count += 1\n",
    "convergence = float(input(\"your acceptable error:\"))\n",
    "left = float(input('left: '))\n",
    "right = float(input('right: '))\n",
    "binary(convergence, left, right)"
   ]
  },
  {
   "cell_type": "code",
   "execution_count": null,
   "metadata": {},
   "outputs": [],
   "source": []
  }
 ],
 "metadata": {
  "kernelspec": {
   "display_name": "Python 3",
   "language": "python",
   "name": "python3"
  },
  "language_info": {
   "codemirror_mode": {
    "name": "ipython",
    "version": 3
   },
   "file_extension": ".py",
   "mimetype": "text/x-python",
   "name": "python",
   "nbconvert_exporter": "python",
   "pygments_lexer": "ipython3",
   "version": "3.7.7"
  }
 },
 "nbformat": 4,
 "nbformat_minor": 4
}

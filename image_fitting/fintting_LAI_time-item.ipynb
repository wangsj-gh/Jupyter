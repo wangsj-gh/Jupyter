{
 "cells": [
  {
   "cell_type": "code",
   "execution_count": 1,
   "id": "ea3054fb",
   "metadata": {},
   "outputs": [],
   "source": [
    "import numpy as np\n",
    "import pandas as pd\n",
    "from scipy.optimize import curve_fit\n",
    "import time"
   ]
  },
  {
   "cell_type": "code",
   "execution_count": 3,
   "id": "6e16f104",
   "metadata": {},
   "outputs": [],
   "source": [
    "def func(x, m1, m2, m3, m4, m5, m6):\n",
    "    return m1 + m2 /(1 + np.exp(-m3 * (x-m4))) - m2/(1 + np.exp(-m5 * (x-m6)))\n",
    "\n",
    "#注意初值\n",
    "def DofittingandValidation(yData, xData):\n",
    "  # Parameters, pcov = curve_fit(func, xData, yData, p0=[1000,7000,0.1,140,0.1,270], maxfev=i)#,method='trf', maxfev=1000000)\n",
    "  # EVI:900,5000,0.1,140,0.1,270\n",
    "  # LAI:5,40,0.1,140,0.1,270\n",
    "  # NDVI:1000,7000,0.1,140,0.1,270\n",
    "    start_time1 = time.time()\n",
    "    for i in range(1,1000000):\n",
    "    \n",
    "        try:\n",
    "            Parameters, pcov = curve_fit(func, xData, yData, p0=[5,40,0.1,140,0.1,270], maxfev=i)#,method='trf', maxfev=1000000)\n",
    "        except RuntimeError: \n",
    "            continue\n",
    "        if Parameters is not None:\n",
    "            break\n",
    "    totaltime=time.time()-start_time1\n",
    "    totalparm=np.hstack((Parameters,[i,totaltime]))\n",
    "    return totalparm\n",
    "\n",
    "#注意时间序列\n",
    "def get_python_param(data):\n",
    "    timeDims=data.shape[1]\n",
    "  #EVI,NDVI\n",
    "  # xData=16 * (np.array(list(range(timeDims)))) + 9\n",
    "\n",
    "  #LAI\n",
    "    xData=4 * (np.array(list(range(timeDims)))) + 1\n",
    "    pars=[]\n",
    "    for i in range(data.shape[0]):\n",
    "    # for i in range(3):\n",
    "        lon_lat=data_lon_lat[i]\n",
    "        yData = data[i,:]\n",
    "        pars_ = DofittingandValidation(yData, xData) \n",
    "        x=np.hstack((lon_lat,pars_))\n",
    "        pars.append(x)\n",
    "    return np.array(pars)\n",
    "\n"
   ]
  },
  {
   "cell_type": "code",
   "execution_count": null,
   "id": "5f6fb06f",
   "metadata": {},
   "outputs": [],
   "source": [
    "start_time = time.time()\n",
    "dataset=pd.read_excel(r'/content/drive/My Drive/tif/data/gee-LAI-10884.xlsx',header=0)\n",
    "# dataset = dataset.set_index(['lat','lon'])\n",
    "dataset=np.array(dataset)\n",
    "data_lon_lat=dataset[:,0:2]\n",
    "data=dataset[:,2::]\n",
    "param=get_python_param(data)\n",
    "\n",
    "print(\"Thread pool execution in \" + str(time.time() - start_time), \"seconds\")\n",
    "writer = pd.ExcelWriter(r\"/content/drive/My Drive/tif/get_param_python/LAI_10884_python_param_time_item1.xls\")\n",
    "pd.DataFrame(param).to_excel(writer,na_rep=0,index=False,header=['lon','lat','p0','p1','p2','p3','p4','p5','item','time'])\n",
    "writer.save()\n",
    "writer.close()"
   ]
  }
 ],
 "metadata": {
  "kernelspec": {
   "display_name": "Python 3 (ipykernel)",
   "language": "python",
   "name": "python3"
  },
  "language_info": {
   "codemirror_mode": {
    "name": "ipython",
    "version": 3
   },
   "file_extension": ".py",
   "mimetype": "text/x-python",
   "name": "python",
   "nbconvert_exporter": "python",
   "pygments_lexer": "ipython3",
   "version": "3.9.1"
  }
 },
 "nbformat": 4,
 "nbformat_minor": 5
}

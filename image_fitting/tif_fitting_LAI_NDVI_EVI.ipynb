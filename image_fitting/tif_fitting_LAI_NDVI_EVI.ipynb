{
 "cells": [
  {
   "cell_type": "code",
   "execution_count": 6,
   "metadata": {},
   "outputs": [],
   "source": [
    "import numpy as np\n",
    "import pandas as pd\n",
    "from osgeo import gdal\n",
    "import os\n",
    "import time\n",
    "from scipy.optimize import curve_fit"
   ]
  },
  {
   "cell_type": "code",
   "execution_count": 7,
   "metadata": {},
   "outputs": [],
   "source": [
    "class Dataset:\n",
    "    def __init__(self, in_file):\n",
    "        self.in_file = in_file  # Tiff或者ENVI文件\n",
    "\n",
    "        dataset = gdal.Open(self.in_file)\n",
    "        self.XSize = dataset.RasterXSize  # 网格的X轴像素数量\n",
    "        self.YSize = dataset.RasterYSize  # 网格的Y轴像素数量\n",
    "        self.Bands = dataset.RasterCount  # 波段数\n",
    "        self.GeoTransform = dataset.GetGeoTransform()  # 投影转换信息\n",
    "        self.ProjectionInfo = dataset.GetProjection()  # 投影信息\n",
    "\n",
    "#     def get_data(self, band):\n",
    "#         #band: 读取第几个通道的数据\n",
    "#         dataset = gdal.Open(self.in_file)\n",
    "#         band = dataset.GetRasterBand(band)\n",
    "#         data = band.ReadAsArray()\n",
    "#         return data\n",
    "    \n",
    "    def get_data(self):\n",
    "        #band: 读取第几个通道的数据\n",
    "        dataset = gdal.Open(self.in_file)\n",
    "        data = dataset.ReadAsArray(0,0,self.XSize,self.YSize)\n",
    "        return data\n",
    "    \n",
    "\n",
    "    def get_lon_lat(self):\n",
    "        #获取经纬度信息\n",
    "        gtf = self.GeoTransform\n",
    "        x_range = range(0, self.XSize)\n",
    "        y_range = range(0, self.YSize)\n",
    "        x, y = np.meshgrid(x_range, y_range)\n",
    "        lon = gtf[0] + x * gtf[1] + y * gtf[2]\n",
    "        lat = gtf[3] + x * gtf[4] + y * gtf[5]\n",
    "        \n",
    "        lon_lat=[]\n",
    "        for (longitude,latitude) in zip(lon,lat):\n",
    "            lon_lat.append(list(zip(longitude,latitude)))\n",
    "            \n",
    "        return np.array(lon_lat)\n",
    "    \n",
    "    def new_dataset(self,data,lon_lat):\n",
    "        new_dataset=[]\n",
    "        for i in range(self.YSize):\n",
    "            for j in range(self.XSize):\n",
    "                x1 = lon_lat[i,j]\n",
    "                x2 = data[:,i,j]\n",
    "                x=np.hstack((x1,x2))\n",
    "                new_dataset.append(x)\n",
    "#         for (i,j) in zip(lon_lat[i,j],data[:,i,j]):\n",
    "#             new_dataset.append(list(zip(i,j)))\n",
    "            \n",
    "        return np.array(new_dataset)"
   ]
  },
  {
   "cell_type": "code",
   "execution_count": 8,
   "metadata": {},
   "outputs": [],
   "source": [
    "def func(x, m1, m2, m3, m4, m5, m6):\n",
    "    return m1 + m2 /(1 + np.exp(-m3 * (x-m4))) - m2/(1 + np.exp(-m5 * (x-m6)))\n",
    "\n",
    "#注意初值\n",
    "def DofittingandValidation(yData, xData):\n",
    "#     p=[5,40,0.1,140,0.1,270]#lai\n",
    "#     p=[1000,7000,0.1,140,0.1,270]#NDVI\n",
    "    p=[900,5000,0.1,140,0.1,270]#EVI\n",
    "    \n",
    "    Parameters, pcov = curve_fit(func, xData, yData, p0=p, maxfev=1000000000)#,method='trf', maxfev=1000000)\n",
    "    return Parameters\n",
    "\n",
    "#注意时间序列\n",
    "def get_python_param(data):\n",
    "    timeDims=data.shape[1]\n",
    "    xData = 16 * (np.array(range(timeDims))) + 9\n",
    "#     xData=4 * (np.array(list(range(timeDims)))) + 1\n",
    "    pars=[]\n",
    "    for i in range(data.shape[0]):\n",
    "        lon_lat=data_lon_lat[i]\n",
    "        yData = data[i,:]\n",
    "        pars_ = DofittingandValidation(yData, xData) \n",
    "        x=np.hstack((lon_lat,pars_))\n",
    "        pars.append(x)\n",
    "    return np.array(pars)"
   ]
  },
  {
   "cell_type": "code",
   "execution_count": 9,
   "metadata": {},
   "outputs": [
    {
     "name": "stderr",
     "output_type": "stream",
     "text": [
      "d:\\python37\\lib\\site-packages\\ipykernel_launcher.py:2: RuntimeWarning: overflow encountered in exp\n",
      "  \n"
     ]
    },
    {
     "name": "stdout",
     "output_type": "stream",
     "text": [
      "Thread pool execution in 2819.288745164871 seconds\n"
     ]
    }
   ],
   "source": [
    "start_time = time.time()\n",
    "dir_path = r\"D:\\Desktop\\mypaper\\data\"\n",
    "filename = \"gee-EVI-605360.tif\"\n",
    "file_path = os.path.join(dir_path, filename)\n",
    "dataset = Dataset(file_path)\n",
    "\n",
    "data = dataset.get_data( )  # 获取第一个通道的数据\n",
    "\n",
    "lon_lat = dataset.get_lon_lat()  # 获取经纬度信息longitude, latitude\n",
    "\n",
    "new_dataset=dataset.new_dataset(data,lon_lat)\n",
    "\n",
    "data_lon_lat=new_dataset[:,0:2]\n",
    "data=new_dataset[:,2::]\n",
    "param=get_python_param(data)\n",
    "print(\"Thread pool execution in \" + str(time.time() - start_time), \"seconds\")"
   ]
  },
  {
   "cell_type": "code",
   "execution_count": 5,
   "metadata": {},
   "outputs": [
    {
     "name": "stdout",
     "output_type": "stream",
     "text": [
      "(605360, 8)\n"
     ]
    }
   ],
   "source": [
    "print(param.shape)"
   ]
  },
  {
   "cell_type": "code",
   "execution_count": 12,
   "metadata": {},
   "outputs": [
    {
     "name": "stdout",
     "output_type": "stream",
     "text": [
      "(5718.964570760727, 2400) (1318.1171004772186, 1620) (1169.101529121399, 1080)\n"
     ]
    }
   ],
   "source": [
    "# 297571\n",
    "\n",
    "LAI=5718.964570760727,40*60\n",
    "NDVI=1318.1171004772186,27*60\n",
    "EVI=1169.101529121399,18*60\n",
    "print(LAI,NDVI,EVI)"
   ]
  },
  {
   "cell_type": "code",
   "execution_count": null,
   "metadata": {},
   "outputs": [],
   "source": [
    "# 605360\n",
    "LAI=7711.796985864639,55*60\n",
    "NDVI=2898.5893547534943,27*60\n",
    "EVI=2819.288745164871,32*60"
   ]
  }
 ],
 "metadata": {
  "kernelspec": {
   "display_name": "Python 3 (ipykernel)",
   "language": "python",
   "name": "python3"
  },
  "language_info": {
   "codemirror_mode": {
    "name": "ipython",
    "version": 3
   },
   "file_extension": ".py",
   "mimetype": "text/x-python",
   "name": "python",
   "nbconvert_exporter": "python",
   "pygments_lexer": "ipython3",
   "version": "3.9.1"
  }
 },
 "nbformat": 4,
 "nbformat_minor": 4
}

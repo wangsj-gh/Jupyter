{
 "cells": [
  {
   "cell_type": "code",
   "execution_count": 3,
   "metadata": {},
   "outputs": [],
   "source": [
    "import numpy as np\n",
    "import pandas as pd\n",
    "from scipy.optimize import curve_fit\n",
    "import time"
   ]
  },
  {
   "cell_type": "code",
   "execution_count": 4,
   "metadata": {},
   "outputs": [],
   "source": [
    "def func(x, m1, m2, m3, m4, m5, m6):\n",
    "    return m1 + m2 /(1 + np.exp(-m3 * (x-m4))) - m2/(1 + np.exp(-m5 * (x-m6)))\n",
    "\n",
    "#注意初值\n",
    "def DofittingandValidation(yData, xData):\n",
    "    Parameters, pcov = curve_fit(func, xData, yData, p0=[1000,7000,0.1,140,0.1,270], maxfev=100000)#,method='trf', maxfev=1000000)\n",
    "    return Parameters\n",
    "\n",
    "#注意时间序列\n",
    "def get_python_param(data):\n",
    "    timeDims=data.shape[1]\n",
    "    xData=16 * (np.array(list(range(timeDims)))) + 9\n",
    "    pars=[]\n",
    "    for i in range(data.shape[0]):\n",
    "        lon_lat=data_lon_lat[i]\n",
    "        yData = data[i,:]\n",
    "        pars_ = DofittingandValidation(yData, xData) \n",
    "        x=np.hstack((lon_lat,pars_))\n",
    "        pars.append(x)\n",
    "    return np.array(pars)"
   ]
  },
  {
   "cell_type": "code",
   "execution_count": 5,
   "metadata": {},
   "outputs": [
    {
     "name": "stdout",
     "output_type": "stream",
     "text": [
      "Thread pool execution in 3.573944568634033 seconds\n"
     ]
    }
   ],
   "source": [
    "start_time = time.time()\n",
    "dataset=pd.read_excel(r'D:\\Desktop\\NDVI_test.xls',header=0,sheet_name='NDVI-108')\n",
    "# dataset = dataset.set_index(['lat','lon'])\n",
    "dataset=np.array(dataset)\n",
    "data_lon_lat=dataset[:,0:2]\n",
    "data=dataset[:,2::]\n",
    "param=get_python_param(data)\n",
    "\n",
    "print(\"Thread pool execution in \" + str(time.time() - start_time), \"seconds\")\n",
    "writer = pd.ExcelWriter(r\"D:\\Desktop\\NDVI_108_python_param.xls\")\n",
    "pd.DataFrame(param).to_excel(writer,sheet_name='NDVI_108_python_param',na_rep=0,index=False,\\\n",
    "                                   header=['lon','lat','p0','p1','p2','p3','p4','p5'])\n",
    "writer.save()\n",
    "writer.close()"
   ]
  },
  {
   "cell_type": "code",
   "execution_count": 6,
   "metadata": {},
   "outputs": [
    {
     "name": "stderr",
     "output_type": "stream",
     "text": [
      "d:\\python37\\lib\\site-packages\\scipy\\optimize\\minpack.py:808: OptimizeWarning: Covariance of the parameters could not be estimated\n",
      "  category=OptimizeWarning)\n"
     ]
    },
    {
     "name": "stdout",
     "output_type": "stream",
     "text": [
      "Thread pool execution in 104.60357785224915 seconds\n"
     ]
    }
   ],
   "source": [
    "start_time = time.time()\n",
    "dataset=pd.read_excel(r'D:\\Desktop\\NDVI_test.xls',header=0,sheet_name='NDVI-10884')\n",
    "# dataset = dataset.set_index(['lat','lon'])\n",
    "dataset=np.array(dataset)\n",
    "data_lon_lat=dataset[:,0:2]\n",
    "data=dataset[:,2::]\n",
    "param=get_python_param(data)\n",
    "\n",
    "print(\"Thread pool execution in \" + str(time.time() - start_time), \"seconds\")\n",
    "writer = pd.ExcelWriter(r\"D:\\Desktop\\NDVI_10884_python_param.xls\")\n",
    "pd.DataFrame(param).to_excel(writer,sheet_name='NDVI_10884_python_param',na_rep=0,index=False,\\\n",
    "                                   header=['lon','lat','p0','p1','p2','p3','p4','p5'])\n",
    "writer.save()\n",
    "writer.close()"
   ]
  },
  {
   "cell_type": "code",
   "execution_count": null,
   "metadata": {},
   "outputs": [],
   "source": []
  }
 ],
 "metadata": {
  "kernelspec": {
   "display_name": "Python 3",
   "language": "python",
   "name": "python3"
  },
  "language_info": {
   "codemirror_mode": {
    "name": "ipython",
    "version": 3
   },
   "file_extension": ".py",
   "mimetype": "text/x-python",
   "name": "python",
   "nbconvert_exporter": "python",
   "pygments_lexer": "ipython3",
   "version": "3.7.9"
  }
 },
 "nbformat": 4,
 "nbformat_minor": 4
}

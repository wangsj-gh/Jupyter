{
 "cells": [
  {
   "cell_type": "code",
   "execution_count": 1,
   "metadata": {},
   "outputs": [],
   "source": [
    "import numpy as np\n",
    "import pandas as pd\n",
    "from scipy.optimize import curve_fit\n",
    "import time"
   ]
  },
  {
   "cell_type": "code",
   "execution_count": 5,
   "metadata": {},
   "outputs": [],
   "source": [
    "def func(x, m1, m2, m3, m4, m5, m6):\n",
    "    return m1 + m2 /(1 + np.exp(m3*m4 -m3*x)) - m2/(1 + np.exp(m5 *m6-m5*x))\n",
    "\n",
    "#注意初值\n",
    "def DofittingandValidation(yData, xData):\n",
    "    Parameters, pcov = curve_fit(func, xData, yData, p0=[5,40,0.1,140,0.1,270], maxfev=80)#,method='trf', maxfev=1000000)\n",
    "    return Parameters\n",
    "\n",
    "#注意时间序列\n",
    "def get_python_param(data_lon_lat,data):\n",
    "\n",
    "    pars=[]\n",
    "    for i in range(data.shape[0]):\n",
    "        lon_lat=data_lon_lat[i]\n",
    "        yData = data[i,:]\n",
    "        \n",
    "        timeDims=yData.size\n",
    "        xData=4 * (np.array(list(range(timeDims)))) + 1\n",
    "        \n",
    "        index=np.where(yData!=-9)\n",
    "        yData=yData[index]\n",
    "        xData=xData[index]\n",
    "\n",
    "        if yData.size==0:\n",
    "            continue\n",
    "        else:\n",
    "            try:\n",
    "                Parameters, pcov = curve_fit(func, xData, yData, p0=[5,40,0.1,140,0.1,270], maxfev=80)\n",
    "            except RuntimeError: \n",
    "                continue\n",
    "        pars_ = Parameters \n",
    "        x=np.hstack((lon_lat,pars_))\n",
    "        pars.append(x)\n",
    "    return np.array(pars)"
   ]
  },
  {
   "cell_type": "code",
   "execution_count": 6,
   "metadata": {},
   "outputs": [
    {
     "name": "stderr",
     "output_type": "stream",
     "text": [
      "C:\\Users\\wangsj\\AppData\\Local\\Temp/ipykernel_16176/2676896609.py:2: RuntimeWarning: overflow encountered in exp\n",
      "  return m1 + m2 /(1 + np.exp(m3*m4 -m3*x)) - m2/(1 + np.exp(m5 *m6-m5*x))\n"
     ]
    },
    {
     "name": "stdout",
     "output_type": "stream",
     "text": [
      "Thread pool execution in 24.847309827804565 seconds\n"
     ]
    },
    {
     "name": "stderr",
     "output_type": "stream",
     "text": [
      "D:\\Miniconda3\\lib\\site-packages\\IPython\\core\\interactiveshell.py:3361: FutureWarning: As the xlwt package is no longer maintained, the xlwt engine will be removed in a future version of pandas. This is the only engine in pandas that supports writing in the xls format. Install openpyxl and write to an xlsx file instead. You can set the option io.excel.xls.writer to 'xlwt' to silence this warning. While this option is deprecated and will also raise a warning, it can be globally set and the warning suppressed.\n",
      "  if (await self.run_code(code, result,  async_=asy)):\n"
     ]
    }
   ],
   "source": [
    "start_time = time.time()\n",
    "\n",
    "dataset=pd.read_excel(r'D:\\Desktop\\mypaper\\version20\\LAI\\remove_outler\\LAI_remove_array.xls')#,sheet_name='Sheet1'\n",
    "# dataset = dataset.set_index(['lat','lon'])\n",
    "dataset=np.array(dataset)\n",
    "\n",
    "data_lon_lat=dataset[:,0:2]\n",
    "data=dataset[:,2::]\n",
    "\n",
    "param=get_python_param(data_lon_lat,data)\n",
    "print(\"Thread pool execution in \" + str(time.time() - start_time), \"seconds\")\n",
    "\n",
    "writer = pd.ExcelWriter(r\"D:\\Desktop\\mypaper\\version20\\LAI\\remove_outler\\LAI_remove_array_param_python_limit_80.xls\")\n",
    "\n",
    "pd.DataFrame(param).to_excel(writer,na_rep=0,index=False,\\\n",
    "                                   header=['lon','lat','p0','p1','p2','p3','p4','p5'])\n",
    "writer.save()\n",
    "writer.close()\n"
   ]
  },
  {
   "cell_type": "code",
   "execution_count": null,
   "metadata": {},
   "outputs": [],
   "source": []
  }
 ],
 "metadata": {
  "kernelspec": {
   "display_name": "Python 3 (ipykernel)",
   "language": "python",
   "name": "python3"
  },
  "language_info": {
   "codemirror_mode": {
    "name": "ipython",
    "version": 3
   },
   "file_extension": ".py",
   "mimetype": "text/x-python",
   "name": "python",
   "nbconvert_exporter": "python",
   "pygments_lexer": "ipython3",
   "version": "3.9.1"
  }
 },
 "nbformat": 4,
 "nbformat_minor": 4
}

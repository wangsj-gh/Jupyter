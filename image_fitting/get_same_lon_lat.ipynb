{
 "cells": [
  {
   "cell_type": "code",
   "execution_count": 1,
   "id": "8b432dba",
   "metadata": {},
   "outputs": [],
   "source": [
    "import numpy as np\n",
    "import pandas as pd"
   ]
  },
  {
   "cell_type": "code",
   "execution_count": 2,
   "id": "0ce2655a",
   "metadata": {},
   "outputs": [],
   "source": [
    "python=pd.read_excel(r'D:\\Desktop\\mypaper\\version20\\NDVI\\NDVI_param_python_item.xls',header=0)\n",
    "gee=pd.read_excel(r'D:\\Desktop\\mypaper\\version20\\NDVI\\NDVI_param_gee_item.xls',header=0)\n",
    "\n",
    "p_python=np.array(python)\n",
    "p_gee=np.array(gee)"
   ]
  },
  {
   "cell_type": "code",
   "execution_count": 3,
   "id": "2f37fc58",
   "metadata": {},
   "outputs": [
    {
     "name": "stderr",
     "output_type": "stream",
     "text": [
      "D:\\Miniconda3\\lib\\site-packages\\IPython\\core\\interactiveshell.py:3361: FutureWarning: As the xlwt package is no longer maintained, the xlwt engine will be removed in a future version of pandas. This is the only engine in pandas that supports writing in the xls format. Install openpyxl and write to an xlsx file instead. You can set the option io.excel.xls.writer to 'xlwt' to silence this warning. While this option is deprecated and will also raise a warning, it can be globally set and the warning suppressed.\n",
      "  if (await self.run_code(code, result,  async_=asy)):\n"
     ]
    }
   ],
   "source": [
    "result=[]\n",
    "for i in range(p_python.shape[0]):\n",
    "    for j in range(p_gee.shape[0]):\n",
    "        \n",
    "        if (p_python[i,0]==p_gee[j,0]) & (p_python[i,1]==p_gee[j,1]):\n",
    "            data=np.hstack((p_python[i,::],p_gee[j,2::]))\n",
    "            result.append(data)\n",
    "\n",
    "writer = pd.ExcelWriter(r\"D:\\Desktop\\mypaper\\version20\\NDVI\\same_param1.xls\")\n",
    "pd.DataFrame(result).to_excel(writer,na_rep=0,index=False,\\\n",
    "    header=['lon','lat','python_p0','python_p1','python_p2','python_p3','python_p4','python_p5','python_item',\\\n",
    "           'gee_p0','gee_p1','gee_p2','gee_p3','gee_p4','gee_p5','gee_item'])\n",
    "writer.save()\n",
    "writer.close()"
   ]
  },
  {
   "cell_type": "code",
   "execution_count": null,
   "id": "2bd74b80",
   "metadata": {},
   "outputs": [],
   "source": []
  },
  {
   "cell_type": "code",
   "execution_count": null,
   "id": "4e068f9f",
   "metadata": {},
   "outputs": [],
   "source": []
  },
  {
   "cell_type": "code",
   "execution_count": null,
   "id": "92b1451e",
   "metadata": {},
   "outputs": [],
   "source": []
  },
  {
   "cell_type": "code",
   "execution_count": null,
   "id": "e2b50164",
   "metadata": {},
   "outputs": [],
   "source": []
  }
 ],
 "metadata": {
  "kernelspec": {
   "display_name": "Python 3 (ipykernel)",
   "language": "python",
   "name": "python3"
  },
  "language_info": {
   "codemirror_mode": {
    "name": "ipython",
    "version": 3
   },
   "file_extension": ".py",
   "mimetype": "text/x-python",
   "name": "python",
   "nbconvert_exporter": "python",
   "pygments_lexer": "ipython3",
   "version": "3.9.1"
  }
 },
 "nbformat": 4,
 "nbformat_minor": 5
}

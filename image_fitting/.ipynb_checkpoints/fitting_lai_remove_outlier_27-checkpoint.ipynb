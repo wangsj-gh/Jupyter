{
 "cells": [
  {
   "cell_type": "code",
   "execution_count": 1,
   "metadata": {},
   "outputs": [],
   "source": [
    "import numpy as np\n",
    "import pandas as pd\n",
    "from scipy.optimize import curve_fit\n",
    "import time"
   ]
  },
  {
   "cell_type": "code",
   "execution_count": 2,
   "metadata": {},
   "outputs": [],
   "source": [
    "def func(x, m1, m2, m3, m4, m5, m6):\n",
    "    return m1 + m2 /(1 + np.exp(m3*m4 -m3*x)) - m2/(1 + np.exp(m5 *m6-m5*x))\n",
    "\n",
    "#注意初值\n",
    "def DofittingandValidation(yData, xData):\n",
    "    Parameters, pcov = curve_fit(func, xData, yData, p0=[5,40,0.1,140,0.1,270], maxfev=80)#,method='trf', maxfev=1000000)\n",
    "    return Parameters\n",
    "\n",
    "#注意时间序列\n",
    "def get_python_param(data_lon_lat,data):\n",
    "\n",
    "    pars=[]\n",
    "    for i in range(data.shape[0]):\n",
    "        lon_lat=data_lon_lat[i]\n",
    "        yData = data[i,:]\n",
    "        \n",
    "        p0=np.percentile(yData, 5)\n",
    "        maxy=np.percentile(yData, 95)\n",
    "        p1=(maxy-p0)\n",
    "        \n",
    "        p2=0.05\n",
    "        \n",
    "        p3=Greenup[i]\n",
    "        p5=Dormancy[i]\n",
    "        \n",
    "        timeDims=yData.size\n",
    "        xData=4 * (np.array(list(range(timeDims)))) + 1\n",
    "        \n",
    "        index=np.where(yData!=-9)\n",
    "        yData=yData[index]\n",
    "        xData=xData[index]\n",
    "\n",
    "        if yData.size==0:\n",
    "            continue\n",
    "        else:\n",
    "            try:\n",
    "                Parameters, pcov = curve_fit(func, xData, yData, p0=[p0,p1,p2,p3,p2,p5], maxfev=80)\n",
    "            except RuntimeError: \n",
    "                continue\n",
    "        pars_ = Parameters \n",
    "        x=np.hstack((lon_lat,pars_))\n",
    "        pars.append(x)\n",
    "    return np.array(pars)"
   ]
  },
  {
   "cell_type": "code",
   "execution_count": 3,
   "metadata": {},
   "outputs": [
    {
     "ename": "IndexError",
     "evalue": "too many indices for array: array is 1-dimensional, but 2 were indexed",
     "output_type": "error",
     "traceback": [
      "\u001b[1;31m---------------------------------------------------------------------------\u001b[0m",
      "\u001b[1;31mIndexError\u001b[0m                                Traceback (most recent call last)",
      "\u001b[1;32m~\\AppData\\Local\\Temp/ipykernel_14612/2353294929.py\u001b[0m in \u001b[0;36m<module>\u001b[1;34m\u001b[0m\n\u001b[0;32m     13\u001b[0m \u001b[0mdata\u001b[0m\u001b[1;33m=\u001b[0m\u001b[0mdataset\u001b[0m\u001b[1;33m[\u001b[0m\u001b[1;33m:\u001b[0m\u001b[1;33m,\u001b[0m\u001b[1;36m2\u001b[0m\u001b[1;33m:\u001b[0m\u001b[1;33m:\u001b[0m\u001b[1;33m]\u001b[0m\u001b[1;33m\u001b[0m\u001b[1;33m\u001b[0m\u001b[0m\n\u001b[0;32m     14\u001b[0m \u001b[1;33m\u001b[0m\u001b[0m\n\u001b[1;32m---> 15\u001b[1;33m \u001b[0mparam\u001b[0m\u001b[1;33m=\u001b[0m\u001b[0mget_python_param\u001b[0m\u001b[1;33m(\u001b[0m\u001b[0mdata_lon_lat\u001b[0m\u001b[1;33m,\u001b[0m\u001b[0mdata\u001b[0m\u001b[1;33m)\u001b[0m\u001b[1;33m\u001b[0m\u001b[1;33m\u001b[0m\u001b[0m\n\u001b[0m\u001b[0;32m     16\u001b[0m \u001b[0mprint\u001b[0m\u001b[1;33m(\u001b[0m\u001b[1;34m\"Thread pool execution in \"\u001b[0m \u001b[1;33m+\u001b[0m \u001b[0mstr\u001b[0m\u001b[1;33m(\u001b[0m\u001b[0mtime\u001b[0m\u001b[1;33m.\u001b[0m\u001b[0mtime\u001b[0m\u001b[1;33m(\u001b[0m\u001b[1;33m)\u001b[0m \u001b[1;33m-\u001b[0m \u001b[0mstart_time\u001b[0m\u001b[1;33m)\u001b[0m\u001b[1;33m,\u001b[0m \u001b[1;34m\"seconds\"\u001b[0m\u001b[1;33m)\u001b[0m\u001b[1;33m\u001b[0m\u001b[1;33m\u001b[0m\u001b[0m\n\u001b[0;32m     17\u001b[0m \u001b[1;33m\u001b[0m\u001b[0m\n",
      "\u001b[1;32m~\\AppData\\Local\\Temp/ipykernel_14612/2751775671.py\u001b[0m in \u001b[0;36mget_python_param\u001b[1;34m(data_lon_lat, data)\u001b[0m\n\u001b[0;32m     21\u001b[0m         \u001b[0mp2\u001b[0m\u001b[1;33m=\u001b[0m\u001b[1;36m0.05\u001b[0m\u001b[1;33m\u001b[0m\u001b[1;33m\u001b[0m\u001b[0m\n\u001b[0;32m     22\u001b[0m \u001b[1;33m\u001b[0m\u001b[0m\n\u001b[1;32m---> 23\u001b[1;33m         \u001b[0mp3\u001b[0m\u001b[1;33m=\u001b[0m\u001b[0mGreenup\u001b[0m\u001b[1;33m[\u001b[0m\u001b[0mi\u001b[0m\u001b[1;33m,\u001b[0m\u001b[1;33m:\u001b[0m\u001b[1;33m]\u001b[0m\u001b[1;33m\u001b[0m\u001b[1;33m\u001b[0m\u001b[0m\n\u001b[0m\u001b[0;32m     24\u001b[0m         \u001b[0mp5\u001b[0m\u001b[1;33m=\u001b[0m\u001b[0mDormancy\u001b[0m\u001b[1;33m[\u001b[0m\u001b[0mi\u001b[0m\u001b[1;33m,\u001b[0m\u001b[1;33m:\u001b[0m\u001b[1;33m]\u001b[0m\u001b[1;33m\u001b[0m\u001b[1;33m\u001b[0m\u001b[0m\n\u001b[0;32m     25\u001b[0m \u001b[1;33m\u001b[0m\u001b[0m\n",
      "\u001b[1;31mIndexError\u001b[0m: too many indices for array: array is 1-dimensional, but 2 were indexed"
     ]
    }
   ],
   "source": [
    "start_time = time.time()\n",
    "\n",
    "dataset=pd.read_excel(r'D:\\Desktop\\mypaper\\version20\\LAI\\remove_outler\\LAI_remove_array.xls')#,sheet_name='Sheet1'\n",
    "# dataset = dataset.set_index(['lat','lon'])\n",
    "dataset=np.array(dataset)\n",
    "\n",
    "Dormancy_mean=pd.read_excel(r'D:\\Desktop\\mypaper\\version20\\LAI\\multiply27_intial_value\\Dormancy_mean.xls')\n",
    "Greenup_mean=pd.read_excel(r'D:\\Desktop\\mypaper\\version20\\LAI\\multiply27_intial_value\\Greenup_mean.xls')\n",
    "Dormancy=np.array(Dormancy_mean)[:,2]\n",
    "Greenup=np.array(Greenup_mean)[:,2]\n",
    "\n",
    "data_lon_lat=dataset[:,0:2]\n",
    "data=dataset[:,2::]\n",
    "\n",
    "param=get_python_param(data_lon_lat,data)\n",
    "print(\"Thread pool execution in \" + str(time.time() - start_time), \"seconds\")\n",
    "\n",
    "writer = pd.ExcelWriter(r\"D:\\Desktop\\mypaper\\version20\\LAI\\multiply27_intial_value\\LAI_remove_array_param_python_limit_80_1.xls\")\n",
    "\n",
    "pd.DataFrame(param).to_excel(writer,na_rep=0,index=False,\\\n",
    "                                   header=['lon','lat','p0','p1','p2','p3','p4','p5'])\n",
    "writer.save()\n",
    "writer.close()\n"
   ]
  },
  {
   "cell_type": "code",
   "execution_count": null,
   "metadata": {},
   "outputs": [],
   "source": []
  }
 ],
 "metadata": {
  "kernelspec": {
   "display_name": "Python 3 (ipykernel)",
   "language": "python",
   "name": "python3"
  },
  "language_info": {
   "codemirror_mode": {
    "name": "ipython",
    "version": 3
   },
   "file_extension": ".py",
   "mimetype": "text/x-python",
   "name": "python",
   "nbconvert_exporter": "python",
   "pygments_lexer": "ipython3",
   "version": "3.9.1"
  }
 },
 "nbformat": 4,
 "nbformat_minor": 4
}

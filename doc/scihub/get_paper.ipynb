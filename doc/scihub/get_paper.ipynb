{
 "cells": [
  {
   "cell_type": "code",
   "execution_count": 1,
   "id": "2c2f7f31",
   "metadata": {},
   "outputs": [
    {
     "name": "stdout",
     "output_type": "stream",
     "text": [
      "D:\\wangsj\\Jupyter\\scihub\\scihub-cn-master\n"
     ]
    }
   ],
   "source": [
    "import os\n",
    "os.chdir('D:\\wangsj\\Jupyter\\scihub\\scihub-cn-master')\n",
    "print(os.getcwd())\n",
    "\n",
    "# https://pythondict.com/life-intelligent/tools/python-paper-downloader/"
   ]
  },
  {
   "cell_type": "code",
   "execution_count": 2,
   "id": "4726bee7",
   "metadata": {},
   "outputs": [],
   "source": [
    "from scihub import SciHub"
   ]
  },
  {
   "cell_type": "code",
   "execution_count": 3,
   "id": "a759f031",
   "metadata": {},
   "outputs": [],
   "source": [
    "sh = SciHub()"
   ]
  },
  {
   "cell_type": "code",
   "execution_count": 5,
   "id": "0316e547",
   "metadata": {},
   "outputs": [
    {
     "name": "stderr",
     "output_type": "stream",
     "text": [
      "D:\\Miniconda3\\lib\\site-packages\\urllib3\\connectionpool.py:1013: InsecureRequestWarning: Unverified HTTPS request is being made to host 'sci-hub.se'. Adding certificate verification is strongly advised. See: https://urllib3.readthedocs.io/en/1.26.x/advanced-usage.html#ssl-warnings\n",
      "  warnings.warn(\n",
      "INFO:Sci-Hub:获取 http://sci-hub.se/10.1016/j.compeleceng.2020.106640 中...\n",
      "D:\\Miniconda3\\lib\\site-packages\\urllib3\\connectionpool.py:1013: InsecureRequestWarning: Unverified HTTPS request is being made to host 'sci-hub.se'. Adding certificate verification is strongly advised. See: https://urllib3.readthedocs.io/en/1.26.x/advanced-usage.html#ssl-warnings\n",
      "  warnings.warn(\n"
     ]
    }
   ],
   "source": [
    "result = sh.download('10.1016/j.compeleceng.2020.106640', path='D:\\Desktop\\paper.pdf')"
   ]
  },
  {
   "cell_type": "code",
   "execution_count": null,
   "id": "933d490c",
   "metadata": {},
   "outputs": [],
   "source": []
  }
 ],
 "metadata": {
  "kernelspec": {
   "display_name": "Python 3 (ipykernel)",
   "language": "python",
   "name": "python3"
  },
  "language_info": {
   "codemirror_mode": {
    "name": "ipython",
    "version": 3
   },
   "file_extension": ".py",
   "mimetype": "text/x-python",
   "name": "python",
   "nbconvert_exporter": "python",
   "pygments_lexer": "ipython3",
   "version": "3.9.1"
  }
 },
 "nbformat": 4,
 "nbformat_minor": 5
}

{
 "cells": [
  {
   "cell_type": "code",
   "execution_count": 1,
   "id": "b1de22f8",
   "metadata": {},
   "outputs": [
    {
     "data": {
      "text/plain": [
       "<KeysViewHDF5 ['ANCILLARY', 'BEAM0000', 'BEAM0001', 'BEAM0010', 'BEAM0011', 'BEAM0101', 'BEAM0110', 'BEAM1000', 'BEAM1011', 'METADATA']>"
      ]
     },
     "execution_count": 1,
     "metadata": {},
     "output_type": "execute_result"
    }
   ],
   "source": [
    "import h5py\n",
    "import numpy as np\n",
    "import pandas as pd\n",
    "import geopandas as gpd\n",
    "import contextily as ctx\n",
    "hf = h5py.File('D:\\Desktop\\download\\GEDI04_A_2020222112315_O09396_T02813_02_001_01.h5', 'r')\n",
    "hf.keys()"
   ]
  },
  {
   "cell_type": "code",
   "execution_count": 2,
   "id": "b24016fc",
   "metadata": {},
   "outputs": [
    {
     "data": {
      "text/plain": [
       "<KeysViewHDF5 ['agbd', 'agbd_pi_lower', 'agbd_pi_upper', 'agbd_prediction', 'agbd_se', 'agbd_t', 'agbd_t_se', 'algorithm_run_flag', 'beam', 'channel', 'degrade_flag', 'delta_time', 'elev_lowestmode', 'geolocation', 'l2_quality_flag', 'l4_quality_flag', 'land_cover_data', 'lat_lowestmode', 'lon_lowestmode', 'master_frac', 'master_int', 'predict_stratum', 'predictor_limit_flag', 'response_limit_flag', 'selected_algorithm', 'selected_mode', 'selected_mode_flag', 'sensitivity', 'shot_number', 'solar_elevation', 'surface_flag', 'xvar']>"
      ]
     },
     "execution_count": 2,
     "metadata": {},
     "output_type": "execute_result"
    }
   ],
   "source": [
    "beam0110 = hf.get('BEAM0110')\n",
    "beam0110.keys()"
   ]
  },
  {
   "cell_type": "code",
   "execution_count": 3,
   "id": "a3c382dc",
   "metadata": {},
   "outputs": [
    {
     "data": {
      "text/html": [
       "<div>\n",
       "<style scoped>\n",
       "    .dataframe tbody tr th:only-of-type {\n",
       "        vertical-align: middle;\n",
       "    }\n",
       "\n",
       "    .dataframe tbody tr th {\n",
       "        vertical-align: top;\n",
       "    }\n",
       "\n",
       "    .dataframe thead th {\n",
       "        text-align: right;\n",
       "    }\n",
       "</style>\n",
       "<table border=\"1\" class=\"dataframe\">\n",
       "  <thead>\n",
       "    <tr style=\"text-align: right;\">\n",
       "      <th></th>\n",
       "      <th>beam</th>\n",
       "      <th>lat_lowestmode</th>\n",
       "      <th>lon_lowestmode</th>\n",
       "      <th>agbd_se_n</th>\n",
       "    </tr>\n",
       "  </thead>\n",
       "  <tbody>\n",
       "    <tr>\n",
       "      <th>0</th>\n",
       "      <td>BEAM0000</td>\n",
       "      <td>-45.172707</td>\n",
       "      <td>-98.378090</td>\n",
       "      <td>-9999.0</td>\n",
       "    </tr>\n",
       "    <tr>\n",
       "      <th>1</th>\n",
       "      <td>BEAM0000</td>\n",
       "      <td>-45.172579</td>\n",
       "      <td>-98.377777</td>\n",
       "      <td>-9999.0</td>\n",
       "    </tr>\n",
       "    <tr>\n",
       "      <th>2</th>\n",
       "      <td>BEAM0000</td>\n",
       "      <td>-45.172452</td>\n",
       "      <td>-98.377463</td>\n",
       "      <td>-9999.0</td>\n",
       "    </tr>\n",
       "    <tr>\n",
       "      <th>3</th>\n",
       "      <td>BEAM0000</td>\n",
       "      <td>-45.172324</td>\n",
       "      <td>-98.377149</td>\n",
       "      <td>-9999.0</td>\n",
       "    </tr>\n",
       "    <tr>\n",
       "      <th>4</th>\n",
       "      <td>BEAM0000</td>\n",
       "      <td>-45.172197</td>\n",
       "      <td>-98.376835</td>\n",
       "      <td>-9999.0</td>\n",
       "    </tr>\n",
       "    <tr>\n",
       "      <th>...</th>\n",
       "      <td>...</td>\n",
       "      <td>...</td>\n",
       "      <td>...</td>\n",
       "      <td>...</td>\n",
       "    </tr>\n",
       "    <tr>\n",
       "      <th>4438034</th>\n",
       "      <td>BEAM1011</td>\n",
       "      <td>-47.033871</td>\n",
       "      <td>171.189482</td>\n",
       "      <td>-9999.0</td>\n",
       "    </tr>\n",
       "    <tr>\n",
       "      <th>4438035</th>\n",
       "      <td>BEAM1011</td>\n",
       "      <td>-47.034095</td>\n",
       "      <td>171.190154</td>\n",
       "      <td>-9999.0</td>\n",
       "    </tr>\n",
       "    <tr>\n",
       "      <th>4438036</th>\n",
       "      <td>BEAM1011</td>\n",
       "      <td>-47.034319</td>\n",
       "      <td>171.190826</td>\n",
       "      <td>-9999.0</td>\n",
       "    </tr>\n",
       "    <tr>\n",
       "      <th>4438037</th>\n",
       "      <td>BEAM1011</td>\n",
       "      <td>-47.034543</td>\n",
       "      <td>171.191498</td>\n",
       "      <td>-9999.0</td>\n",
       "    </tr>\n",
       "    <tr>\n",
       "      <th>4438038</th>\n",
       "      <td>BEAM1011</td>\n",
       "      <td>-47.034767</td>\n",
       "      <td>171.192170</td>\n",
       "      <td>-9999.0</td>\n",
       "    </tr>\n",
       "  </tbody>\n",
       "</table>\n",
       "<p>4438039 rows × 4 columns</p>\n",
       "</div>"
      ],
      "text/plain": [
       "             beam  lat_lowestmode  lon_lowestmode  agbd_se_n\n",
       "0        BEAM0000      -45.172707      -98.378090    -9999.0\n",
       "1        BEAM0000      -45.172579      -98.377777    -9999.0\n",
       "2        BEAM0000      -45.172452      -98.377463    -9999.0\n",
       "3        BEAM0000      -45.172324      -98.377149    -9999.0\n",
       "4        BEAM0000      -45.172197      -98.376835    -9999.0\n",
       "...           ...             ...             ...        ...\n",
       "4438034  BEAM1011      -47.033871      171.189482    -9999.0\n",
       "4438035  BEAM1011      -47.034095      171.190154    -9999.0\n",
       "4438036  BEAM1011      -47.034319      171.190826    -9999.0\n",
       "4438037  BEAM1011      -47.034543      171.191498    -9999.0\n",
       "4438038  BEAM1011      -47.034767      171.192170    -9999.0\n",
       "\n",
       "[4438039 rows x 4 columns]"
      ]
     },
     "execution_count": 3,
     "metadata": {},
     "output_type": "execute_result"
    }
   ],
   "source": [
    "lat_l = []\n",
    "lon_l = []\n",
    "beam_n = []\n",
    "agbd_se_n=[]\n",
    "for var in list(hf.keys()):\n",
    "    if var.startswith('BEAM'):\n",
    "        beam = hf.get(var)\n",
    "        lat = beam.get('lat_lowestmode')[:]\n",
    "        lon = beam.get('lon_lowestmode')[:]\n",
    "        agbd_se=beam.get('agbd_se')[:]\n",
    "        lat_l.extend(lat.tolist()) # latitude\n",
    "        lon_l.extend(lon.tolist()) # longitude\n",
    "        agbd_se_n.extend(agbd_se.tolist())\n",
    "        n = lat.shape[0] # number of shots in the beam group\n",
    "        beam_n.extend(np.repeat(str(var), n).tolist())\n",
    "geo_arr = list(zip(beam_n,lat_l,lon_l,agbd_se_n))\n",
    "l4adf = pd.DataFrame(geo_arr, columns=[\"beam\", \"lat_lowestmode\", \"lon_lowestmode\",\"agbd_se_n\"])\n",
    "l4adf"
   ]
  },
  {
   "cell_type": "code",
   "execution_count": null,
   "id": "7659f051",
   "metadata": {},
   "outputs": [],
   "source": [
    "l4agdf = gpd.GeoDataFrame(l4adf, geometry=gpd.points_from_xy(l4adf.lon_lowestmode, l4adf.lat_lowestmode))\n",
    "l4agdf.crs = \"EPSG:4326\"\n",
    "l4agdf_gsrm = l4agdf[l4agdf['geometry'].within(l4agdf.geometry[0])]    \n",
    "l4agdf_gsrm"
   ]
  },
  {
   "cell_type": "code",
   "execution_count": null,
   "id": "938785cd",
   "metadata": {},
   "outputs": [],
   "source": [
    "l4agdf_gsrm_epsg3857 = l4agdf_gsrm.to_crs(epsg=3857)\n",
    "ax2=l4agdf_gsrm_epsg3857.plot(column='agbd_se_n', legend=True, figsize=(10, 8))\n",
    "ctx.add_basemap(ax2)"
   ]
  },
  {
   "cell_type": "code",
   "execution_count": null,
   "id": "41601b22",
   "metadata": {},
   "outputs": [],
   "source": [
    "minx1, miny1, maxx1, maxy1 = [-9290000, 4237500, -9285500, 4242500]\n",
    "ax3=l4agdf_gsrm_epsg3857.plot(column='agbd_se_n', legend=True, figsize=(8, 10))\n",
    "ax3.set_xlim(minx1, maxx1)\n",
    "ax3.set_ylim(miny1, maxy1)\n",
    "ctx.add_basemap(ax3)\n",
    "\n",
    "# close the opened hdf5 file\n",
    "hf.close()"
   ]
  },
  {
   "cell_type": "code",
   "execution_count": null,
   "id": "c997ffa8",
   "metadata": {},
   "outputs": [],
   "source": []
  }
 ],
 "metadata": {
  "kernelspec": {
   "display_name": "Python 3 (ipykernel)",
   "language": "python",
   "name": "python3"
  },
  "language_info": {
   "codemirror_mode": {
    "name": "ipython",
    "version": 3
   },
   "file_extension": ".py",
   "mimetype": "text/x-python",
   "name": "python",
   "nbconvert_exporter": "python",
   "pygments_lexer": "ipython3",
   "version": "3.9.1"
  }
 },
 "nbformat": 4,
 "nbformat_minor": 5
}

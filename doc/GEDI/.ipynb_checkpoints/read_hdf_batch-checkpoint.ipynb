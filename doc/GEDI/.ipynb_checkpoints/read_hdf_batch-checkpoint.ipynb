{
 "cells": [
  {
   "cell_type": "code",
   "execution_count": 1,
   "id": "14af1c50",
   "metadata": {},
   "outputs": [],
   "source": [
    "from glob import glob\n",
    "from os import path\n",
    "import h5py\n",
    "import numpy as np\n",
    "import pandas as pd\n",
    "import geopandas as gpd\n",
    "import contextily as ctx"
   ]
  },
  {
   "cell_type": "code",
   "execution_count": null,
   "id": "db3bb9ad",
   "metadata": {},
   "outputs": [],
   "source": [
    "indir = 'D:\\Desktop\\sichuan\\download'\n",
    "outdir = 'D:\\Desktop\\sichuan\\subsets'\n",
    "grsm_poly = gpd.read_file('D:\\Desktop\\sichuan\\intial\\Sichuan.shp')\n",
    "grsm_poly.crs=\"EPSG:26917\"\n",
    "# # converting to WGS84 coordinate system\n",
    "grsm_epsg4326 = grsm_poly.to_crs(epsg=4326)\n",
    "\n",
    "for infile in glob(path.join(indir, '*.h5')):\n",
    "    outfile = path.join(outdir, path.basename(infile))\n",
    "    hf_in = h5py.File(infile, 'r')\n",
    "    hf_out = h5py.File(outfile, 'w')\n",
    "    \n",
    "    # copy ANCILLARY and METADATA groups\n",
    "    var1 = [\"/ANCILLARY\", \"/METADATA\"]\n",
    "    for v in var1:\n",
    "        hf_in.copy(hf_in[v],hf_out)\n",
    "    \n",
    "    # loop through BEAMXXXX groups\n",
    "    for v in list(hf_in.keys()):\n",
    "        if v.startswith('BEAM'):\n",
    "            beam = hf_in[v]\n",
    "            # find the shots that overlays the area of interest (GRSM)\n",
    "            lat = beam['lat_lowestmode'][:]\n",
    "            lon = beam['lon_lowestmode'][:]\n",
    "            i = np.arange(0, len(lat), 1) # index\n",
    "            geo_arr = list(zip(lat,lon, i))\n",
    "            l4adf = pd.DataFrame(geo_arr, columns=[\"lat_lowestmode\", \"lon_lowestmode\", \"i\"])\n",
    "            l4agdf = gpd.GeoDataFrame(l4adf, geometry=gpd.points_from_xy(l4adf.lon_lowestmode, l4adf.lat_lowestmode))\n",
    "            l4agdf.crs = \"EPSG:4326\"\n",
    "            l4agdf_gsrm = l4agdf[l4agdf['geometry'].within(grsm_epsg4326.geometry[0])]  \n",
    "            indices = l4agdf_gsrm.i\n",
    "\n",
    "            # copy BEAMS to the output file\n",
    "            for key, value in beam.items():\n",
    "                if isinstance(value, h5py.Group):\n",
    "                    for key2, value2 in value.items():\n",
    "                        group_path = value2.parent.name\n",
    "                        group_id = hf_out.require_group(group_path)\n",
    "                        dataset_path = group_path + '/' + key2\n",
    "                        hf_out.create_dataset(dataset_path, data=value2[:][indices])\n",
    "                        for attr in value2.attrs.keys():\n",
    "                            hf_out[dataset_path].attrs[attr] = value2.attrs[attr]\n",
    "                else:\n",
    "                    group_path = value.parent.name\n",
    "                    group_id = hf_out.require_group(group_path)\n",
    "                    dataset_path = group_path + '/' + key\n",
    "                    hf_out.create_dataset(dataset_path, data=value[:][indices])\n",
    "                    for attr in value.attrs.keys():\n",
    "                        hf_out[dataset_path].attrs[attr] = value.attrs[attr]\n",
    "\n",
    "    hf_in.close()\n",
    "    hf_out.close()"
   ]
  },
  {
   "cell_type": "code",
   "execution_count": 2,
   "id": "9c93940e",
   "metadata": {},
   "outputs": [
    {
     "ename": "MemoryError",
     "evalue": "",
     "output_type": "error",
     "traceback": [
      "\u001b[1;31m---------------------------------------------------------------------------\u001b[0m",
      "\u001b[1;31mMemoryError\u001b[0m                               Traceback (most recent call last)",
      "\u001b[1;32m~\\AppData\\Local\\Temp/ipykernel_24440/3488240835.py\u001b[0m in \u001b[0;36m<module>\u001b[1;34m\u001b[0m\n\u001b[0;32m     15\u001b[0m             \u001b[0magbd_se\u001b[0m\u001b[1;33m.\u001b[0m\u001b[0mextend\u001b[0m\u001b[1;33m(\u001b[0m\u001b[0mbeam\u001b[0m\u001b[1;33m[\u001b[0m\u001b[1;34m'agbd_se'\u001b[0m\u001b[1;33m]\u001b[0m\u001b[1;33m[\u001b[0m\u001b[1;33m:\u001b[0m\u001b[1;33m]\u001b[0m\u001b[1;33m.\u001b[0m\u001b[0mtolist\u001b[0m\u001b[1;33m(\u001b[0m\u001b[1;33m)\u001b[0m\u001b[1;33m)\u001b[0m\u001b[1;33m\u001b[0m\u001b[1;33m\u001b[0m\u001b[0m\n\u001b[0;32m     16\u001b[0m     \u001b[0mhf_in\u001b[0m\u001b[1;33m.\u001b[0m\u001b[0mclose\u001b[0m\u001b[1;33m(\u001b[0m\u001b[1;33m)\u001b[0m\u001b[1;33m\u001b[0m\u001b[1;33m\u001b[0m\u001b[0m\n\u001b[1;32m---> 17\u001b[1;33m \u001b[0mgeo_arr\u001b[0m \u001b[1;33m=\u001b[0m \u001b[0mlist\u001b[0m\u001b[1;33m(\u001b[0m\u001b[0mzip\u001b[0m\u001b[1;33m(\u001b[0m\u001b[0magbd\u001b[0m\u001b[1;33m,\u001b[0m\u001b[0magbd_se\u001b[0m\u001b[1;33m,\u001b[0m\u001b[0mlat_l\u001b[0m\u001b[1;33m,\u001b[0m\u001b[0mlon_l\u001b[0m\u001b[1;33m)\u001b[0m\u001b[1;33m)\u001b[0m\u001b[1;33m\u001b[0m\u001b[1;33m\u001b[0m\u001b[0m\n\u001b[0m\u001b[0;32m     18\u001b[0m \u001b[0mdf\u001b[0m \u001b[1;33m=\u001b[0m \u001b[0mpd\u001b[0m\u001b[1;33m.\u001b[0m\u001b[0mDataFrame\u001b[0m\u001b[1;33m(\u001b[0m\u001b[0mgeo_arr\u001b[0m\u001b[1;33m,\u001b[0m \u001b[0mcolumns\u001b[0m\u001b[1;33m=\u001b[0m\u001b[1;33m[\u001b[0m\u001b[1;34m\"agbd\"\u001b[0m\u001b[1;33m,\u001b[0m \u001b[1;34m\"agbd_se\"\u001b[0m\u001b[1;33m,\u001b[0m \u001b[1;34m\"lat_lowestmode\"\u001b[0m\u001b[1;33m,\u001b[0m \u001b[1;34m\"lon_lowestmode\"\u001b[0m\u001b[1;33m]\u001b[0m\u001b[1;33m)\u001b[0m\u001b[1;33m\u001b[0m\u001b[1;33m\u001b[0m\u001b[0m\n\u001b[0;32m     19\u001b[0m \u001b[0mgdf\u001b[0m \u001b[1;33m=\u001b[0m \u001b[0mgpd\u001b[0m\u001b[1;33m.\u001b[0m\u001b[0mGeoDataFrame\u001b[0m\u001b[1;33m(\u001b[0m\u001b[0mdf\u001b[0m\u001b[1;33m,\u001b[0m \u001b[0mgeometry\u001b[0m\u001b[1;33m=\u001b[0m\u001b[0mgpd\u001b[0m\u001b[1;33m.\u001b[0m\u001b[0mpoints_from_xy\u001b[0m\u001b[1;33m(\u001b[0m\u001b[0mdf\u001b[0m\u001b[1;33m.\u001b[0m\u001b[0mlon_lowestmode\u001b[0m\u001b[1;33m,\u001b[0m \u001b[0mdf\u001b[0m\u001b[1;33m.\u001b[0m\u001b[0mlat_lowestmode\u001b[0m\u001b[1;33m)\u001b[0m\u001b[1;33m)\u001b[0m\u001b[1;33m\u001b[0m\u001b[1;33m\u001b[0m\u001b[0m\n",
      "\u001b[1;31mMemoryError\u001b[0m: "
     ]
    }
   ],
   "source": [
    "lat_l = []\n",
    "lon_l = []\n",
    "agbd = []\n",
    "agbd_se=[]\n",
    "outdir = 'D:\\Desktop\\sichuan\\subsets'\n",
    "indir = 'D:\\Desktop\\sichuan\\download'\n",
    "\n",
    "for subfile in glob(path.join(indir, '*.h5')):\n",
    "    hf_in = h5py.File(subfile, 'r')\n",
    "    for v in list(hf_in.keys()):\n",
    "        if v.startswith('BEAM'):\n",
    "            beam = hf_in[v]\n",
    "            lat_l.extend(beam['lat_lowestmode'][:].tolist()) \n",
    "            lon_l.extend(beam['lon_lowestmode'][:].tolist()) \n",
    "            agbd.extend(beam['agbd'][:].tolist())\n",
    "            agbd_se.extend(beam['agbd_se'][:].tolist())  \n",
    "    hf_in.close()\n",
    "geo_arr = list(zip(agbd,agbd_se,lat_l,lon_l))\n",
    "df = pd.DataFrame(geo_arr, columns=[\"agbd\", \"agbd_se\", \"lat_lowestmode\", \"lon_lowestmode\"])\n",
    "gdf = gpd.GeoDataFrame(df, geometry=gpd.points_from_xy(df.lon_lowestmode, df.lat_lowestmode))\n",
    "gdf"
   ]
  },
  {
   "cell_type": "code",
   "execution_count": 6,
   "id": "d0ace26c",
   "metadata": {},
   "outputs": [
    {
     "ename": "AttributeError",
     "evalue": "__enter__",
     "output_type": "error",
     "traceback": [
      "\u001b[1;31m---------------------------------------------------------------------------\u001b[0m",
      "\u001b[1;31mAttributeError\u001b[0m                            Traceback (most recent call last)",
      "\u001b[1;32m~\\AppData\\Local\\Temp/ipykernel_24440/445035276.py\u001b[0m in \u001b[0;36m<module>\u001b[1;34m\u001b[0m\n\u001b[0;32m      1\u001b[0m \u001b[0mindir\u001b[0m \u001b[1;33m=\u001b[0m \u001b[1;34m'D:\\Desktop\\sichuan\\download'\u001b[0m\u001b[1;33m\u001b[0m\u001b[1;33m\u001b[0m\u001b[0m\n\u001b[1;32m----> 2\u001b[1;33m \u001b[1;32mwith\u001b[0m \u001b[0mglob\u001b[0m\u001b[1;33m(\u001b[0m\u001b[0mpath\u001b[0m\u001b[1;33m.\u001b[0m\u001b[0mjoin\u001b[0m\u001b[1;33m(\u001b[0m\u001b[0mindir\u001b[0m\u001b[1;33m,\u001b[0m \u001b[1;34m'*.h5'\u001b[0m\u001b[1;33m)\u001b[0m\u001b[1;33m)\u001b[0m \u001b[1;32mas\u001b[0m \u001b[0mf\u001b[0m\u001b[1;33m:\u001b[0m\u001b[1;33m\u001b[0m\u001b[1;33m\u001b[0m\u001b[0m\n\u001b[0m\u001b[0;32m      3\u001b[0m     \u001b[0mprint\u001b[0m\u001b[1;33m(\u001b[0m\u001b[0mf\u001b[0m\u001b[1;33m)\u001b[0m\u001b[1;33m\u001b[0m\u001b[1;33m\u001b[0m\u001b[0m\n",
      "\u001b[1;31mAttributeError\u001b[0m: __enter__"
     ]
    }
   ],
   "source": [
    "indir = 'D:\\Desktop\\sichuan\\download'\n",
    "with glob(path.join(indir, '*.h5')) as f:\n",
    "    for subfile in f:\n",
    "        hf_in = h5py.File(subfile, 'r')\n",
    "        for v in list(hf_in.keys()):\n",
    "            if v.startswith('BEAM'):\n",
    "                beam = hf_in[v]\n",
    "                lat_l.extend(beam['lat_lowestmode'][:].tolist()) \n",
    "                lon_l.extend(beam['lon_lowestmode'][:].tolist()) \n",
    "                agbd.extend(beam['agbd'][:].tolist())\n",
    "                agbd_se.extend(beam['agbd_se'][:].tolist())  \n",
    "        hf_in.close()\n",
    "    geo_arr = list(zip(agbd,agbd_se,lat_l,lon_l))\n",
    "    df = pd.DataFrame(geo_arr, columns=[\"agbd\", \"agbd_se\", \"lat_lowestmode\", \"lon_lowestmode\"])\n",
    "    gdf = gpd.GeoDataFrame(df, geometry=gpd.points_from_xy(df.lon_lowestmode, df.lat_lowestmode))\n",
    "    gdf"
   ]
  },
  {
   "cell_type": "code",
   "execution_count": null,
   "id": "192ac345",
   "metadata": {},
   "outputs": [],
   "source": []
  }
 ],
 "metadata": {
  "kernelspec": {
   "display_name": "Python 3 (ipykernel)",
   "language": "python",
   "name": "python3"
  },
  "language_info": {
   "codemirror_mode": {
    "name": "ipython",
    "version": 3
   },
   "file_extension": ".py",
   "mimetype": "text/x-python",
   "name": "python",
   "nbconvert_exporter": "python",
   "pygments_lexer": "ipython3",
   "version": "3.9.1"
  }
 },
 "nbformat": 4,
 "nbformat_minor": 5
}

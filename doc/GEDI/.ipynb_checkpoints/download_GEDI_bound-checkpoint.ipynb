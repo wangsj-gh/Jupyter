{
 "cells": [
  {
   "cell_type": "code",
   "execution_count": 1,
   "id": "accf7f40",
   "metadata": {},
   "outputs": [],
   "source": [
    "# #!/bin/sh\n",
    "\n",
    "# cd ~\n",
    "# touch .netrc\n",
    "# echo \"machine urs.earthdata.nasa.gov login wangshujian password wsj821100\" > .netrc\n",
    "# chmod 0600 .netrc\n",
    "\n",
    "# cd ~\n",
    "# touch .urs_cookies\n",
    "\n",
    "# wget -P /mnt/d/Desktop/download --load-cookies ~/.urs_cookies --save-cookies ~/.urs_cookies --auth-no-challenge=on --keep-session-cookies --content-disposition -i /mnt/d/Desktop/sichuan1.txt \n"
   ]
  },
  {
   "cell_type": "code",
   "execution_count": 11,
   "id": "9323e172",
   "metadata": {},
   "outputs": [
    {
     "name": "stdout",
     "output_type": "stream",
     "text": [
      "C2107797704-ORNL_DAAC\n"
     ]
    }
   ],
   "source": [
    "import requests\n",
    "\n",
    "doi = '10.3334/ORNLDAAC/1907'# GEDI L4A DOI \n",
    "\n",
    "# CMR API base url\n",
    "cmrurl='https://cmr.earthdata.nasa.gov/search/' \n",
    "\n",
    "doisearch = cmrurl + 'collections.json?doi=' + doi\n",
    "concept_id = requests.get(doisearch).json()['feed']['entry'][0]['id']\n",
    "print(concept_id)"
   ]
  },
  {
   "cell_type": "code",
   "execution_count": 8,
   "id": "c8c619f1",
   "metadata": {},
   "outputs": [],
   "source": [
    "import datetime as dt \n",
    "\n",
    "# Brazil bounding box\n",
    "bound = (73.4466, 6.318,135.0859, 53.5580) \n",
    "\n",
    "# time bound\n",
    "start_date = dt.datetime(2019, 4, 18) # specify your own start date\n",
    "end_date = dt.datetime(2020, 9, 3)  # specify your end start date"
   ]
  },
  {
   "cell_type": "code",
   "execution_count": 12,
   "id": "278a0aa8",
   "metadata": {},
   "outputs": [
    {
     "name": "stdout",
     "output_type": "stream",
     "text": [
      "Total granules found:  3996\n",
      "Total file size (MB):  3271208.3959729997\n"
     ]
    }
   ],
   "source": [
    "import pandas as pd\n",
    "from shapely.geometry import MultiPolygon, Polygon, box\n",
    "\n",
    "# CMR formatted start and end times\n",
    "dt_format = '%Y-%m-%dT%H:%M:%SZ'\n",
    "temporal_str = start_date.strftime(dt_format) + ',' + end_date.strftime(dt_format)\n",
    "\n",
    "# CMR formatted bounding box\n",
    "bound_str = ','.join(map(str, bound))\n",
    "\n",
    "page_num = 1\n",
    "page_size = 2000 # CMR page size limit\n",
    "\n",
    "granule_arr = []\n",
    "\n",
    "while True:\n",
    "    \n",
    "    # defining parameters\n",
    "    cmr_param = {\n",
    "        \"collection_concept_id\": concept_id, \n",
    "        \"page_size\": page_size,\n",
    "        \"page_num\": page_num,\n",
    "        \"temporal\": temporal_str,\n",
    "        \"bounding_box[]\": bound_str\n",
    "    }\n",
    "    \n",
    "    granulesearch = cmrurl + 'granules.json'\n",
    "\n",
    "    response = requests.get(granulesearch, params=cmr_param)\n",
    "    granules = response.json()['feed']['entry']\n",
    "    \n",
    "    if granules:\n",
    "        for g in granules:\n",
    "            granule_url = ''\n",
    "            granule_poly = ''\n",
    "            \n",
    "            # read file size\n",
    "            granule_size = float(g['granule_size'])\n",
    "            \n",
    "            # reading bounding geometries\n",
    "            if 'polygons' in g:\n",
    "                polygons= g['polygons']\n",
    "                multipolygons = []\n",
    "                for poly in polygons:\n",
    "                    i=iter(poly[0].split (\" \"))\n",
    "                    ltln = list(map(\" \".join,zip(i,i)))\n",
    "                    multipolygons.append(Polygon([[float(p.split(\" \")[1]), float(p.split(\" \")[0])] for p in ltln]))\n",
    "                granule_poly = MultiPolygon(multipolygons)\n",
    "            \n",
    "            # Get URL to HDF5 files\n",
    "            for links in g['links']:\n",
    "                if 'title' in links and links['title'].startswith('Download'):\n",
    "                    granule_url = links['href']\n",
    "            granule_arr.append([granule_url, granule_size, granule_poly])\n",
    "               \n",
    "        page_num += 1\n",
    "    else: \n",
    "        break\n",
    "\n",
    "# adding bound as the last row into the dataframe\n",
    "# we will use this later in the plot\n",
    "b = list(bound)\n",
    "granule_arr.append(['bound', 0, box(b[0], b[1], b[2], b[3])]) \n",
    "\n",
    "# creating a pandas dataframe\n",
    "l4adf = pd.DataFrame(granule_arr, columns=[\"granule_url\", \"granule_size\", \"granule_poly\"])\n",
    "\n",
    "# Drop granules with empty geometry\n",
    "l4adf = l4adf[l4adf['granule_poly'] != '']\n",
    "\n",
    "print (\"Total granules found: \", len(l4adf.index)-1)\n",
    "print (\"Total file size (MB): \", l4adf['granule_size'].sum())"
   ]
  },
  {
   "cell_type": "code",
   "execution_count": null,
   "id": "2d8d649d",
   "metadata": {},
   "outputs": [],
   "source": [
    "# import geopandas\n",
    "# gdf = geopandas.GeoDataFrame(l4adf, geometry=l4adf.granule_poly)\n",
    "# world = geopandas.read_file(geopandas.datasets.get_path('naturalearth_lowres'))\n",
    "# base = world.plot(color='white', edgecolor='black', figsize  = (7, 7))\n",
    "\n",
    "# # last row contains the bounding box (Red)\n",
    "# ax= gdf[-1:].plot(ax=base, color='red', edgecolor='red', alpha=0.5)\n",
    "\n",
    "# # all but the last row contains granule bounding geometry (Green)\n",
    "# ax= gdf[:-1].plot(ax=base, color='green', edgecolor='green', alpha=0.2)\n",
    "\n",
    "# minx, miny, maxx, maxy = gdf[-1:].geometry.total_bounds\n",
    "# ax.set_xlim(minx-0.25, maxx+0.25)\n",
    "# ax.set_ylim(miny-0.25, maxy+0.25)"
   ]
  },
  {
   "cell_type": "code",
   "execution_count": 6,
   "id": "65b92e54",
   "metadata": {},
   "outputs": [],
   "source": [
    "l4a_granules = l4adf[:-1].drop_duplicates(subset=['granule_url'])\n",
    "l4a_granules.to_csv('D:\\Desktop\\china\\china_bound.txt', columns = ['granule_url'], index=False, header = False)"
   ]
  },
  {
   "cell_type": "code",
   "execution_count": null,
   "id": "4edf9179",
   "metadata": {},
   "outputs": [],
   "source": []
  }
 ],
 "metadata": {
  "kernelspec": {
   "display_name": "Python 3",
   "language": "python",
   "name": "python3"
  },
  "language_info": {
   "codemirror_mode": {
    "name": "ipython",
    "version": 3
   },
   "file_extension": ".py",
   "mimetype": "text/x-python",
   "name": "python",
   "nbconvert_exporter": "python",
   "pygments_lexer": "ipython3",
   "version": "3.9.1"
  }
 },
 "nbformat": 4,
 "nbformat_minor": 5
}

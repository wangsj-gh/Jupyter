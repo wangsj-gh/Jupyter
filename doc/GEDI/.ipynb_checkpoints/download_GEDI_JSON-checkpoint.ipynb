{
 "cells": [
  {
   "cell_type": "code",
   "execution_count": 1,
   "id": "1fab15f7",
   "metadata": {},
   "outputs": [
    {
     "name": "stderr",
     "output_type": "stream",
     "text": [
      "D:\\Miniconda3\\lib\\site-packages\\geopandas\\plotting.py:678: UserWarning: The GeoDataFrame you are attempting to plot is empty. Nothing has been displayed.\n",
      "  warnings.warn(\n"
     ]
    },
    {
     "data": {
      "image/png": "[encoded data removed]",
      "text/plain": [
       "<Figure size 504x504 with 1 Axes>"
      ]
     },
     "metadata": {
      "needs_background": "light"
     },
     "output_type": "display_data"
    }
   ],
   "source": [
    "import geopandas\n",
    "from shapely.ops import orient\n",
    "amapa = geopandas.read_file(\"D:\\\\Desktop\\\\longjiangxian\\\\longjiangxian.json\")\n",
    "# amapa = geopandas.read_file(\"D:\\\\Desktop\\\\china\\\\China_boundary.json\")\n",
    "amapa.geometry = amapa.geometry.apply(orient, args=(1,))\n",
    "\n",
    "world = geopandas.read_file(geopandas.datasets.get_path('naturalearth_lowres'))\n",
    "base = world[world.continent == 'China'].plot(color='white', edgecolor='black', figsize  = (7, 7))\n",
    "ax= amapa.plot(ax=base, color='red')"
   ]
  },
  {
   "cell_type": "code",
   "execution_count": 2,
   "id": "c7024d8e",
   "metadata": {},
   "outputs": [],
   "source": [
    "import datetime as dt \n",
    "\n",
    "# Brazil bounding box\n",
    "bound = (73.4466, 6.318,135.0859, 53.5580) \n",
    "\n",
    "# time bound\n",
    "start_date = dt.datetime(2020, 3, 1) # specify your own start date\n",
    "end_date = dt.datetime(2020, 10, 1) "
   ]
  },
  {
   "cell_type": "code",
   "execution_count": 3,
   "id": "f3acaeed",
   "metadata": {},
   "outputs": [
    {
     "ename": "KeyError",
     "evalue": "'feed'",
     "output_type": "error",
     "traceback": [
      "\u001b[1;31m---------------------------------------------------------------------------\u001b[0m",
      "\u001b[1;31mKeyError\u001b[0m                                  Traceback (most recent call last)",
      "\u001b[1;32m~\\AppData\\Local\\Temp/ipykernel_13820/2175745303.py\u001b[0m in \u001b[0;36m<module>\u001b[1;34m\u001b[0m\n\u001b[0;32m     35\u001b[0m     \u001b[0mgranulesearch\u001b[0m \u001b[1;33m=\u001b[0m \u001b[0mcmrurl\u001b[0m \u001b[1;33m+\u001b[0m \u001b[1;34m'granules.json'\u001b[0m\u001b[1;33m\u001b[0m\u001b[1;33m\u001b[0m\u001b[0m\n\u001b[0;32m     36\u001b[0m     \u001b[0mresponse\u001b[0m \u001b[1;33m=\u001b[0m \u001b[0mrequests\u001b[0m\u001b[1;33m.\u001b[0m\u001b[0mpost\u001b[0m\u001b[1;33m(\u001b[0m\u001b[0mgranulesearch\u001b[0m\u001b[1;33m,\u001b[0m \u001b[0mdata\u001b[0m\u001b[1;33m=\u001b[0m\u001b[0mcmr_param\u001b[0m\u001b[1;33m,\u001b[0m \u001b[0mfiles\u001b[0m\u001b[1;33m=\u001b[0m\u001b[0mgeojson\u001b[0m\u001b[1;33m)\u001b[0m\u001b[1;33m\u001b[0m\u001b[1;33m\u001b[0m\u001b[0m\n\u001b[1;32m---> 37\u001b[1;33m     \u001b[0mgranules\u001b[0m \u001b[1;33m=\u001b[0m \u001b[0mresponse\u001b[0m\u001b[1;33m.\u001b[0m\u001b[0mjson\u001b[0m\u001b[1;33m(\u001b[0m\u001b[1;33m)\u001b[0m\u001b[1;33m[\u001b[0m\u001b[1;34m'feed'\u001b[0m\u001b[1;33m]\u001b[0m\u001b[1;33m[\u001b[0m\u001b[1;34m'entry'\u001b[0m\u001b[1;33m]\u001b[0m\u001b[1;33m\u001b[0m\u001b[1;33m\u001b[0m\u001b[0m\n\u001b[0m\u001b[0;32m     38\u001b[0m \u001b[1;33m\u001b[0m\u001b[0m\n\u001b[0;32m     39\u001b[0m \u001b[1;33m\u001b[0m\u001b[0m\n",
      "\u001b[1;31mKeyError\u001b[0m: 'feed'"
     ]
    }
   ],
   "source": [
    "import requests\n",
    "from shapely.geometry import MultiPolygon, Polygon\n",
    "import pandas as pd\n",
    "\n",
    "# CMR formatted start and end times\n",
    "dt_format = '%Y-%m-%dT%H:%M:%SZ'\n",
    "temporal_str = start_date.strftime(dt_format) + ',' + end_date.strftime(dt_format)\n",
    "\n",
    "doi = '10.3334/ORNLDAAC/1907'# GEDI L4A DOI \n",
    "\n",
    "# CMR API base url\n",
    "cmrurl='https://cmr.earthdata.nasa.gov/search/' \n",
    "\n",
    "doisearch = cmrurl + 'collections.json?doi=' + doi\n",
    "concept_id = requests.get(doisearch).json()['feed']['entry'][0]['id']\n",
    "\n",
    "geojson = {\"shapefile\": (\"amapa.geojson\", amapa.geometry.to_json(), \"application/geo+json\")}\n",
    "\n",
    "page_num = 1\n",
    "page_size = 2000 # CMR page size limit\n",
    "\n",
    "granule_arr = []\n",
    "\n",
    "while True:\n",
    "    \n",
    "     # defining parameters\n",
    "    cmr_param = {\n",
    "        \"collection_concept_id\": concept_id, \n",
    "        \"page_size\": page_size,\n",
    "        \"page_num\": page_num,\n",
    "        \"temporal\": temporal_str,\n",
    "        \"simplify-shapefile\": 'true' # this is needed to bypass 5000 coordinates limit of CMR\n",
    "    }\n",
    "    \n",
    "    granulesearch = cmrurl + 'granules.json'\n",
    "    response = requests.post(granulesearch, data=cmr_param, files=geojson)\n",
    "    granules = response.json()['feed']['entry']\n",
    "    \n",
    "    \n",
    "    if granules:\n",
    "        for g in granules:\n",
    "            granule_url = ''\n",
    "            granule_poly = ''\n",
    "            # read file size\n",
    "            granule_size = float(g['granule_size']) \n",
    "            \n",
    "            # reading bounding geometries\n",
    "            if 'polygons' in g:\n",
    "                polygons= g['polygons']\n",
    "                multipolygons = []\n",
    "                for poly in polygons:\n",
    "                    i=iter(poly[0].split (\" \"))\n",
    "                    ltln = list(map(\" \".join,zip(i,i)))\n",
    "                    multipolygons.append(Polygon([[float(p.split(\" \")[1]), float(p.split(\" \")[0])] for p in ltln]))\n",
    "                granule_poly = MultiPolygon(multipolygons)\n",
    "            \n",
    "            # Get URL to HDF5 files\n",
    "            for links in g['links']:\n",
    "                if 'title' in links and links['title'].startswith('Download'):\n",
    "                    granule_url = links['href']\n",
    "            granule_arr.append([granule_url, granule_size, granule_poly])\n",
    "               \n",
    "        page_num += 1\n",
    "    else: \n",
    "        break\n",
    "\n",
    "# adding bound as the last row into the dataframe\n",
    "# we will use this later in the plot\n",
    "granule_arr.append(['amapa', 0, amapa.geometry.item() ]) \n",
    "\n",
    "# creating a pandas dataframe\n",
    "l4adf = pd.DataFrame(granule_arr, columns=[\"granule_url\", \"granule_size\", \"granule_poly\"])\n",
    "\n",
    "# Drop granules with empty geometry\n",
    "l4adf = l4adf[l4adf['granule_poly'] != '']\n",
    "\n",
    "print (\"Total granules found: \", len(l4adf.index)-1 )\n",
    "print (\"Total file size (MB): \", l4adf['granule_size'].sum())"
   ]
  },
  {
   "cell_type": "code",
   "execution_count": null,
   "id": "4dad2c99",
   "metadata": {},
   "outputs": [],
   "source": [
    "import geopandas\n",
    "gdf = geopandas.GeoDataFrame(l4adf, geometry=l4adf.granule_poly)\n",
    "world = geopandas.read_file(geopandas.datasets.get_path('naturalearth_lowres'))\n",
    "base = world.plot(color='white', edgecolor='black', figsize  = (7, 7))\n",
    "\n",
    "# last row contains the bounding box (Red)\n",
    "ax= gdf[-1:].plot(ax=base, color='red', edgecolor='red', alpha=0.5)\n",
    "\n",
    "# all but the last row contains granule bounding geometry (Green)\n",
    "ax= gdf[:-1].plot(ax=base, color='green', edgecolor='green', alpha=0.2)\n",
    "\n",
    "minx, miny, maxx, maxy = gdf[-1:].geometry.total_bounds\n",
    "ax.set_xlim(minx-0.25, maxx+0.25)\n",
    "ax.set_ylim(miny-0.25, maxy+0.25)"
   ]
  },
  {
   "cell_type": "code",
   "execution_count": null,
   "id": "3de84d02",
   "metadata": {},
   "outputs": [],
   "source": [
    "# l4a_granules = l4adf[:-1].drop_duplicates(subset=['granule_url'])\n",
    "# l4a_granules.to_csv('D:\\Desktop\\china\\china_bound.txt', columns = ['granule_url'], index=False, header = False)"
   ]
  }
 ],
 "metadata": {
  "kernelspec": {
   "display_name": "Python 3 (ipykernel)",
   "language": "python",
   "name": "python3"
  },
  "language_info": {
   "codemirror_mode": {
    "name": "ipython",
    "version": 3
   },
   "file_extension": ".py",
   "mimetype": "text/x-python",
   "name": "python",
   "nbconvert_exporter": "python",
   "pygments_lexer": "ipython3",
   "version": "3.9.1"
  }
 },
 "nbformat": 4,
 "nbformat_minor": 5
}

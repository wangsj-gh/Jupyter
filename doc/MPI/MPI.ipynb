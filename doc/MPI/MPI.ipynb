{
 "cells": [
  {
   "cell_type": "code",
   "execution_count": 2,
   "id": "57682221",
   "metadata": {},
   "outputs": [],
   "source": [
    "from mpi4py import MPI\n",
    "import numpy as np\n",
    "from osgeo import gdal\n",
    "from osgeo import osr\n",
    "import os\n",
    "from scipy.optimize import curve_fit\n",
    "\n",
    "\n",
    "class Dataset:\n",
    "    def __init__(self, in_file):\n",
    "        self.in_file = in_file  # Tiff或者ENVI文件\n",
    "\n",
    "        dataset = gdal.Open(self.in_file)\n",
    "        self.XSize = dataset.RasterXSize  # 网格的X轴像素数量\n",
    "        self.YSize = dataset.RasterYSize  # 网格的Y轴像素数量\n",
    "        self.Bands = dataset.RasterCount  # 波段数\n",
    "        self.GeoTransform = dataset.GetGeoTransform()  # 投影转换信息\n",
    "        self.ProjectionInfo = dataset.GetProjection()  # 投影信息\n",
    "    \n",
    "    def get_data(self):\n",
    "        #band: 读取第几个通道的数据\n",
    "        dataset = gdal.Open(self.in_file)\n",
    "        data = dataset.ReadAsArray(0,0,self.XSize,self.YSize)\n",
    "        return data\n",
    "\n",
    "    def get_lon_lat(self):\n",
    "        #获取经纬度信息\n",
    "        gtf = self.GeoTransform\n",
    "        x_range = range(0, self.XSize)\n",
    "        y_range = range(0, self.YSize)\n",
    "        x, y = np.meshgrid(x_range, y_range)\n",
    "        lon = gtf[0] + x * gtf[1] + y * gtf[2]\n",
    "        lat = gtf[3] + x * gtf[4] + y * gtf[5]\n",
    "        lon_lat=np.array(list(zip(lon,lat)))\n",
    "        return lon_lat\n",
    "if __name__ == '__main__':\n",
    "    dir_path = r\"D:\\Desktop\\MPI-document\"\n",
    "    # dir_path = r\"D:\\Desktop\"   \n",
    "    filename = \"gee-LAI-12656.tif\"\n",
    "    file_path = os.path.join(dir_path, filename)\n",
    "    data_path = Dataset(file_path)\n",
    "    data = data_path.get_data( ).transpose(1,2,0) \n",
    "    lon_lat = data_path.get_lon_lat().transpose(0,2,1)\n",
    "    lon_lat_data=np.hstack((lon_lat.transpose(0,2,1),data.transpose(0,2,1))).transpose(0,2,1)\n",
    "    sendbuf=lon_lat_data.reshape(-1,lon_lat_data.shape[2])\n",
    "    # np.savetxt('D:/Desktop/test.txt',sendbuf,fmt='%1.3f')\n",
    "    # print(sendbuf.shape)\n",
    "    colum2=sendbuf.shape[1]\n",
    "    # print(lon_lat_data.shape)\n",
    "    # print(lon_lat_data[60,90,:])\n",
    "    # print(sendbuf[2000,:])"
   ]
  },
  {
   "cell_type": "code",
   "execution_count": 3,
   "id": "c6518f9f",
   "metadata": {},
   "outputs": [
    {
     "data": {
      "text/plain": [
       "1947680"
      ]
     },
     "execution_count": 3,
     "metadata": {},
     "output_type": "execute_result"
    }
   ],
   "source": [
    "sendbuf.size"
   ]
  },
  {
   "cell_type": "code",
   "execution_count": 16,
   "id": "98a96e74",
   "metadata": {},
   "outputs": [
    {
     "data": {
      "text/plain": [
       "564"
      ]
     },
     "execution_count": 16,
     "metadata": {},
     "output_type": "execute_result"
    }
   ],
   "source": [
    "nprocs=6\n",
    "nprocs*colum2"
   ]
  },
  {
   "cell_type": "code",
   "execution_count": 17,
   "id": "ee9887b5",
   "metadata": {},
   "outputs": [
    {
     "name": "stdout",
     "output_type": "stream",
     "text": [
      "3453 188\n"
     ]
    }
   ],
   "source": [
    "ave, res = divmod(sendbuf.size, nprocs*colum2)\n",
    "print(ave, res)"
   ]
  },
  {
   "cell_type": "code",
   "execution_count": 18,
   "id": "650a2605",
   "metadata": {},
   "outputs": [
    {
     "name": "stdout",
     "output_type": "stream",
     "text": [
      "2 0\n"
     ]
    }
   ],
   "source": [
    "ave1, res1 = divmod(res, colum2)\n",
    "print(ave1, res1)"
   ]
  },
  {
   "cell_type": "code",
   "execution_count": 22,
   "id": "04526439",
   "metadata": {},
   "outputs": [
    {
     "data": {
      "text/plain": [
       "array([324676, 324676, 324582, 324582, 324582, 324582])"
      ]
     },
     "execution_count": 22,
     "metadata": {},
     "output_type": "execute_result"
    }
   ],
   "source": [
    "count = np.array([colum2*(ave + 1) if p < ave1 else colum2*ave  for p in range(nprocs)])\n",
    "count"
   ]
  },
  {
   "cell_type": "code",
   "execution_count": 23,
   "id": "4fb0b807",
   "metadata": {},
   "outputs": [
    {
     "data": {
      "text/plain": [
       "array([      0,  324676,  649352,  973934, 1298516, 1623098])"
      ]
     },
     "execution_count": 23,
     "metadata": {},
     "output_type": "execute_result"
    }
   ],
   "source": [
    "displ = np.array([sum(count[:p]) for p in range(nprocs)])\n",
    "displ"
   ]
  },
  {
   "cell_type": "code",
   "execution_count": null,
   "id": "54043482",
   "metadata": {},
   "outputs": [],
   "source": []
  }
 ],
 "metadata": {
  "kernelspec": {
   "display_name": "Python 3",
   "language": "python",
   "name": "python3"
  },
  "language_info": {
   "codemirror_mode": {
    "name": "ipython",
    "version": 3
   },
   "file_extension": ".py",
   "mimetype": "text/x-python",
   "name": "python",
   "nbconvert_exporter": "python",
   "pygments_lexer": "ipython3",
   "version": "3.9.1"
  }
 },
 "nbformat": 4,
 "nbformat_minor": 5
}

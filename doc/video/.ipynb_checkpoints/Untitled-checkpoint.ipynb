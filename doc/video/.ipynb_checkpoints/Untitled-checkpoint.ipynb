{
 "cells": [
  {
   "cell_type": "code",
   "execution_count": 11,
   "id": "fc4fc671",
   "metadata": {},
   "outputs": [],
   "source": [
    "import pathlib\n",
    "import numpy as np\n",
    "from moviepy.editor import VideoFileClip"
   ]
  },
  {
   "cell_type": "code",
   "execution_count": 2,
   "id": "6d3550dc",
   "metadata": {},
   "outputs": [],
   "source": [
    "path = list(pathlib.Path.cwd().parents)[1].joinpath('D:\\Desktop')\n",
    "mp4_path = path.joinpath('fer.mp4')\n",
    "vout_path = path.joinpath('age_50s.mp4')\n",
    "vout_scale_path = path.joinpath('age_50s_resize2.mp4')\n",
    "# aout_path = path.joinpath('age_50.mp3')\n",
    "clip = VideoFileClip(str(mp4_path))"
   ]
  },
  {
   "cell_type": "code",
   "execution_count": 3,
   "id": "d5af695c",
   "metadata": {},
   "outputs": [
    {
     "name": "stdout",
     "output_type": "stream",
     "text": [
      "基本信息：\n",
      "18956.19 [2160, 1080] 15.0\n"
     ]
    }
   ],
   "source": [
    "print('基本信息：')\n",
    "print(clip.duration, clip.size, clip.fps)"
   ]
  },
  {
   "cell_type": "code",
   "execution_count": 4,
   "id": "70d42549",
   "metadata": {},
   "outputs": [
    {
     "name": "stdout",
     "output_type": "stream",
     "text": [
      "Moviepy - Building video D:\\Desktop\\age_50s.mp4.\n",
      "MoviePy - Writing audio in age_50sTEMP_MPY_wvf_snd.mp4\n"
     ]
    },
    {
     "name": "stderr",
     "output_type": "stream",
     "text": [
      "                                                                                                                       \r"
     ]
    },
    {
     "name": "stdout",
     "output_type": "stream",
     "text": [
      "MoviePy - Done.\n",
      "Moviepy - Writing video D:\\Desktop\\age_50s.mp4\n",
      "\n"
     ]
    },
    {
     "name": "stderr",
     "output_type": "stream",
     "text": [
      "                                                                                                                       \r"
     ]
    },
    {
     "name": "stdout",
     "output_type": "stream",
     "text": [
      "Moviepy - Done !\n",
      "Moviepy - video ready D:\\Desktop\\age_50s.mp4\n",
      "50 (2160, 1080) 15.0\n"
     ]
    }
   ],
   "source": [
    "clip = clip.subclip(0, 50)\n",
    "# audio = clip.audio\n",
    "# audio.write_audiofile(str(aout_path))\n",
    "clip.write_videofile(str(vout_path), audio_codec='aac')\n",
    "print(clip.duration, clip.size, clip.fps)"
   ]
  },
  {
   "cell_type": "code",
   "execution_count": 5,
   "id": "7b7ec165",
   "metadata": {},
   "outputs": [
    {
     "name": "stdout",
     "output_type": "stream",
     "text": [
      "50 (2160, 1080) 30\n"
     ]
    }
   ],
   "source": [
    "clip_fps15 = clip.set_fps(30)\n",
    "# clip_fps15.write_videofile(str(vout_path), audio_codec='aac')\n",
    "print(clip_fps15.duration, clip_fps15.size, clip_fps15.fps)"
   ]
  },
  {
   "cell_type": "code",
   "execution_count": 6,
   "id": "768565a6",
   "metadata": {},
   "outputs": [
    {
     "name": "stdout",
     "output_type": "stream",
     "text": [
      "Moviepy - Building video D:\\Desktop\\age_50s_resize2.mp4.\n",
      "MoviePy - Writing audio in age_50s_resize2TEMP_MPY_wvf_snd.mp4\n"
     ]
    },
    {
     "name": "stderr",
     "output_type": "stream",
     "text": [
      "                                                                                                                       \r"
     ]
    },
    {
     "name": "stdout",
     "output_type": "stream",
     "text": [
      "MoviePy - Done.\n",
      "Moviepy - Writing video D:\\Desktop\\age_50s_resize2.mp4\n",
      "\n"
     ]
    },
    {
     "name": "stderr",
     "output_type": "stream",
     "text": [
      "                                                                                                                       "
     ]
    },
    {
     "name": "stdout",
     "output_type": "stream",
     "text": [
      "Moviepy - Done !\n",
      "Moviepy - video ready D:\\Desktop\\age_50s_resize2.mp4\n"
     ]
    },
    {
     "name": "stderr",
     "output_type": "stream",
     "text": [
      "\r"
     ]
    }
   ],
   "source": [
    "clip_scale = clip.resize(0.5) # 等比缩放0.5\n",
    "clip_scale.write_videofile(str(vout_scale_path), audio_codec='aac')"
   ]
  },
  {
   "cell_type": "code",
   "execution_count": 7,
   "id": "e4a57c50",
   "metadata": {},
   "outputs": [
    {
     "name": "stdout",
     "output_type": "stream",
     "text": [
      "50 (1080, 540) 15.0\n"
     ]
    }
   ],
   "source": [
    "print(clip_scale.duration, clip_scale.size, clip_scale.fps)"
   ]
  },
  {
   "cell_type": "code",
   "execution_count": 17,
   "id": "3abc18b1",
   "metadata": {},
   "outputs": [],
   "source": [
    "img_path = path.joinpath('D:\\Desktop\\images')\n",
    "ts=np.linspace(25,40,15*25)\n",
    "for t in ts:\n",
    "    clip.save_frame(str(img_path.joinpath(f'{t}.png')), t=t)"
   ]
  },
  {
   "cell_type": "code",
   "execution_count": null,
   "id": "f99d887a",
   "metadata": {},
   "outputs": [],
   "source": []
  }
 ],
 "metadata": {
  "kernelspec": {
   "display_name": "Python 3 (ipykernel)",
   "language": "python",
   "name": "python3"
  },
  "language_info": {
   "codemirror_mode": {
    "name": "ipython",
    "version": 3
   },
   "file_extension": ".py",
   "mimetype": "text/x-python",
   "name": "python",
   "nbconvert_exporter": "python",
   "pygments_lexer": "ipython3",
   "version": "3.7.10"
  }
 },
 "nbformat": 4,
 "nbformat_minor": 5
}

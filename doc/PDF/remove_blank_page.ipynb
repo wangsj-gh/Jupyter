{
 "cells": [
  {
   "cell_type": "code",
   "execution_count": 1,
   "id": "3831b14d",
   "metadata": {},
   "outputs": [],
   "source": [
    "from PyPDF2 import PdfFileReader, PdfFileWriter\n",
    "import os"
   ]
  },
  {
   "cell_type": "code",
   "execution_count": 4,
   "id": "3cfbe6a7",
   "metadata": {},
   "outputs": [],
   "source": [
    "\n",
    "readfile=r\"D:\\Desktop\\2021sscj066011.pdf\"\n",
    "outfile=r\"D:\\Desktop\\2021sscj066011_remove.pdf\"\n",
    " \n",
    "pdfReader = PdfFileReader(open(readfile, 'rb'))\n",
    "pdfFileWriter = PdfFileWriter()\n",
    "numPages = pdfReader.getNumPages()\n",
    "pagelist=(1,9,23,29,51)   #注意第一页的index为0.\n",
    "for index in range(0, numPages):\n",
    "    if index not in pagelist:\n",
    "        pageObj = pdfReader.getPage(index)\n",
    "        pdfFileWriter.addPage(pageObj)\n",
    "pdfFileWriter.write(open(outfile, 'wb'))"
   ]
  },
  {
   "cell_type": "code",
   "execution_count": null,
   "id": "7fa0fb9c",
   "metadata": {},
   "outputs": [],
   "source": []
  }
 ],
 "metadata": {
  "kernelspec": {
   "display_name": "Python 3 (ipykernel)",
   "language": "python",
   "name": "python3"
  },
  "language_info": {
   "codemirror_mode": {
    "name": "ipython",
    "version": 3
   },
   "file_extension": ".py",
   "mimetype": "text/x-python",
   "name": "python",
   "nbconvert_exporter": "python",
   "pygments_lexer": "ipython3",
   "version": "3.9.1"
  }
 },
 "nbformat": 4,
 "nbformat_minor": 5
}

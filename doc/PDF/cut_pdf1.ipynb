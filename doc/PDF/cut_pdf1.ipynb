{
 "cells": [
  {
   "cell_type": "code",
   "execution_count": 7,
   "id": "aed2fb1d",
   "metadata": {},
   "outputs": [],
   "source": [
    "from PyPDF2 import PdfFileReader, PdfFileWriter\n",
    "import numpy as np\n",
    "import os"
   ]
  },
  {
   "cell_type": "markdown",
   "id": "1d68e7ee",
   "metadata": {},
   "source": [
    "## 只提取一章"
   ]
  },
  {
   "cell_type": "code",
   "execution_count": 14,
   "id": "d4575055",
   "metadata": {},
   "outputs": [],
   "source": [
    "readFile=r'D:\\Desktop\\2014-Ruddiman-Earth_Climate_ Past_and_Future.pdf'\n",
    "outFile = r'D:\\Desktop\\第六章.pdf'\n",
    "pdfFileWriter = PdfFileWriter()\n",
    "\n",
    "# 获取 PdfFileReader 对象\n",
    "pdfFileReader = PdfFileReader(readFile) \n",
    "# 文档总页数\n",
    "numPages = pdfFileReader.getNumPages()\n",
    "\n",
    "for index in range(140, 156):\n",
    "    pageObj = pdfFileReader.getPage(index)\n",
    "    pdfFileWriter.addPage(pageObj)\n",
    "# 添加完每页，再一起保存至文件中\n",
    "pdfFileWriter.write(open(outFile, 'wb'))"
   ]
  },
  {
   "cell_type": "markdown",
   "id": "3cbf7df5",
   "metadata": {},
   "source": [
    "## 把一篇文章，按照章节划分"
   ]
  },
  {
   "cell_type": "code",
   "execution_count": 8,
   "id": "55d1c59d",
   "metadata": {},
   "outputs": [],
   "source": [
    "readFile=r'D:\\Desktop\\2014-Ruddiman-Earth_Climate_ Past_and_Future.pdf'\n",
    "pdfFileWriter = PdfFileWriter()\n",
    "pdfFileReader = PdfFileReader(readFile) \n",
    "numPages = pdfFileReader.getNumPages()\n",
    "List1=np.array([2,18,54,80,96,120,136,158,176,194,214,232,252,272,294,316,334,356,374,392])+20\n",
    "List2=np.array([18,54,80,96,120,136,156,176,194,214,232,252,272,294,316,334,356,374,392,412])+20\n",
    "name=['第一章','第二章','第三章','第四章','第五章','第六章','第七章','第八章','第九章',\\\n",
    "      '第十章','第十一章','第十二章','第十三章','第十四章','第十五章','第十六章',\\\n",
    "      '第十七章','第十八章','第十九章','第二十章']\n",
    "for i in range(List1.size):\n",
    "    pdfWriter = PdfFileWriter()\n",
    "    for index in range (List1[i],List2[i]):\n",
    "        pageObj = pdfFileReader.getPage(index)\n",
    "        pdfWriter.addPage(pageObj)\n",
    "    outFile = r'D:\\Desktop\\wen\\ '+name[i]+'.pdf'\n",
    "    pdfWriter.write(open(outFile, 'wb'))\n"
   ]
  },
  {
   "cell_type": "markdown",
   "id": "030335c1",
   "metadata": {},
   "source": [
    "## 把一篇文章，等分"
   ]
  },
  {
   "cell_type": "code",
   "execution_count": 9,
   "id": "1c36e67b",
   "metadata": {},
   "outputs": [
    {
     "data": {
      "text/plain": [
       "'第二章'"
      ]
     },
     "execution_count": 9,
     "metadata": {},
     "output_type": "execute_result"
    }
   ],
   "source": [
    "from PyPDF2 import PdfFileReader, PdfFileWriter\n",
    "# 分割 pdf 函数定义\n",
    "def splitPDF(input_pdf, out_num, split_site):\n",
    "\n",
    "    for i in range(out_num):\n",
    "        with open(input_pdf, 'rb') as open_pdf, open(str(i)+'.pdf', 'wb') as write_pdf:\n",
    "\n",
    "            pdfReader = PdfFileReader(open_pdf)\n",
    "\n",
    "            pdfWriter = PdfFileWriter()\n",
    "            for j in range(i*split_site, (i+1)*split_site):\n",
    "                page = pdfReader.getPage(j)\n",
    "                pdfWriter.addPage(page)\n",
    "\n",
    "            pdfWriter.write(write_pdf)\n",
    "\n",
    "# 测试函数\n",
    "splitPDF('inputfile.pdf', 5, 4)"
   ]
  },
  {
   "cell_type": "code",
   "execution_count": null,
   "id": "28771684",
   "metadata": {},
   "outputs": [],
   "source": []
  }
 ],
 "metadata": {
  "kernelspec": {
   "display_name": "Python 3 (ipykernel)",
   "language": "python",
   "name": "python3"
  },
  "language_info": {
   "codemirror_mode": {
    "name": "ipython",
    "version": 3
   },
   "file_extension": ".py",
   "mimetype": "text/x-python",
   "name": "python",
   "nbconvert_exporter": "python",
   "pygments_lexer": "ipython3",
   "version": "3.9.1"
  }
 },
 "nbformat": 4,
 "nbformat_minor": 5
}

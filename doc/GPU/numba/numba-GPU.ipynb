{
 "cells": [
  {
   "cell_type": "code",
   "execution_count": 1,
   "id": "17ed88f6",
   "metadata": {},
   "outputs": [],
   "source": [
    "import numpy as np\n",
    "import pandas as pd\n",
    "from scipy.optimize import curve_fit\n",
    "from osgeo import gdal\n",
    "from numba import cuda\n",
    "import os\n",
    "import time\n",
    "import math"
   ]
  },
  {
   "cell_type": "code",
   "execution_count": 2,
   "id": "858501e9",
   "metadata": {},
   "outputs": [],
   "source": [
    "class Dataset:\n",
    "    def __init__(self, in_file):\n",
    "        self.in_file = in_file  # Tiff或者ENVI文件\n",
    "\n",
    "        dataset = gdal.Open(self.in_file)\n",
    "        self.XSize = dataset.RasterXSize  # 网格的X轴像素数量\n",
    "        self.YSize = dataset.RasterYSize  # 网格的Y轴像素数量\n",
    "        self.Bands = dataset.RasterCount  # 波段数\n",
    "        self.GeoTransform = dataset.GetGeoTransform()  # 投影转换信息\n",
    "        self.ProjectionInfo = dataset.GetProjection()  # 投影信息\n",
    "    \n",
    "    def get_data(self):\n",
    "        #band: 读取第几个通道的数据\n",
    "        dataset = gdal.Open(self.in_file)\n",
    "        data = dataset.ReadAsArray(0,0,self.XSize,self.YSize)\n",
    "        return data\n",
    "    \n",
    "\n",
    "    def get_lon_lat(self):\n",
    "        #获取经纬度信息\n",
    "        gtf = self.GeoTransform\n",
    "        x_range = range(0, self.XSize)\n",
    "        y_range = range(0, self.YSize)\n",
    "        x, y = np.meshgrid(x_range, y_range)\n",
    "        lon = gtf[0] + x * gtf[1] + y * gtf[2]\n",
    "        lat = gtf[3] + x * gtf[4] + y * gtf[5]\n",
    "        \n",
    "        lon_lat=[]\n",
    "        for (longitude,latitude) in zip(lon,lat):\n",
    "            lon_lat.append(list(zip(longitude,latitude)))\n",
    "            \n",
    "        return np.array(lon_lat)\n",
    "    \n",
    "    def new_dataset(self,data,lon_lat):\n",
    "        new_dataset=[]\n",
    "        for i in range(self.YSize):\n",
    "            for j in range(self.XSize):\n",
    "                x1 = lon_lat[i,j]\n",
    "                x2 = data[:,i,j]\n",
    "                x=np.hstack((x1,x2))\n",
    "                new_dataset.append(x)\n",
    "            \n",
    "        return np.array(new_dataset)"
   ]
  },
  {
   "cell_type": "code",
   "execution_count": 3,
   "id": "26e507ae",
   "metadata": {},
   "outputs": [],
   "source": [
    "@cuda.jit\n",
    "def func(x, m1, m2, m3, m4, m5, m6):\n",
    "    return m1 + m2 /(1 + np.exp(-m3 * (x-m4))) - m2/(1 + np.exp(-m5 * (x-m6)))\n",
    "\n",
    "#注意初值\n",
    "@cuda.jit\n",
    "def Dofitting(yData):\n",
    "    xData=np.arange(1,366,4,dtype=np.float32)\n",
    "#     Parameters, pcov = curve_fit(func, xData, yData, p0=[5,40,0.01,140,0.01,270], maxfev=100000000)#,method='trf', maxfev=1000000)\n",
    "#     return Parameters\n",
    "    return yData+xData\n",
    "\n",
    "@cuda.jit\n",
    "def process_gpu(img,channels):\n",
    "#     tx = cuda.blockIdx.x * cuda.blockDim.x + cuda.threadIdx.x\n",
    "#     ty = cuda.blockIdx.y * cuda.blockDim.y  +cuda.threadIdx.y\n",
    "    tx, ty = cuda.grid(2)\n",
    "#     xdata=np.arange(1,366,4)\n",
    "    for i in range(channels):\n",
    "        \n",
    "        img[tx,ty,channels]+2\n",
    "    \n",
    "    \n",
    "#     xData=np.arange(1,366,4)\n",
    "#     img, pcov = curve_fit(func, xData, img[tx,ty][:], p0=[5,40,0.01,140,0.01,270], maxfev=100000000)#,method='trf', maxfev=1000000)\n"
   ]
  },
  {
   "cell_type": "code",
   "execution_count": 4,
   "id": "bbbe1189",
   "metadata": {},
   "outputs": [],
   "source": [
    "if __name__ == \"__main__\":\n",
    "    start_time = time.time()\n",
    "    dir_path = r\"D:\\Desktop\\mypaper\\version17\\data\\table\\data\"\n",
    "    filename = \"gee-LAI-10884.tif\"\n",
    "    file_path = os.path.join(dir_path, filename)\n",
    "    dataset = Dataset(file_path)\n",
    "    data = dataset.get_data( ).transpose()\n",
    "    rows,cols,channels = data.shape\n",
    "#     xdata=np.expand_dims(np.arange(1,366,4), axis=[0,1]).repeat(rows,axis=0).repeat(cols,axis=1)\n",
    "    out=np.zeros((rows ,cols,channels), dtype=np.float32)\n",
    "    dImg = cuda.to_device(data)\n",
    "    d_xdata=cuda.to_device(out)\n",
    "    \n",
    "    threadsperblock = (16,16)\n",
    "    blockspergrid_x = int(math.ceil(rows/threadsperblock[0]))\n",
    "    blockspergrid_y = int(math.ceil(cols/threadsperblock[1]))\n",
    "    blockspergrid = (blockspergrid_x,blockspergrid_y)\n",
    "    cuda.synchronize()\n",
    "    \n",
    "    start_gpu = time.time()\n",
    "    process_gpu[blockspergrid,threadsperblock](dImg,channels)\n",
    "    cuda.synchronize()\n",
    "    end_gpu = time.time()\n",
    "    \n",
    "    dst_gpu=dImg.copy_to_host()"
   ]
  },
  {
   "cell_type": "code",
   "execution_count": 5,
   "id": "bdacafae",
   "metadata": {},
   "outputs": [
    {
     "name": "stdout",
     "output_type": "stream",
     "text": [
      "(113, 112, 92)\n"
     ]
    }
   ],
   "source": [
    "print(dst_gpu.shape)"
   ]
  },
  {
   "cell_type": "code",
   "execution_count": 6,
   "id": "89798eb1",
   "metadata": {},
   "outputs": [
    {
     "name": "stdout",
     "output_type": "stream",
     "text": [
      "(113, 112, 92)\n"
     ]
    }
   ],
   "source": [
    "print(dst_gpu.shape)"
   ]
  },
  {
   "cell_type": "code",
   "execution_count": null,
   "id": "bae12d9b",
   "metadata": {},
   "outputs": [],
   "source": []
  }
 ],
 "metadata": {
  "kernelspec": {
   "display_name": "Python 3 (ipykernel)",
   "language": "python",
   "name": "python3"
  },
  "language_info": {
   "codemirror_mode": {
    "name": "ipython",
    "version": 3
   },
   "file_extension": ".py",
   "mimetype": "text/x-python",
   "name": "python",
   "nbconvert_exporter": "python",
   "pygments_lexer": "ipython3",
   "version": "3.9.1"
  }
 },
 "nbformat": 4,
 "nbformat_minor": 5
}

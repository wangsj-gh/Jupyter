{
 "cells": [
  {
   "cell_type": "code",
   "execution_count": 1,
   "id": "fb5f787d",
   "metadata": {},
   "outputs": [
    {
     "name": "stderr",
     "output_type": "stream",
     "text": [
      "WARNING: Ignoring invalid distribution -upy-cuda102 (d:\\miniconda3\\lib\\site-packages)\n",
      "ERROR: You must give at least one requirement to install (see \"pip help install\")\n",
      "WARNING: Ignoring invalid distribution -upy-cuda102 (d:\\miniconda3\\lib\\site-packages)\n",
      "WARNING: Ignoring invalid distribution -upy-cuda102 (d:\\miniconda3\\lib\\site-packages)\n"
     ]
    }
   ],
   "source": [
    "!pip install "
   ]
  },
  {
   "cell_type": "code",
   "execution_count": 2,
   "id": "42417cbd",
   "metadata": {},
   "outputs": [
    {
     "ename": "ModuleNotFoundError",
     "evalue": "No module named 'cupy'",
     "output_type": "error",
     "traceback": [
      "\u001b[1;31m---------------------------------------------------------------------------\u001b[0m",
      "\u001b[1;31mModuleNotFoundError\u001b[0m                       Traceback (most recent call last)",
      "\u001b[1;32m<ipython-input-2-a9fb6faad604>\u001b[0m in \u001b[0;36m<module>\u001b[1;34m\u001b[0m\n\u001b[0;32m      1\u001b[0m \u001b[1;32mimport\u001b[0m \u001b[0mtime\u001b[0m\u001b[1;33m\u001b[0m\u001b[1;33m\u001b[0m\u001b[0m\n\u001b[0;32m      2\u001b[0m \u001b[1;32mimport\u001b[0m \u001b[0mnumpy\u001b[0m \u001b[1;32mas\u001b[0m \u001b[0mnp\u001b[0m\u001b[1;33m\u001b[0m\u001b[1;33m\u001b[0m\u001b[0m\n\u001b[1;32m----> 3\u001b[1;33m \u001b[1;32mimport\u001b[0m \u001b[0mcupy\u001b[0m \u001b[1;32mas\u001b[0m \u001b[0mcp\u001b[0m\u001b[1;33m\u001b[0m\u001b[1;33m\u001b[0m\u001b[0m\n\u001b[0m\u001b[0;32m      4\u001b[0m \u001b[1;33m\u001b[0m\u001b[0m\n\u001b[0;32m      5\u001b[0m \u001b[1;33m\u001b[0m\u001b[0m\n",
      "\u001b[1;31mModuleNotFoundError\u001b[0m: No module named 'cupy'"
     ]
    }
   ],
   "source": [
    "import time\n",
    "import numpy as np\n",
    "import cupy as cp\n",
    "\n",
    "\n",
    "def test_dot_time(is_gpu,num,dim=1024,times=10):\n",
    "    #用来统计每次计算消耗的时间\n",
    "    consum_time = []\n",
    "    #使用cupy来运算矩阵的点积\n",
    "    if is_gpu:\n",
    "        matrix = cp\n",
    "    #使用numpy来运算矩阵的点积\n",
    "    else:\n",
    "        matrix = np\n",
    "    #测试10次,取平均值\n",
    "    for i in range(times):\n",
    "        start_time = time.time()\n",
    "        #初始化一个num×dim的二维矩阵\n",
    "        a = matrix.random.normal(size=num*dim)\n",
    "        a = a.reshape((num,dim))\n",
    "        #初始化一个dim×1的二维矩阵\n",
    "        b = matrix.random.normal(size=dim*1)\n",
    "        #矩阵的点积\n",
    "        c = matrix.dot(a,b)\n",
    "        end_time = time.time()\n",
    "        consum_time.append(end_time-start_time)\n",
    "    print(\"a time consume %.2f sec\"%np.mean(consum_time))\n"
   ]
  },
  {
   "cell_type": "code",
   "execution_count": null,
   "id": "7fee09b5",
   "metadata": {},
   "outputs": [],
   "source": [
    "num = 100000\n",
    "test_dot_time(True,num)\n",
    "#a time consume 0.18 sec\n",
    "test_dot_time(False,num)\n",
    "#a time consume 5.48 sec\n"
   ]
  }
 ],
 "metadata": {
  "kernelspec": {
   "display_name": "Python 3",
   "language": "python",
   "name": "python3"
  },
  "language_info": {
   "codemirror_mode": {
    "name": "ipython",
    "version": 3
   },
   "file_extension": ".py",
   "mimetype": "text/x-python",
   "name": "python",
   "nbconvert_exporter": "python",
   "pygments_lexer": "ipython3",
   "version": "3.9.1"
  }
 },
 "nbformat": 4,
 "nbformat_minor": 5
}

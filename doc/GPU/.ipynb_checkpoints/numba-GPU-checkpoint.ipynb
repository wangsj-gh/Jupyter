{
 "cells": [
  {
   "cell_type": "code",
   "execution_count": 1,
   "id": "17ed88f6",
   "metadata": {},
   "outputs": [],
   "source": [
    "import numpy as np\n",
    "import pandas as pd\n",
    "from scipy.optimize import curve_fit\n",
    "from osgeo import gdal\n",
    "from numba import cuda\n",
    "import os\n",
    "import time\n",
    "import math"
   ]
  },
  {
   "cell_type": "code",
   "execution_count": 2,
   "id": "858501e9",
   "metadata": {},
   "outputs": [],
   "source": [
    "class Dataset:\n",
    "    def __init__(self, in_file):\n",
    "        self.in_file = in_file  # Tiff或者ENVI文件\n",
    "\n",
    "        dataset = gdal.Open(self.in_file)\n",
    "        self.XSize = dataset.RasterXSize  # 网格的X轴像素数量\n",
    "        self.YSize = dataset.RasterYSize  # 网格的Y轴像素数量\n",
    "        self.Bands = dataset.RasterCount  # 波段数\n",
    "        self.GeoTransform = dataset.GetGeoTransform()  # 投影转换信息\n",
    "        self.ProjectionInfo = dataset.GetProjection()  # 投影信息\n",
    "    \n",
    "    def get_data(self):\n",
    "        #band: 读取第几个通道的数据\n",
    "        dataset = gdal.Open(self.in_file)\n",
    "        data = dataset.ReadAsArray(0,0,self.XSize,self.YSize)\n",
    "        return data\n",
    "    \n",
    "\n",
    "    def get_lon_lat(self):\n",
    "        #获取经纬度信息\n",
    "        gtf = self.GeoTransform\n",
    "        x_range = range(0, self.XSize)\n",
    "        y_range = range(0, self.YSize)\n",
    "        x, y = np.meshgrid(x_range, y_range)\n",
    "        lon = gtf[0] + x * gtf[1] + y * gtf[2]\n",
    "        lat = gtf[3] + x * gtf[4] + y * gtf[5]\n",
    "        \n",
    "        lon_lat=[]\n",
    "        for (longitude,latitude) in zip(lon,lat):\n",
    "            lon_lat.append(list(zip(longitude,latitude)))\n",
    "            \n",
    "        return np.array(lon_lat)\n",
    "    \n",
    "    def new_dataset(self,data,lon_lat):\n",
    "        new_dataset=[]\n",
    "        for i in range(self.YSize):\n",
    "            for j in range(self.XSize):\n",
    "                x1 = lon_lat[i,j]\n",
    "                x2 = data[:,i,j]\n",
    "                x=np.hstack((x1,x2))\n",
    "                new_dataset.append(x)\n",
    "            \n",
    "        return np.array(new_dataset)"
   ]
  },
  {
   "cell_type": "code",
   "execution_count": 3,
   "id": "26e507ae",
   "metadata": {},
   "outputs": [],
   "source": [
    "@cuda.jit\n",
    "def func(x, m1, m2, m3, m4, m5, m6):\n",
    "    return m1 + m2 /(1 + np.exp(-m3 * (x-m4))) - m2/(1 + np.exp(-m5 * (x-m6)))\n",
    "\n",
    "#注意初值\n",
    "@cuda.jit\n",
    "def Dofitting(yData):\n",
    "    xData=np.arange(1,366,4,dtype=np.float32)\n",
    "#     Parameters, pcov = curve_fit(func, xData, yData, p0=[5,40,0.01,140,0.01,270], maxfev=100000000)#,method='trf', maxfev=1000000)\n",
    "#     return Parameters\n",
    "    return yData+xData\n",
    "\n",
    "@cuda.jit\n",
    "def process_gpu(img,channels):\n",
    "#     tx = cuda.blockIdx.x * cuda.blockDim.x + cuda.threadIdx.x\n",
    "#     ty = cuda.blockIdx.y * cuda.blockDim.y  +cuda.threadIdx.y\n",
    "    tx, ty = cuda.grid(2)\n",
    "#     xdata=np.arange(1,366,4)\n",
    "    for i in range(channels):\n",
    "        \n",
    "        img[tx,ty,channels]+2\n",
    "    \n",
    "    \n",
    "#     xData=np.arange(1,366,4)\n",
    "#     img, pcov = curve_fit(func, xData, img[tx,ty][:], p0=[5,40,0.01,140,0.01,270], maxfev=100000000)#,method='trf', maxfev=1000000)\n"
   ]
  },
  {
   "cell_type": "code",
   "execution_count": 4,
   "id": "bbbe1189",
   "metadata": {},
   "outputs": [
    {
     "ename": "CudaAPIError",
     "evalue": "[700] Call to cuMemcpyDtoH results in UNKNOWN_CUDA_ERROR",
     "output_type": "error",
     "traceback": [
      "\u001b[1;31m---------------------------------------------------------------------------\u001b[0m",
      "\u001b[1;31mCudaAPIError\u001b[0m                              Traceback (most recent call last)",
      "\u001b[1;32m<ipython-input-4-967e886319f9>\u001b[0m in \u001b[0;36m<module>\u001b[1;34m\u001b[0m\n\u001b[0;32m     19\u001b[0m \u001b[1;33m\u001b[0m\u001b[0m\n\u001b[0;32m     20\u001b[0m     \u001b[0mstart_gpu\u001b[0m \u001b[1;33m=\u001b[0m \u001b[0mtime\u001b[0m\u001b[1;33m.\u001b[0m\u001b[0mtime\u001b[0m\u001b[1;33m(\u001b[0m\u001b[1;33m)\u001b[0m\u001b[1;33m\u001b[0m\u001b[1;33m\u001b[0m\u001b[0m\n\u001b[1;32m---> 21\u001b[1;33m     \u001b[0mprocess_gpu\u001b[0m\u001b[1;33m[\u001b[0m\u001b[0mblockspergrid\u001b[0m\u001b[1;33m,\u001b[0m\u001b[0mthreadsperblock\u001b[0m\u001b[1;33m]\u001b[0m\u001b[1;33m(\u001b[0m\u001b[0mdImg\u001b[0m\u001b[1;33m,\u001b[0m\u001b[0mchannels\u001b[0m\u001b[1;33m,\u001b[0m\u001b[0mout\u001b[0m\u001b[1;33m)\u001b[0m\u001b[1;33m\u001b[0m\u001b[1;33m\u001b[0m\u001b[0m\n\u001b[0m\u001b[0;32m     22\u001b[0m     \u001b[0mcuda\u001b[0m\u001b[1;33m.\u001b[0m\u001b[0msynchronize\u001b[0m\u001b[1;33m(\u001b[0m\u001b[1;33m)\u001b[0m\u001b[1;33m\u001b[0m\u001b[1;33m\u001b[0m\u001b[0m\n\u001b[0;32m     23\u001b[0m     \u001b[0mend_gpu\u001b[0m \u001b[1;33m=\u001b[0m \u001b[0mtime\u001b[0m\u001b[1;33m.\u001b[0m\u001b[0mtime\u001b[0m\u001b[1;33m(\u001b[0m\u001b[1;33m)\u001b[0m\u001b[1;33m\u001b[0m\u001b[1;33m\u001b[0m\u001b[0m\n",
      "\u001b[1;32mD:\\Miniconda3\\lib\\site-packages\\numba\\cuda\\compiler.py\u001b[0m in \u001b[0;36m__call__\u001b[1;34m(self, *args)\u001b[0m\n\u001b[0;32m    819\u001b[0m \u001b[1;33m\u001b[0m\u001b[0m\n\u001b[0;32m    820\u001b[0m     \u001b[1;32mdef\u001b[0m \u001b[0m__call__\u001b[0m\u001b[1;33m(\u001b[0m\u001b[0mself\u001b[0m\u001b[1;33m,\u001b[0m \u001b[1;33m*\u001b[0m\u001b[0margs\u001b[0m\u001b[1;33m)\u001b[0m\u001b[1;33m:\u001b[0m\u001b[1;33m\u001b[0m\u001b[1;33m\u001b[0m\u001b[0m\n\u001b[1;32m--> 821\u001b[1;33m         return self.dispatcher.call(args, self.griddim, self.blockdim,\n\u001b[0m\u001b[0;32m    822\u001b[0m                                     self.stream, self.sharedmem)\n\u001b[0;32m    823\u001b[0m \u001b[1;33m\u001b[0m\u001b[0m\n",
      "\u001b[1;32mD:\\Miniconda3\\lib\\site-packages\\numba\\cuda\\compiler.py\u001b[0m in \u001b[0;36mcall\u001b[1;34m(self, args, griddim, blockdim, stream, sharedmem)\u001b[0m\n\u001b[0;32m    964\u001b[0m             \u001b[0mkernel\u001b[0m \u001b[1;33m=\u001b[0m \u001b[0m_dispatcher\u001b[0m\u001b[1;33m.\u001b[0m\u001b[0mDispatcher\u001b[0m\u001b[1;33m.\u001b[0m\u001b[0m_cuda_call\u001b[0m\u001b[1;33m(\u001b[0m\u001b[0mself\u001b[0m\u001b[1;33m,\u001b[0m \u001b[1;33m*\u001b[0m\u001b[0margs\u001b[0m\u001b[1;33m)\u001b[0m\u001b[1;33m\u001b[0m\u001b[1;33m\u001b[0m\u001b[0m\n\u001b[0;32m    965\u001b[0m \u001b[1;33m\u001b[0m\u001b[0m\n\u001b[1;32m--> 966\u001b[1;33m         \u001b[0mkernel\u001b[0m\u001b[1;33m.\u001b[0m\u001b[0mlaunch\u001b[0m\u001b[1;33m(\u001b[0m\u001b[0margs\u001b[0m\u001b[1;33m,\u001b[0m \u001b[0mgriddim\u001b[0m\u001b[1;33m,\u001b[0m \u001b[0mblockdim\u001b[0m\u001b[1;33m,\u001b[0m \u001b[0mstream\u001b[0m\u001b[1;33m,\u001b[0m \u001b[0msharedmem\u001b[0m\u001b[1;33m)\u001b[0m\u001b[1;33m\u001b[0m\u001b[1;33m\u001b[0m\u001b[0m\n\u001b[0m\u001b[0;32m    967\u001b[0m \u001b[1;33m\u001b[0m\u001b[0m\n\u001b[0;32m    968\u001b[0m     \u001b[1;32mdef\u001b[0m \u001b[0m_compile_for_args\u001b[0m\u001b[1;33m(\u001b[0m\u001b[0mself\u001b[0m\u001b[1;33m,\u001b[0m \u001b[1;33m*\u001b[0m\u001b[0margs\u001b[0m\u001b[1;33m,\u001b[0m \u001b[1;33m**\u001b[0m\u001b[0mkws\u001b[0m\u001b[1;33m)\u001b[0m\u001b[1;33m:\u001b[0m\u001b[1;33m\u001b[0m\u001b[1;33m\u001b[0m\u001b[0m\n",
      "\u001b[1;32mD:\\Miniconda3\\lib\\site-packages\\numba\\cuda\\compiler.py\u001b[0m in \u001b[0;36mlaunch\u001b[1;34m(self, args, griddim, blockdim, stream, sharedmem)\u001b[0m\n\u001b[0;32m    735\u001b[0m         \u001b[1;31m# retrieve auto converted arrays\u001b[0m\u001b[1;33m\u001b[0m\u001b[1;33m\u001b[0m\u001b[1;33m\u001b[0m\u001b[0m\n\u001b[0;32m    736\u001b[0m         \u001b[1;32mfor\u001b[0m \u001b[0mwb\u001b[0m \u001b[1;32min\u001b[0m \u001b[0mretr\u001b[0m\u001b[1;33m:\u001b[0m\u001b[1;33m\u001b[0m\u001b[1;33m\u001b[0m\u001b[0m\n\u001b[1;32m--> 737\u001b[1;33m             \u001b[0mwb\u001b[0m\u001b[1;33m(\u001b[0m\u001b[1;33m)\u001b[0m\u001b[1;33m\u001b[0m\u001b[1;33m\u001b[0m\u001b[0m\n\u001b[0m\u001b[0;32m    738\u001b[0m \u001b[1;33m\u001b[0m\u001b[0m\n\u001b[0;32m    739\u001b[0m     \u001b[1;32mdef\u001b[0m \u001b[0m_prepare_args\u001b[0m\u001b[1;33m(\u001b[0m\u001b[0mself\u001b[0m\u001b[1;33m,\u001b[0m \u001b[0mty\u001b[0m\u001b[1;33m,\u001b[0m \u001b[0mval\u001b[0m\u001b[1;33m,\u001b[0m \u001b[0mstream\u001b[0m\u001b[1;33m,\u001b[0m \u001b[0mretr\u001b[0m\u001b[1;33m,\u001b[0m \u001b[0mkernelargs\u001b[0m\u001b[1;33m)\u001b[0m\u001b[1;33m:\u001b[0m\u001b[1;33m\u001b[0m\u001b[1;33m\u001b[0m\u001b[0m\n",
      "\u001b[1;32mD:\\Miniconda3\\lib\\site-packages\\numba\\cuda\\args.py\u001b[0m in \u001b[0;36m<lambda>\u001b[1;34m()\u001b[0m\n\u001b[0;32m     60\u001b[0m             stream=stream)\n\u001b[0;32m     61\u001b[0m         \u001b[1;32mif\u001b[0m \u001b[0mconv\u001b[0m\u001b[1;33m:\u001b[0m\u001b[1;33m\u001b[0m\u001b[1;33m\u001b[0m\u001b[0m\n\u001b[1;32m---> 62\u001b[1;33m             \u001b[0mretr\u001b[0m\u001b[1;33m.\u001b[0m\u001b[0mappend\u001b[0m\u001b[1;33m(\u001b[0m\u001b[1;32mlambda\u001b[0m\u001b[1;33m:\u001b[0m \u001b[0mdevary\u001b[0m\u001b[1;33m.\u001b[0m\u001b[0mcopy_to_host\u001b[0m\u001b[1;33m(\u001b[0m\u001b[0mself\u001b[0m\u001b[1;33m.\u001b[0m\u001b[0mvalue\u001b[0m\u001b[1;33m,\u001b[0m \u001b[0mstream\u001b[0m\u001b[1;33m=\u001b[0m\u001b[0mstream\u001b[0m\u001b[1;33m)\u001b[0m\u001b[1;33m)\u001b[0m\u001b[1;33m\u001b[0m\u001b[1;33m\u001b[0m\u001b[0m\n\u001b[0m\u001b[0;32m     63\u001b[0m         \u001b[1;32mreturn\u001b[0m \u001b[0mdevary\u001b[0m\u001b[1;33m\u001b[0m\u001b[1;33m\u001b[0m\u001b[0m\n\u001b[0;32m     64\u001b[0m \u001b[1;33m\u001b[0m\u001b[0m\n",
      "\u001b[1;32mD:\\Miniconda3\\lib\\site-packages\\numba\\cuda\\cudadrv\\devices.py\u001b[0m in \u001b[0;36m_require_cuda_context\u001b[1;34m(*args, **kws)\u001b[0m\n\u001b[0;32m    222\u001b[0m     \u001b[1;32mdef\u001b[0m \u001b[0m_require_cuda_context\u001b[0m\u001b[1;33m(\u001b[0m\u001b[1;33m*\u001b[0m\u001b[0margs\u001b[0m\u001b[1;33m,\u001b[0m \u001b[1;33m**\u001b[0m\u001b[0mkws\u001b[0m\u001b[1;33m)\u001b[0m\u001b[1;33m:\u001b[0m\u001b[1;33m\u001b[0m\u001b[1;33m\u001b[0m\u001b[0m\n\u001b[0;32m    223\u001b[0m         \u001b[1;32mwith\u001b[0m \u001b[0m_runtime\u001b[0m\u001b[1;33m.\u001b[0m\u001b[0mensure_context\u001b[0m\u001b[1;33m(\u001b[0m\u001b[1;33m)\u001b[0m\u001b[1;33m:\u001b[0m\u001b[1;33m\u001b[0m\u001b[1;33m\u001b[0m\u001b[0m\n\u001b[1;32m--> 224\u001b[1;33m             \u001b[1;32mreturn\u001b[0m \u001b[0mfn\u001b[0m\u001b[1;33m(\u001b[0m\u001b[1;33m*\u001b[0m\u001b[0margs\u001b[0m\u001b[1;33m,\u001b[0m \u001b[1;33m**\u001b[0m\u001b[0mkws\u001b[0m\u001b[1;33m)\u001b[0m\u001b[1;33m\u001b[0m\u001b[1;33m\u001b[0m\u001b[0m\n\u001b[0m\u001b[0;32m    225\u001b[0m \u001b[1;33m\u001b[0m\u001b[0m\n\u001b[0;32m    226\u001b[0m     \u001b[1;32mreturn\u001b[0m \u001b[0m_require_cuda_context\u001b[0m\u001b[1;33m\u001b[0m\u001b[1;33m\u001b[0m\u001b[0m\n",
      "\u001b[1;32mD:\\Miniconda3\\lib\\site-packages\\numba\\cuda\\cudadrv\\devicearray.py\u001b[0m in \u001b[0;36mcopy_to_host\u001b[1;34m(self, ary, stream)\u001b[0m\n\u001b[0;32m    259\u001b[0m \u001b[1;33m\u001b[0m\u001b[0m\n\u001b[0;32m    260\u001b[0m         \u001b[1;32mif\u001b[0m \u001b[0mself\u001b[0m\u001b[1;33m.\u001b[0m\u001b[0malloc_size\u001b[0m \u001b[1;33m!=\u001b[0m \u001b[1;36m0\u001b[0m\u001b[1;33m:\u001b[0m\u001b[1;33m\u001b[0m\u001b[1;33m\u001b[0m\u001b[0m\n\u001b[1;32m--> 261\u001b[1;33m             _driver.device_to_host(hostary, self, self.alloc_size,\n\u001b[0m\u001b[0;32m    262\u001b[0m                                    stream=stream)\n\u001b[0;32m    263\u001b[0m \u001b[1;33m\u001b[0m\u001b[0m\n",
      "\u001b[1;32mD:\\Miniconda3\\lib\\site-packages\\numba\\cuda\\cudadrv\\driver.py\u001b[0m in \u001b[0;36mdevice_to_host\u001b[1;34m(dst, src, size, stream)\u001b[0m\n\u001b[0;32m   2401\u001b[0m         \u001b[0mfn\u001b[0m \u001b[1;33m=\u001b[0m \u001b[0mdriver\u001b[0m\u001b[1;33m.\u001b[0m\u001b[0mcuMemcpyDtoH\u001b[0m\u001b[1;33m\u001b[0m\u001b[1;33m\u001b[0m\u001b[0m\n\u001b[0;32m   2402\u001b[0m \u001b[1;33m\u001b[0m\u001b[0m\n\u001b[1;32m-> 2403\u001b[1;33m     \u001b[0mfn\u001b[0m\u001b[1;33m(\u001b[0m\u001b[0mhost_pointer\u001b[0m\u001b[1;33m(\u001b[0m\u001b[0mdst\u001b[0m\u001b[1;33m)\u001b[0m\u001b[1;33m,\u001b[0m \u001b[0mdevice_pointer\u001b[0m\u001b[1;33m(\u001b[0m\u001b[0msrc\u001b[0m\u001b[1;33m)\u001b[0m\u001b[1;33m,\u001b[0m \u001b[0msize\u001b[0m\u001b[1;33m,\u001b[0m \u001b[1;33m*\u001b[0m\u001b[0mvarargs\u001b[0m\u001b[1;33m)\u001b[0m\u001b[1;33m\u001b[0m\u001b[1;33m\u001b[0m\u001b[0m\n\u001b[0m\u001b[0;32m   2404\u001b[0m \u001b[1;33m\u001b[0m\u001b[0m\n\u001b[0;32m   2405\u001b[0m \u001b[1;33m\u001b[0m\u001b[0m\n",
      "\u001b[1;32mD:\\Miniconda3\\lib\\site-packages\\numba\\cuda\\cudadrv\\driver.py\u001b[0m in \u001b[0;36msafe_cuda_api_call\u001b[1;34m(*args)\u001b[0m\n\u001b[0;32m    298\u001b[0m             \u001b[0m_logger\u001b[0m\u001b[1;33m.\u001b[0m\u001b[0mdebug\u001b[0m\u001b[1;33m(\u001b[0m\u001b[1;34m'call driver api: %s'\u001b[0m\u001b[1;33m,\u001b[0m \u001b[0mlibfn\u001b[0m\u001b[1;33m.\u001b[0m\u001b[0m__name__\u001b[0m\u001b[1;33m)\u001b[0m\u001b[1;33m\u001b[0m\u001b[1;33m\u001b[0m\u001b[0m\n\u001b[0;32m    299\u001b[0m             \u001b[0mretcode\u001b[0m \u001b[1;33m=\u001b[0m \u001b[0mlibfn\u001b[0m\u001b[1;33m(\u001b[0m\u001b[1;33m*\u001b[0m\u001b[0margs\u001b[0m\u001b[1;33m)\u001b[0m\u001b[1;33m\u001b[0m\u001b[1;33m\u001b[0m\u001b[0m\n\u001b[1;32m--> 300\u001b[1;33m             \u001b[0mself\u001b[0m\u001b[1;33m.\u001b[0m\u001b[0m_check_error\u001b[0m\u001b[1;33m(\u001b[0m\u001b[0mfname\u001b[0m\u001b[1;33m,\u001b[0m \u001b[0mretcode\u001b[0m\u001b[1;33m)\u001b[0m\u001b[1;33m\u001b[0m\u001b[1;33m\u001b[0m\u001b[0m\n\u001b[0m\u001b[0;32m    301\u001b[0m         \u001b[1;32mreturn\u001b[0m \u001b[0msafe_cuda_api_call\u001b[0m\u001b[1;33m\u001b[0m\u001b[1;33m\u001b[0m\u001b[0m\n\u001b[0;32m    302\u001b[0m \u001b[1;33m\u001b[0m\u001b[0m\n",
      "\u001b[1;32mD:\\Miniconda3\\lib\\site-packages\\numba\\cuda\\cudadrv\\driver.py\u001b[0m in \u001b[0;36m_check_error\u001b[1;34m(self, fname, retcode)\u001b[0m\n\u001b[0;32m    333\u001b[0m                     \u001b[0m_logger\u001b[0m\u001b[1;33m.\u001b[0m\u001b[0mcritical\u001b[0m\u001b[1;33m(\u001b[0m\u001b[0mmsg\u001b[0m\u001b[1;33m,\u001b[0m \u001b[0m_getpid\u001b[0m\u001b[1;33m(\u001b[0m\u001b[1;33m)\u001b[0m\u001b[1;33m,\u001b[0m \u001b[0mself\u001b[0m\u001b[1;33m.\u001b[0m\u001b[0mpid\u001b[0m\u001b[1;33m)\u001b[0m\u001b[1;33m\u001b[0m\u001b[1;33m\u001b[0m\u001b[0m\n\u001b[0;32m    334\u001b[0m                     \u001b[1;32mraise\u001b[0m \u001b[0mCudaDriverError\u001b[0m\u001b[1;33m(\u001b[0m\u001b[1;34m\"CUDA initialized before forking\"\u001b[0m\u001b[1;33m)\u001b[0m\u001b[1;33m\u001b[0m\u001b[1;33m\u001b[0m\u001b[0m\n\u001b[1;32m--> 335\u001b[1;33m             \u001b[1;32mraise\u001b[0m \u001b[0mCudaAPIError\u001b[0m\u001b[1;33m(\u001b[0m\u001b[0mretcode\u001b[0m\u001b[1;33m,\u001b[0m \u001b[0mmsg\u001b[0m\u001b[1;33m)\u001b[0m\u001b[1;33m\u001b[0m\u001b[1;33m\u001b[0m\u001b[0m\n\u001b[0m\u001b[0;32m    336\u001b[0m \u001b[1;33m\u001b[0m\u001b[0m\n\u001b[0;32m    337\u001b[0m     \u001b[1;32mdef\u001b[0m \u001b[0mget_device\u001b[0m\u001b[1;33m(\u001b[0m\u001b[0mself\u001b[0m\u001b[1;33m,\u001b[0m \u001b[0mdevnum\u001b[0m\u001b[1;33m=\u001b[0m\u001b[1;36m0\u001b[0m\u001b[1;33m)\u001b[0m\u001b[1;33m:\u001b[0m\u001b[1;33m\u001b[0m\u001b[1;33m\u001b[0m\u001b[0m\n",
      "\u001b[1;31mCudaAPIError\u001b[0m: [700] Call to cuMemcpyDtoH results in UNKNOWN_CUDA_ERROR"
     ]
    }
   ],
   "source": [
    "if __name__ == \"__main__\":\n",
    "    start_time = time.time()\n",
    "    dir_path = r\"D:\\Desktop\\mypaper\\version17\\data\\table\\data\"\n",
    "    filename = \"gee-LAI-10884.tif\"\n",
    "    file_path = os.path.join(dir_path, filename)\n",
    "    dataset = Dataset(file_path)\n",
    "    data = dataset.get_data( ).transpose()\n",
    "    rows,cols,channels = data.shape\n",
    "#     xdata=np.expand_dims(np.arange(1,366,4), axis=[0,1]).repeat(rows,axis=0).repeat(cols,axis=1)\n",
    "    out=np.zeros((rows ,cols,channels), dtype=np.float32)\n",
    "    dImg = cuda.to_device(data)\n",
    "    d_xdata=cuda.to_device(out)\n",
    "    \n",
    "    threadsperblock = (16,16)\n",
    "    blockspergrid_x = int(math.ceil(rows/threadsperblock[0]))\n",
    "    blockspergrid_y = int(math.ceil(cols/threadsperblock[1]))\n",
    "    blockspergrid = (blockspergrid_x,blockspergrid_y)\n",
    "    cuda.synchronize()\n",
    "    \n",
    "    start_gpu = time.time()\n",
    "    process_gpu[blockspergrid,threadsperblock](dImg,channels)\n",
    "    cuda.synchronize()\n",
    "    end_gpu = time.time()\n",
    "    \n",
    "    dst_gpu=dImg.copy_to_host()"
   ]
  },
  {
   "cell_type": "code",
   "execution_count": null,
   "id": "bdacafae",
   "metadata": {},
   "outputs": [],
   "source": [
    "print(dst_gpu.shape)"
   ]
  },
  {
   "cell_type": "code",
   "execution_count": null,
   "id": "89798eb1",
   "metadata": {},
   "outputs": [],
   "source": [
    "print(dst_gpu.shape)"
   ]
  },
  {
   "cell_type": "code",
   "execution_count": null,
   "id": "bae12d9b",
   "metadata": {},
   "outputs": [],
   "source": []
  }
 ],
 "metadata": {
  "kernelspec": {
   "display_name": "Python 3",
   "language": "python",
   "name": "python3"
  },
  "language_info": {
   "codemirror_mode": {
    "name": "ipython",
    "version": 3
   },
   "file_extension": ".py",
   "mimetype": "text/x-python",
   "name": "python",
   "nbconvert_exporter": "python",
   "pygments_lexer": "ipython3",
   "version": "3.9.1"
  }
 },
 "nbformat": 4,
 "nbformat_minor": 5
}

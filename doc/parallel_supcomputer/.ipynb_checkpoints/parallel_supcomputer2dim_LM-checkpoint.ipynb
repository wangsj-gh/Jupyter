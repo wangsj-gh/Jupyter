{
 "cells": [
  {
   "cell_type": "code",
   "execution_count": 1,
   "metadata": {},
   "outputs": [],
   "source": [
    "import numpy as np\n",
    "import pandas as pd\n",
    "from osgeo import gdal\n",
    "from scipy.optimize import curve_fit\n",
    "import os"
   ]
  },
  {
   "cell_type": "code",
   "execution_count": 2,
   "metadata": {},
   "outputs": [],
   "source": [
    "class Dataset:\n",
    "    def __init__(self, in_file):\n",
    "        self.in_file = in_file  # Tiff或者ENVI文件\n",
    "\n",
    "        dataset = gdal.Open(self.in_file)\n",
    "        self.XSize = dataset.RasterXSize  # 网格的X轴像素数量\n",
    "        self.YSize = dataset.RasterYSize  # 网格的Y轴像素数量\n",
    "        self.Bands = dataset.RasterCount  # 波段数\n",
    "        self.GeoTransform = dataset.GetGeoTransform()  # 投影转换信息\n",
    "        self.ProjectionInfo = dataset.GetProjection()  # 投影信息\n",
    "    \n",
    "    def get_data(self):\n",
    "        #band: 读取第几个通道的数据\n",
    "        dataset = gdal.Open(self.in_file)\n",
    "        data = dataset.ReadAsArray(0,0,self.XSize,self.YSize)\n",
    "        return data\n",
    "    \n",
    "\n",
    "    def get_lon_lat(self):\n",
    "        #获取经纬度信息\n",
    "        gtf = self.GeoTransform\n",
    "        x_range = range(0, self.XSize)\n",
    "        y_range = range(0, self.YSize)\n",
    "        x, y = np.meshgrid(x_range, y_range)\n",
    "        lon = gtf[0] + x * gtf[1] + y * gtf[2]\n",
    "        lat = gtf[3] + x * gtf[4] + y * gtf[5]\n",
    "        \n",
    "        lon_lat=[]\n",
    "        for (longitude,latitude) in zip(lon,lat):\n",
    "            lon_lat.append(list(zip(longitude,latitude)))\n",
    "            \n",
    "        return np.array(lon_lat)\n",
    "    \n",
    "    def new_dataset(self,data,lon_lat):\n",
    "        new_dataset=[]\n",
    "        for i in range(self.YSize):\n",
    "            for j in range(self.XSize):\n",
    "                x1 = lon_lat[i,j]\n",
    "                x2 = data[:,i,j]\n",
    "                x=np.hstack((x1,x2))\n",
    "                new_dataset.append(x)\n",
    "            \n",
    "        return np.array(new_dataset)\n",
    "    \n",
    "    def dataset2dim(self,data):\n",
    "        dataset2dim=[]\n",
    "        for i in range(self.YSize):\n",
    "            for j in range(self.XSize):\n",
    "#                 x1 = lon_lat[i,j]\n",
    "                x2 = data[:,i,j]\n",
    "#                 x=np.hstack((x1,x2))\n",
    "                dataset2dim.append(x2)\n",
    "\n",
    "        return np.array(dataset2dim)"
   ]
  },
  {
   "cell_type": "code",
   "execution_count": 3,
   "metadata": {},
   "outputs": [],
   "source": [
    "dir_path = r\"D:\\Desktop\\mypaper\\data\"\n",
    "filename = \"gee-EVI-108.tif\"\n",
    "file_path = os.path.join(dir_path, filename)\n",
    "dataset = Dataset(file_path)\n",
    "\n",
    "data = dataset.get_data( ) \n",
    "\n",
    "lon_lat = dataset.get_lon_lat()  # 获取经纬度信息longitude, latitude\n",
    "# new_dataset=dataset.new_dataset(data,lon_lat)\n",
    "dataset2dim=dataset.dataset2dim(data)"
   ]
  },
  {
   "cell_type": "code",
   "execution_count": 4,
   "metadata": {},
   "outputs": [
    {
     "name": "stdout",
     "output_type": "stream",
     "text": [
      "(156, 23)\n",
      "[2548 1398 2521 1311 2242 1930 2299 3467 5317 7189 6212 6874 5905 6777\n",
      " 5535 5293 4680 3442 2700 2168 1891 1578 1887]\n"
     ]
    }
   ],
   "source": [
    "print(dataset2dim.shape)\n",
    "print(dataset2dim[0])"
   ]
  },
  {
   "cell_type": "code",
   "execution_count": 5,
   "metadata": {},
   "outputs": [
    {
     "name": "stdout",
     "output_type": "stream",
     "text": [
      "156 23\n"
     ]
    }
   ],
   "source": [
    "xdim=dataset2dim.shape[0]\n",
    "ydim=dataset2dim.shape[1]\n",
    "print(xdim,ydim)"
   ]
  },
  {
   "cell_type": "code",
   "execution_count": 6,
   "metadata": {},
   "outputs": [
    {
     "name": "stdout",
     "output_type": "stream",
     "text": [
      "pData (156, 6)\n",
      "xData (156, 23)\n"
     ]
    }
   ],
   "source": [
    "pInput=[10,40,0.1,100,0.1,240]\n",
    "pData=np.repeat([pInput],xdim,axis=0)\n",
    "print('pData',pData.shape)\n",
    "xInput=np.linspace(9, 361, 23)\n",
    "xData=np.repeat([xInput],xdim,axis=0)\n",
    "print('xData',xData.shape)"
   ]
  },
  {
   "cell_type": "code",
   "execution_count": 7,
   "metadata": {},
   "outputs": [],
   "source": [
    "def my_Func(xData,pData):\n",
    "    m1,m2,m3,m4,m5,m6=pData\n",
    "    x=xData\n",
    "    return m1 + m2 /(1 + np.exp(-m3 * (x-m4))) - m2/(1 + np.exp(-m5 * (x-m6)))"
   ]
  },
  {
   "cell_type": "code",
   "execution_count": 8,
   "metadata": {},
   "outputs": [
    {
     "data": {
      "text/plain": [
       "(156, 23)"
      ]
     },
     "execution_count": 8,
     "metadata": {},
     "output_type": "execute_result"
    }
   ],
   "source": [
    "np.array(list(map(my_Func,xData,pData))).shape"
   ]
  },
  {
   "cell_type": "code",
   "execution_count": 9,
   "metadata": {},
   "outputs": [],
   "source": [
    "def cal_residual(xData,pData,obs_data):\n",
    "    fitting_data=np.array(list(map(my_Func,xData,pData)))\n",
    "    residual=np.array(list(map(lambda obs, fitting: obs - fitting,obs_data,fitting_data)))\n",
    "    return residual"
   ]
  },
  {
   "cell_type": "code",
   "execution_count": 10,
   "metadata": {
    "scrolled": true
   },
   "outputs": [
    {
     "data": {
      "text/plain": [
       "(156, 23)"
      ]
     },
     "execution_count": 10,
     "metadata": {},
     "output_type": "execute_result"
    }
   ],
   "source": [
    "residual=cal_residual(xData,pData,dataset2dim)\n",
    "residual.shape"
   ]
  },
  {
   "cell_type": "code",
   "execution_count": 11,
   "metadata": {},
   "outputs": [],
   "source": [
    "def cal_Jacobian(xData,pData):\n",
    "    xdim_p=pData.shape[0]\n",
    "    ydim_p=xData.shape[1]\n",
    "    zdim_p=pData.shape[1]\n",
    "    J = np.zeros((xdim_p,ydim_p,zdim_p))#156 23 6\n",
    "    for i in range(zdim_p):\n",
    "        param1=pData.copy()\n",
    "        param2=pData.copy()\n",
    "        param1[:,i]+=0.000001\n",
    "        param2[:,i]-=0.000001\n",
    "        y1=np.array(list(map(my_Func,xData,param1)))\n",
    "        y2=np.array(list(map(my_Func,xData,param2)))\n",
    "        slope=(y1-y2)/0.000002\n",
    "        J[:,:,i]=slope\n",
    "    return J"
   ]
  },
  {
   "cell_type": "code",
   "execution_count": 12,
   "metadata": {},
   "outputs": [
    {
     "data": {
      "text/plain": [
       "(156, 23, 6)"
      ]
     },
     "execution_count": 12,
     "metadata": {},
     "output_type": "execute_result"
    }
   ],
   "source": [
    "Jacobian=cal_Jacobian(xData,pData)\n",
    "Jacobian.shape"
   ]
  },
  {
   "cell_type": "code",
   "execution_count": 13,
   "metadata": {},
   "outputs": [
    {
     "data": {
      "text/plain": [
       "(156, 6, 6)"
      ]
     },
     "execution_count": 13,
     "metadata": {},
     "output_type": "execute_result"
    }
   ],
   "source": [
    "A=np.matmul(Jacobian.transpose(0,2,1),Jacobian)\n",
    "A.shape"
   ]
  },
  {
   "cell_type": "code",
   "execution_count": 14,
   "metadata": {},
   "outputs": [],
   "source": [
    "def get_init_u(A):\n",
    "    m=np.array(list(map(lambda x:x.diagonal().max()*0.001,A)))\n",
    "    B = np.expand_dims(m, axis=1)\n",
    "    return B"
   ]
  },
  {
   "cell_type": "code",
   "execution_count": 15,
   "metadata": {},
   "outputs": [
    {
     "data": {
      "text/plain": [
       "(156, 1)"
      ]
     },
     "execution_count": 15,
     "metadata": {},
     "output_type": "execute_result"
    }
   ],
   "source": [
    "u=get_init_u(A)\n",
    "u.shape"
   ]
  },
  {
   "cell_type": "code",
   "execution_count": 16,
   "metadata": {},
   "outputs": [
    {
     "data": {
      "text/plain": [
       "(156, 6)"
      ]
     },
     "execution_count": 16,
     "metadata": {},
     "output_type": "execute_result"
    }
   ],
   "source": [
    "g=np.array(list(map(lambda x,y:np.matmul(x.transpose(),y),Jacobian,residual)))\n",
    "g.shape"
   ]
  },
  {
   "cell_type": "code",
   "execution_count": 17,
   "metadata": {},
   "outputs": [
    {
     "data": {
      "text/plain": [
       "(156, 6, 6)"
      ]
     },
     "execution_count": 17,
     "metadata": {},
     "output_type": "execute_result"
    }
   ],
   "source": [
    "H=np.repeat([np.eye(pData.shape[1])],pData.shape[0],axis=0)\n",
    "Hessian_LM=A+np.array(list(map(lambda x,y:x*y,u,H)))\n",
    "Hessian_LM.shape"
   ]
  },
  {
   "cell_type": "code",
   "execution_count": 18,
   "metadata": {},
   "outputs": [
    {
     "data": {
      "text/plain": [
       "(156, 6)"
      ]
     },
     "execution_count": 18,
     "metadata": {},
     "output_type": "execute_result"
    }
   ],
   "source": [
    "step=np.array(list(map(lambda x,y:np.matmul(y,np.linalg.inv(x)),Hessian_LM,g)))\n",
    "step.shape"
   ]
  },
  {
   "cell_type": "code",
   "execution_count": 19,
   "metadata": {},
   "outputs": [
    {
     "data": {
      "text/plain": [
       "(156, 6)"
      ]
     },
     "execution_count": 19,
     "metadata": {},
     "output_type": "execute_result"
    }
   ],
   "source": [
    "new_pData=pData+step\n",
    "new_pData.shape"
   ]
  },
  {
   "cell_type": "code",
   "execution_count": 20,
   "metadata": {},
   "outputs": [
    {
     "name": "stderr",
     "output_type": "stream",
     "text": [
      "d:\\python37\\lib\\site-packages\\ipykernel_launcher.py:4: RuntimeWarning: overflow encountered in exp\n",
      "  after removing the cwd from sys.path.\n"
     ]
    },
    {
     "data": {
      "text/plain": [
       "(156, 23)"
      ]
     },
     "execution_count": 20,
     "metadata": {},
     "output_type": "execute_result"
    }
   ],
   "source": [
    "new_residual=cal_residual(xData,new_pData,dataset2dim)\n",
    "new_residual.shape"
   ]
  },
  {
   "cell_type": "code",
   "execution_count": 21,
   "metadata": {},
   "outputs": [
    {
     "data": {
      "text/plain": [
       "(156, 1)"
      ]
     },
     "execution_count": 21,
     "metadata": {},
     "output_type": "execute_result"
    }
   ],
   "source": [
    "mse=np.expand_dims(np.array(list(map(lambda x:np.linalg.norm(x)**2,new_residual))),axis=1)\n",
    "mse.shape"
   ]
  },
  {
   "cell_type": "code",
   "execution_count": 22,
   "metadata": {},
   "outputs": [
    {
     "data": {
      "text/plain": [
       "(156, 1)"
      ]
     },
     "execution_count": 22,
     "metadata": {},
     "output_type": "execute_result"
    }
   ],
   "source": [
    "new_mse=np.expand_dims(np.array(list(map(lambda x:np.linalg.norm(x)**2,new_residual))),axis=1)\n",
    "new_mse.shape"
   ]
  },
  {
   "cell_type": "code",
   "execution_count": 23,
   "metadata": {},
   "outputs": [
    {
     "data": {
      "text/plain": [
       "(156, 1)"
      ]
     },
     "execution_count": 23,
     "metadata": {},
     "output_type": "execute_result"
    }
   ],
   "source": [
    "rou=np.array(list(map(lambda mse, new_mse,step,u,g:\\\n",
    "                     (mse-new_mse)/(np.matmul(step.transpose(),u*step+g)),\\\n",
    "                     mse, new_mse,step,u,g)))\n",
    "rou.shape"
   ]
  },
  {
   "cell_type": "code",
   "execution_count": null,
   "metadata": {},
   "outputs": [],
   "source": []
  },
  {
   "cell_type": "code",
   "execution_count": 24,
   "metadata": {},
   "outputs": [],
   "source": [
    "def LM_algorithm(xData,pData,obs_data):\n",
    "    residual=cal_residual(xData,pData,obs_data)\n",
    "    Jacobian=cal_Jacobian(xData,pData)\n",
    "    A=np.matmul(Jacobian.transpose(0,2,1),Jacobian)\n",
    "    u=get_init_u(A)\n",
    "    v=np.ones((pData.shape[0],1))*2\n",
    "    for i in range(40):\n",
    "        Jacobian=cal_Jacobian(xData,pData)\n",
    "        A=np.matmul(Jacobian.transpose(0,2,1),Jacobian)\n",
    "        g=np.array(list(map(lambda x,y:np.matmul(x.transpose(),y),Jacobian,residual)))\n",
    "        H=np.repeat([np.eye(pData.shape[1])],pData.shape[0],axis=0)\n",
    "        Hessian_LM=A+np.array(list(map(lambda x,y:x*y,u,H)))\n",
    "        step=np.array(list(map(lambda x,y:np.matmul(y,np.linalg.inv(x)),Hessian_LM,g)))\n",
    "        new_pData=pData+step\n",
    "        new_residual=cal_residual(xData,new_pData,obs_data)\n",
    "        mse=np.expand_dims(np.array(list(map(lambda x:np.linalg.norm(x)**2,residual))),axis=1)\n",
    "        new_mse=np.expand_dims(np.array(list(map(lambda x:np.linalg.norm(x)**2,new_residual))),axis=1)\n",
    "        rou\n",
    "        \n",
    "        \n",
    "        "
   ]
  },
  {
   "cell_type": "code",
   "execution_count": null,
   "metadata": {},
   "outputs": [],
   "source": []
  },
  {
   "cell_type": "code",
   "execution_count": null,
   "metadata": {},
   "outputs": [],
   "source": []
  },
  {
   "cell_type": "code",
   "execution_count": null,
   "metadata": {},
   "outputs": [],
   "source": []
  }
 ],
 "metadata": {
  "kernelspec": {
   "display_name": "Python 3",
   "language": "python",
   "name": "python3"
  },
  "language_info": {
   "codemirror_mode": {
    "name": "ipython",
    "version": 3
   },
   "file_extension": ".py",
   "mimetype": "text/x-python",
   "name": "python",
   "nbconvert_exporter": "python",
   "pygments_lexer": "ipython3",
   "version": "3.7.9"
  }
 },
 "nbformat": 4,
 "nbformat_minor": 4
}

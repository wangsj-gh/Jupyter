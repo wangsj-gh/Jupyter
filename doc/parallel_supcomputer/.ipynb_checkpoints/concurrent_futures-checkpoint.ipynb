{
 "cells": [
  {
   "cell_type": "code",
   "execution_count": 1,
   "metadata": {},
   "outputs": [],
   "source": [
    "import numpy as np\n",
    "import pandas as pd\n",
    "from scipy.optimize import curve_fit\n",
    "from osgeo import gdal\n",
    "import os\n",
    "import time\n",
    "import concurrent.futures"
   ]
  },
  {
   "cell_type": "code",
   "execution_count": 2,
   "metadata": {},
   "outputs": [],
   "source": [
    "class Dataset:\n",
    "    def __init__(self, in_file):\n",
    "        self.in_file = in_file  # Tiff或者ENVI文件\n",
    "\n",
    "        dataset = gdal.Open(self.in_file)\n",
    "        self.XSize = dataset.RasterXSize  # 网格的X轴像素数量\n",
    "        self.YSize = dataset.RasterYSize  # 网格的Y轴像素数量\n",
    "        self.Bands = dataset.RasterCount  # 波段数\n",
    "        self.GeoTransform = dataset.GetGeoTransform()  # 投影转换信息\n",
    "        self.ProjectionInfo = dataset.GetProjection()  # 投影信息\n",
    "    \n",
    "    def get_data(self):\n",
    "        #band: 读取第几个通道的数据\n",
    "        dataset = gdal.Open(self.in_file)\n",
    "        data = dataset.ReadAsArray(0,0,self.XSize,self.YSize)\n",
    "        return data\n",
    "    \n",
    "\n",
    "    def get_lon_lat(self):\n",
    "        #获取经纬度信息\n",
    "        gtf = self.GeoTransform\n",
    "        x_range = range(0, self.XSize)\n",
    "        y_range = range(0, self.YSize)\n",
    "        x, y = np.meshgrid(x_range, y_range)\n",
    "        lon = gtf[0] + x * gtf[1] + y * gtf[2]\n",
    "        lat = gtf[3] + x * gtf[4] + y * gtf[5]\n",
    "        \n",
    "        lon_lat=[]\n",
    "        for (longitude,latitude) in zip(lon,lat):\n",
    "            lon_lat.append(list(zip(longitude,latitude)))  \n",
    "        return np.array(lon_lat)\n",
    "    \n",
    "    def get_lon_lat_dataset(self,data,lon_lat):\n",
    "        dataset=[]\n",
    "        for i in range(self.YSize):\n",
    "            for j in range(self.XSize):\n",
    "                x1 = lon_lat[i,j]\n",
    "                x2 = data[:,i,j]\n",
    "                x=np.hstack((x1,x2))\n",
    "                dataset.append(x)  \n",
    "        return np.array(dataset)\n",
    "    \n",
    "    def get_dataset(self,data):\n",
    "        datas=[]\n",
    "        for i in range(self.YSize):\n",
    "            for j in range(self.XSize):\n",
    "                x2 = data[:,i,j]\n",
    "                datas.append(x2)\n",
    "        return np.array(datas)"
   ]
  },
  {
   "cell_type": "code",
   "execution_count": 3,
   "metadata": {},
   "outputs": [],
   "source": [
    "def func(x, m1, m2, m3, m4, m5, m6):\n",
    "    return m1 + m2 /(1 + np.exp(-m3 * (x-m4))) - m2/(1 + np.exp(-m5 * (x-m6)))\n",
    "\n",
    "#注意初值\n",
    "def get_param(yData):\n",
    "    xData=xInput=np.linspace(1, 365, 92)\n",
    "    Parameters, pcov = curve_fit(func, xData, yData, p0=[5,40,0.1,140,0.1,270], maxfev=100000000)#,method='trf', maxfev=1000000)\n",
    "    return Parameters"
   ]
  },
  {
   "cell_type": "code",
   "execution_count": 4,
   "metadata": {},
   "outputs": [
    {
     "name": "stderr",
     "output_type": "stream",
     "text": [
      "d:\\python37\\lib\\site-packages\\ipykernel_launcher.py:2: RuntimeWarning: overflow encountered in exp\n",
      "  \n",
      "d:\\python37\\lib\\site-packages\\scipy\\optimize\\minpack.py:829: OptimizeWarning: Covariance of the parameters could not be estimated\n",
      "  category=OptimizeWarning)\n"
     ]
    },
    {
     "name": "stdout",
     "output_type": "stream",
     "text": [
      "Thread pool execution in 85.95715117454529 seconds\n"
     ]
    }
   ],
   "source": [
    "start_time=time.time()\n",
    "\n",
    "dir_path = r\"D:\\Desktop\\mypaper\\data\"\n",
    "filename = \"gee-LAI-10884.tif\"\n",
    "file_path = os.path.join(dir_path, filename)\n",
    "data_path = Dataset(file_path)\n",
    "\n",
    "data = data_path.get_data( ) \n",
    "\n",
    "lon_lat = data_path.get_lon_lat()  # 获取经纬度信息longitude, latitude\n",
    "\n",
    "# lon_lat_dataset=data_path.get_lon_lat_dataset(data,lon_lat)\n",
    "dataset=data_path.get_dataset(data)\n",
    "\n",
    "result_second_fitting=[]\n",
    "with concurrent.futures.ThreadPoolExecutor(max_workers=8) as executor:\n",
    "    futures = [executor.submit(get_param, item) for item in dataset]\n",
    "    for future in concurrent.futures.as_completed(futures):\n",
    "      #print(future.result())\n",
    "      result_second_fitting.append(future.result())\n",
    "      #return result_second_fitting\n",
    "print (\"Thread pool execution in \" + str(time.time() - start_time), \"seconds\")"
   ]
  },
  {
   "cell_type": "code",
   "execution_count": 5,
   "metadata": {},
   "outputs": [
    {
     "name": "stdout",
     "output_type": "stream",
     "text": [
      "12656\n"
     ]
    }
   ],
   "source": [
    "print(len(result_second_fitting))"
   ]
  },
  {
   "cell_type": "code",
   "execution_count": null,
   "metadata": {},
   "outputs": [],
   "source": [
    "from concurrent.futures import ThreadPoolExecutor\n",
    "\n",
    "start_time=time.time()\n",
    "\n",
    "dir_path = r\"D:\\Desktop\\mypaper\\data\"\n",
    "filename = \"gee-LAI-10884.tif\"\n",
    "file_path = os.path.join(dir_path, filename)\n",
    "data_path = Dataset(file_path)\n",
    "\n",
    "data = data_path.get_data( ) \n",
    "\n",
    "lon_lat = data_path.get_lon_lat()  # 获取经纬度信息longitude, latitude\n",
    "\n",
    "# lon_lat_dataset=data_path.get_lon_lat_dataset(data,lon_lat)\n",
    "dataset=data_path.get_dataset(data)\n",
    "\n",
    "result_second_fitting=[]\n",
    "with ThreadPoolExecutor(max_workers=8) as executor:\n",
    "    res=executor.map(get_param,dataset)\n",
    "result=np.array(res)\n",
    "print (\"Thread pool execution in \" + str(time.time() - start_time), \"seconds\")"
   ]
  }
 ],
 "metadata": {
  "kernelspec": {
   "display_name": "Python 3",
   "language": "python",
   "name": "python3"
  },
  "language_info": {
   "codemirror_mode": {
    "name": "ipython",
    "version": 3
   },
   "file_extension": ".py",
   "mimetype": "text/x-python",
   "name": "python",
   "nbconvert_exporter": "python",
   "pygments_lexer": "ipython3",
   "version": "3.7.9"
  }
 },
 "nbformat": 4,
 "nbformat_minor": 4
}

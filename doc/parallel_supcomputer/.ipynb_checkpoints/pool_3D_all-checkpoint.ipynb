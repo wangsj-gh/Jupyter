{
 "cells": [
  {
   "cell_type": "code",
   "execution_count": 1,
   "metadata": {},
   "outputs": [
    {
     "name": "stdout",
     "output_type": "stream",
     "text": [
      "\n",
      "D:\\wangsj\\Jupyter\\parallel_supcomputer>if defined CONDA_BUILD_STATE () \n",
      "\n",
      "D:\\wangsj\\Jupyter\\parallel_supcomputer>if defined MSMPI_BIN (set \"MSMPI_BIN_CONDA_BACKUP=\" ) \n",
      "\n",
      "D:\\wangsj\\Jupyter\\parallel_supcomputer>if defined MSMPI_INC (set \"MSMPI_INC_CONDA_BACKUP=\" ) \n",
      "\n",
      "D:\\wangsj\\Jupyter\\parallel_supcomputer>if defined MSMPI_LIB64 (set \"MSMPI_LIB64_CONDA_BACKUP=\" ) \n",
      "\n",
      "D:\\wangsj\\Jupyter\\parallel_supcomputer>if defined MSMPI_LIB32 (set \"MSMPI_LIB32_CONDA_BACKUP=\" ) \n",
      "\n",
      "D:\\wangsj\\Jupyter\\parallel_supcomputer>set MSMPI_BIN= \n",
      "\n",
      "D:\\wangsj\\Jupyter\\parallel_supcomputer>set MSMPI_INC= \n",
      "\n",
      "D:\\wangsj\\Jupyter\\parallel_supcomputer>set MSMPI_LIB64= \n",
      "\n",
      "D:\\wangsj\\Jupyter\\parallel_supcomputer>set MSMPI_LIB32=\"\" \n"
     ]
    }
   ],
   "source": [
    "!conda activate base"
   ]
  },
  {
   "cell_type": "code",
   "execution_count": 1,
   "metadata": {},
   "outputs": [
    {
     "name": "stdout",
     "output_type": "stream",
     "text": [
      "Microsoft MPI Startup Program [Version 10.1.12498.16] [PRE-RELEASE]\n",
      "\n",
      "Launches an application on multiple hosts.\n",
      "\n",
      "Usage:\n",
      "\n",
      "    mpiexec [options] executable [args] [ : [options] exe [args] : ... ]\n",
      "    mpiexec -configfile <file name>\n",
      "\n",
      "Common options:\n",
      "\n",
      "-n <num_processes>\n",
      "-env <env_var_name> <env_var_value>\n",
      "-wdir <working_directory>\n",
      "-hosts n host1 [m1] host2 [m2] ... hostn [mn]\n",
      "-cores <num_cores_per_host>\n",
      "-lines\n",
      "-debug [0-3]\n",
      "-logfile <log file>\n",
      "\n",
      "Examples:\n",
      "\n",
      "    mpiexec -n 4 pi.exe\n",
      "    mpiexec -hosts 1 server1 master : -n 8 worker\n",
      "\n",
      "For a complete list of options, run mpiexec -help2\n",
      "For a list of environment variables, run mpiexec -help3\n",
      "\n",
      "You can reach the Microsoft MPI team via email at askmpi@microsoft.com\n"
     ]
    }
   ],
   "source": [
    "!mpiexec"
   ]
  },
  {
   "cell_type": "code",
   "execution_count": 2,
   "metadata": {},
   "outputs": [],
   "source": [
    "import numpy as np\n",
    "import pandas as pd\n",
    "from scipy.optimize import curve_fit\n",
    "from osgeo import gdal\n",
    "import os\n",
    "import time\n",
    "import multiprocessing as mp"
   ]
  },
  {
   "cell_type": "code",
   "execution_count": 3,
   "metadata": {},
   "outputs": [],
   "source": [
    "class Dataset:\n",
    "    def __init__(self, in_file):\n",
    "        self.in_file = in_file  # Tiff或者ENVI文件\n",
    "\n",
    "        dataset = gdal.Open(self.in_file)\n",
    "        self.XSize = dataset.RasterXSize  # 网格的X轴像素数量\n",
    "        self.YSize = dataset.RasterYSize  # 网格的Y轴像素数量\n",
    "        self.Bands = dataset.RasterCount  # 波段数\n",
    "        self.GeoTransform = dataset.GetGeoTransform()  # 投影转换信息\n",
    "        self.ProjectionInfo = dataset.GetProjection()  # 投影信息\n",
    "    \n",
    "    def get_data(self):\n",
    "        #band: 读取第几个通道的数据\n",
    "        dataset = gdal.Open(self.in_file)\n",
    "        data = dataset.ReadAsArray(0,0,self.XSize,self.YSize)\n",
    "        return data\n",
    "\n",
    "    \n",
    "    def get_lon_lat(self):\n",
    "        #获取经纬度信息\n",
    "        gtf = self.GeoTransform\n",
    "        x_range = range(0, self.XSize)\n",
    "        y_range = range(0, self.YSize)\n",
    "        x, y = np.meshgrid(x_range, y_range)\n",
    "        lon = gtf[0] + x * gtf[1] + y * gtf[2]\n",
    "        lat = gtf[3] + x * gtf[4] + y * gtf[5]\n",
    "        lon_lat=np.array(list(zip(lon,lat)))\n",
    "        return lon_lat"
   ]
  },
  {
   "cell_type": "code",
   "execution_count": 4,
   "metadata": {},
   "outputs": [],
   "source": [
    "def func(x, m1, m2, m3, m4, m5, m6):\n",
    "    return m1 + m2 /(1 + np.exp(-m3 * (x-m4))) - m2/(1 + np.exp(-m5 * (x-m6)))\n",
    "\n",
    "###注意xData,p0\n",
    "def get_param(Data):\n",
    "    yData=Data[2::]\n",
    "    lon_lat_Data=Data[0:2]\n",
    "    xData=np.linspace(1, 365, 92)\n",
    "    par, pcov = curve_fit(func, xData, yData, p0=[5,40,0.1,140,0.1,270], maxfev=100000000)#,method='trf', maxfev=1000000)\n",
    "    Parameters=np.hstack((lon_lat_Data,par))\n",
    "    return Parameters\n",
    "\n",
    "def fitting(yData):\n",
    "    result=np.array(list(map(get_param,yData)))\n",
    "    return result\n"
   ]
  },
  {
   "cell_type": "code",
   "execution_count": 5,
   "metadata": {},
   "outputs": [
    {
     "ename": "AttributeError",
     "evalue": "'NoneType' object has no attribute 'RasterXSize'",
     "output_type": "error",
     "traceback": [
      "\u001b[1;31m---------------------------------------------------------------------------\u001b[0m",
      "\u001b[1;31mAttributeError\u001b[0m                            Traceback (most recent call last)",
      "\u001b[1;32m<ipython-input-5-1a5082f89b78>\u001b[0m in \u001b[0;36m<module>\u001b[1;34m\u001b[0m\n\u001b[0;32m      4\u001b[0m     \u001b[0mfilename\u001b[0m \u001b[1;33m=\u001b[0m \u001b[1;34m\"gee-LAI-108.tif\"\u001b[0m\u001b[1;33m\u001b[0m\u001b[1;33m\u001b[0m\u001b[0m\n\u001b[0;32m      5\u001b[0m     \u001b[0mfile_path\u001b[0m \u001b[1;33m=\u001b[0m \u001b[0mos\u001b[0m\u001b[1;33m.\u001b[0m\u001b[0mpath\u001b[0m\u001b[1;33m.\u001b[0m\u001b[0mjoin\u001b[0m\u001b[1;33m(\u001b[0m\u001b[0mdir_path\u001b[0m\u001b[1;33m,\u001b[0m \u001b[0mfilename\u001b[0m\u001b[1;33m)\u001b[0m\u001b[1;33m\u001b[0m\u001b[1;33m\u001b[0m\u001b[0m\n\u001b[1;32m----> 6\u001b[1;33m     \u001b[0mdata_path\u001b[0m \u001b[1;33m=\u001b[0m \u001b[0mDataset\u001b[0m\u001b[1;33m(\u001b[0m\u001b[0mfile_path\u001b[0m\u001b[1;33m)\u001b[0m\u001b[1;33m\u001b[0m\u001b[1;33m\u001b[0m\u001b[0m\n\u001b[0m\u001b[0;32m      7\u001b[0m     \u001b[0mdata\u001b[0m \u001b[1;33m=\u001b[0m \u001b[0mdata_path\u001b[0m\u001b[1;33m.\u001b[0m\u001b[0mget_data\u001b[0m\u001b[1;33m(\u001b[0m \u001b[1;33m)\u001b[0m\u001b[1;33m.\u001b[0m\u001b[0mtranspose\u001b[0m\u001b[1;33m(\u001b[0m\u001b[1;36m1\u001b[0m\u001b[1;33m,\u001b[0m\u001b[1;36m2\u001b[0m\u001b[1;33m,\u001b[0m\u001b[1;36m0\u001b[0m\u001b[1;33m)\u001b[0m\u001b[1;33m\u001b[0m\u001b[1;33m\u001b[0m\u001b[0m\n\u001b[0;32m      8\u001b[0m     \u001b[0mlon_lat\u001b[0m \u001b[1;33m=\u001b[0m \u001b[0mdata_path\u001b[0m\u001b[1;33m.\u001b[0m\u001b[0mget_lon_lat\u001b[0m\u001b[1;33m(\u001b[0m\u001b[1;33m)\u001b[0m\u001b[1;33m.\u001b[0m\u001b[0mtranspose\u001b[0m\u001b[1;33m(\u001b[0m\u001b[1;36m0\u001b[0m\u001b[1;33m,\u001b[0m\u001b[1;36m2\u001b[0m\u001b[1;33m,\u001b[0m\u001b[1;36m1\u001b[0m\u001b[1;33m)\u001b[0m\u001b[1;33m\u001b[0m\u001b[1;33m\u001b[0m\u001b[0m\n",
      "\u001b[1;32m<ipython-input-3-ba3268625735>\u001b[0m in \u001b[0;36m__init__\u001b[1;34m(self, in_file)\u001b[0m\n\u001b[0;32m      4\u001b[0m \u001b[1;33m\u001b[0m\u001b[0m\n\u001b[0;32m      5\u001b[0m         \u001b[0mdataset\u001b[0m \u001b[1;33m=\u001b[0m \u001b[0mgdal\u001b[0m\u001b[1;33m.\u001b[0m\u001b[0mOpen\u001b[0m\u001b[1;33m(\u001b[0m\u001b[0mself\u001b[0m\u001b[1;33m.\u001b[0m\u001b[0min_file\u001b[0m\u001b[1;33m)\u001b[0m\u001b[1;33m\u001b[0m\u001b[1;33m\u001b[0m\u001b[0m\n\u001b[1;32m----> 6\u001b[1;33m         \u001b[0mself\u001b[0m\u001b[1;33m.\u001b[0m\u001b[0mXSize\u001b[0m \u001b[1;33m=\u001b[0m \u001b[0mdataset\u001b[0m\u001b[1;33m.\u001b[0m\u001b[0mRasterXSize\u001b[0m  \u001b[1;31m# 网格的X轴像素数量\u001b[0m\u001b[1;33m\u001b[0m\u001b[1;33m\u001b[0m\u001b[0m\n\u001b[0m\u001b[0;32m      7\u001b[0m         \u001b[0mself\u001b[0m\u001b[1;33m.\u001b[0m\u001b[0mYSize\u001b[0m \u001b[1;33m=\u001b[0m \u001b[0mdataset\u001b[0m\u001b[1;33m.\u001b[0m\u001b[0mRasterYSize\u001b[0m  \u001b[1;31m# 网格的Y轴像素数量\u001b[0m\u001b[1;33m\u001b[0m\u001b[1;33m\u001b[0m\u001b[0m\n\u001b[0;32m      8\u001b[0m         \u001b[0mself\u001b[0m\u001b[1;33m.\u001b[0m\u001b[0mBands\u001b[0m \u001b[1;33m=\u001b[0m \u001b[0mdataset\u001b[0m\u001b[1;33m.\u001b[0m\u001b[0mRasterCount\u001b[0m  \u001b[1;31m# 波段数\u001b[0m\u001b[1;33m\u001b[0m\u001b[1;33m\u001b[0m\u001b[0m\n",
      "\u001b[1;31mAttributeError\u001b[0m: 'NoneType' object has no attribute 'RasterXSize'"
     ]
    }
   ],
   "source": [
    "if __name__ == '__main__':\n",
    "    start_time=time.time()\n",
    "    dir_path = r\"D:\\Desktop\\mypaper\\data\"\n",
    "    filename = \"gee-LAI-108.tif\"\n",
    "    file_path = os.path.join(dir_path, filename)\n",
    "    data_path = Dataset(file_path)\n",
    "    data = data_path.get_data( ).transpose(1,2,0) \n",
    "    lon_lat = data_path.get_lon_lat().transpose(0,2,1)\n",
    "    dataset=np.hstack((lon_lat.transpose(0,2,1),data.transpose(0,2,1))).transpose(0,2,1)\n",
    "#     pool = mp.Pool()\n",
    "#     res = np.array(pool.map(fitting,data))\n",
    "#     result=np.hstack((lon_lat,res.transpose(0,2,1))).transpose(0,2,1)\n",
    "    print (\"Thread pool execution in \" + str(time.time() - start_time), \"seconds\")"
   ]
  },
  {
   "cell_type": "code",
   "execution_count": null,
   "metadata": {},
   "outputs": [],
   "source": [
    "print(data.shape)\n",
    "print(lon_lat.shape)\n",
    "print(dataset.shape)\n",
    "print(lon_lat[0,0,:])"
   ]
  },
  {
   "cell_type": "code",
   "execution_count": null,
   "metadata": {},
   "outputs": [],
   "source": []
  },
  {
   "cell_type": "code",
   "execution_count": null,
   "metadata": {},
   "outputs": [],
   "source": []
  }
 ],
 "metadata": {
  "kernelspec": {
   "display_name": "Python 3",
   "language": "python",
   "name": "python3"
  },
  "language_info": {
   "codemirror_mode": {
    "name": "ipython",
    "version": 3
   },
   "file_extension": ".py",
   "mimetype": "text/x-python",
   "name": "python",
   "nbconvert_exporter": "python",
   "pygments_lexer": "ipython3",
   "version": "3.9.1"
  }
 },
 "nbformat": 4,
 "nbformat_minor": 4
}

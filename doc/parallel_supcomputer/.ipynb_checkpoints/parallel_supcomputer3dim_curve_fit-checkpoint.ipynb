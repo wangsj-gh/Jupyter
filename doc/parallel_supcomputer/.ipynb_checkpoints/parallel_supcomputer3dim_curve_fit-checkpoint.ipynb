{
 "cells": [
  {
   "cell_type": "code",
   "execution_count": 6,
   "metadata": {},
   "outputs": [],
   "source": [
    "import numpy as np\n",
    "import pandas as pd\n",
    "from scipy.optimize import curve_fit\n",
    "from osgeo import gdal\n",
    "import os\n",
    "import time"
   ]
  },
  {
   "cell_type": "code",
   "execution_count": 2,
   "metadata": {},
   "outputs": [],
   "source": [
    "class Dataset:\n",
    "    def __init__(self, in_file):\n",
    "        self.in_file = in_file  # Tiff或者ENVI文件\n",
    "\n",
    "        dataset = gdal.Open(self.in_file)\n",
    "        self.XSize = dataset.RasterXSize  # 网格的X轴像素数量\n",
    "        self.YSize = dataset.RasterYSize  # 网格的Y轴像素数量\n",
    "        self.Bands = dataset.RasterCount  # 波段数\n",
    "        self.GeoTransform = dataset.GetGeoTransform()  # 投影转换信息\n",
    "        self.ProjectionInfo = dataset.GetProjection()  # 投影信息\n",
    "    \n",
    "    def get_data(self):\n",
    "        #band: 读取第几个通道的数据\n",
    "        dataset = gdal.Open(self.in_file)\n",
    "        data = dataset.ReadAsArray(0,0,self.XSize,self.YSize)\n",
    "        return data\n",
    "    \n",
    "\n",
    "    def get_lon_lat(self):\n",
    "        #获取经纬度信息\n",
    "        gtf = self.GeoTransform\n",
    "        x_range = range(0, self.XSize)\n",
    "        y_range = range(0, self.YSize)\n",
    "        x, y = np.meshgrid(x_range, y_range)\n",
    "        lon = gtf[0] + x * gtf[1] + y * gtf[2]\n",
    "        lat = gtf[3] + x * gtf[4] + y * gtf[5]\n",
    "        \n",
    "        lon_lat=[]\n",
    "        for (longitude,latitude) in zip(lon,lat):\n",
    "            lon_lat.append(list(zip(longitude,latitude)))\n",
    "            \n",
    "        return np.array(lon_lat)\n",
    "    \n",
    "    def new_dataset(self,data,lon_lat):\n",
    "        new_dataset=[]\n",
    "        for i in range(self.YSize):\n",
    "            for j in range(self.XSize):\n",
    "                x1 = lon_lat[i,j,:]\n",
    "                x2 = data[i,j,:]\n",
    "                x=np.hstack((x1,x2))\n",
    "                new_dataset.append(x)\n",
    "            \n",
    "        return np.array(new_dataset)\n",
    "    \n",
    "    def dataset2dim(self,data):\n",
    "        dataset2dim=[]\n",
    "        for i in range(self.YSize):\n",
    "            for j in range(self.XSize):\n",
    "                x1 = lon_lat[i,j]\n",
    "                x2 = data[:,i,j]\n",
    "                x=np.hstack((x1,x2))\n",
    "                dataset2dim.append(x2)\n",
    "\n",
    "        return np.array(dataset2dim)"
   ]
  },
  {
   "cell_type": "code",
   "execution_count": 3,
   "metadata": {},
   "outputs": [],
   "source": [
    "def func(x, m1, m2, m3, m4, m5, m6):\n",
    "    return m1 + m2 /(1 + np.exp(-m3 * (x-m4))) - m2/(1 + np.exp(-m5 * (x-m6)))\n",
    "\n",
    "#注意初值\n",
    "def fitting(yData, xData) :\n",
    "#     Parameters, pcov = curve_fit(func, xData, yData, p0=[900,5000,0.1,140,0.1,270], maxfev=10000000)#,method='trf', maxfev=1000000)\n",
    "#     return Parameters\n",
    "\n",
    "###########################################################\n",
    "    start_time1 = time.time()\n",
    "    for i in range(1,1000000):\n",
    "\n",
    "        try:\n",
    "            Parameters, pcov = curve_fit(func, xData, yData, p0=[5,40,0.1,140,0.1,270], maxfev=i)#,method='trf', maxfev=1000000)\n",
    "        except RuntimeError: \n",
    "            continue\n",
    "        if Parameters is not None:\n",
    "            break\n",
    "    totaltime=time.time()-start_time1\n",
    "    totalparm=np.hstack((Parameters,[i,totaltime]))\n",
    "    return totalparm\n",
    "###########################################################\n",
    "\n",
    "def for_map(yData, xData):\n",
    "    result=np.array(list(map(fitting,yData,xData)))\n",
    " \n",
    "    return result\n"
   ]
  },
  {
   "cell_type": "code",
   "execution_count": 4,
   "metadata": {},
   "outputs": [],
   "source": [
    "start=time.time()\n",
    "\n",
    "dir_path = r\"D:\\Desktop\\mypaper\\data\"\n",
    "filename = \"gee-LAI-108.tif\"\n",
    "file_path = os.path.join(dir_path, filename)\n",
    "dataset = Dataset(file_path)\n",
    "\n",
    "data = dataset.get_data( ).transpose(1,2,0) \n",
    "\n",
    "# lon_lat = dataset.get_lon_lat()  \n",
    "# new_dataset=dataset.new_dataset(data,lon_lat)"
   ]
  },
  {
   "cell_type": "code",
   "execution_count": 5,
   "metadata": {},
   "outputs": [
    {
     "name": "stdout",
     "output_type": "stream",
     "text": [
      "(13, 12, 92)\n"
     ]
    }
   ],
   "source": [
    "print(data.shape)"
   ]
  },
  {
   "cell_type": "code",
   "execution_count": 6,
   "metadata": {},
   "outputs": [
    {
     "name": "stdout",
     "output_type": "stream",
     "text": [
      "13 12 92\n"
     ]
    }
   ],
   "source": [
    "xdim=data.shape[0]\n",
    "ydim=data.shape[1]\n",
    "zdim=data.shape[2]\n",
    "print(xdim,ydim,zdim)"
   ]
  },
  {
   "cell_type": "code",
   "execution_count": 7,
   "metadata": {},
   "outputs": [
    {
     "name": "stdout",
     "output_type": "stream",
     "text": [
      "xData (13, 12, 92)\n"
     ]
    }
   ],
   "source": [
    "xInput=np.linspace(1, 361, 92)\n",
    "xData=np.repeat([np.repeat([xInput],ydim,axis=0)],xdim,axis=0)\n",
    "print('xData',xData.shape)"
   ]
  },
  {
   "cell_type": "code",
   "execution_count": 15,
   "metadata": {},
   "outputs": [
    {
     "name": "stderr",
     "output_type": "stream",
     "text": [
      "d:\\python37\\lib\\site-packages\\ipykernel_launcher.py:2: RuntimeWarning: overflow encountered in exp\n",
      "  \n"
     ]
    },
    {
     "name": "stdout",
     "output_type": "stream",
     "text": [
      "total time 296.1302101612091\n",
      "(13, 12, 2)\n",
      "(13, 12, 8)\n"
     ]
    }
   ],
   "source": [
    "result=np.array(list(map(for_map,data,xData)))\n",
    "lon_lat = dataset.get_lon_lat()   # 获取经纬度信息longitude, latitude\n",
    "new_dataset=dataset.new_dataset(result,lon_lat)\n",
    "\n",
    "print(\"Thread pool execution in \" + str(time.time() - start_time), \"seconds\")\n",
    "writer = pd.ExcelWriter(r\"/content/drive/My Drive/tif/get_param_python/LAI_10884_python_param_test.xls\")\n",
    "pd.DataFrame(new_dataset).to_excel(writer,na_rep=0,index=False,header=['lon','lat','p0','p1','p2','p3','p4','p5','item','time'])\n",
    "writer.save()\n",
    "writer.close()\n",
    "print('total time',time.time()-start)\n",
    "print(lon_lat.shape)\n",
    "print(result.shape)\n",
    "# print(result)"
   ]
  },
  {
   "cell_type": "code",
   "execution_count": 16,
   "metadata": {},
   "outputs": [
    {
     "name": "stdout",
     "output_type": "stream",
     "text": [
      "(156, 10)\n"
     ]
    }
   ],
   "source": [
    "print(new_dataset.shape)"
   ]
  },
  {
   "cell_type": "code",
   "execution_count": null,
   "metadata": {},
   "outputs": [],
   "source": []
  },
  {
   "cell_type": "code",
   "execution_count": null,
   "metadata": {},
   "outputs": [],
   "source": []
  },
  {
   "cell_type": "code",
   "execution_count": null,
   "metadata": {},
   "outputs": [],
   "source": []
  }
 ],
 "metadata": {
  "kernelspec": {
   "display_name": "Python 3",
   "language": "python",
   "name": "python3"
  },
  "language_info": {
   "codemirror_mode": {
    "name": "ipython",
    "version": 3
   },
   "file_extension": ".py",
   "mimetype": "text/x-python",
   "name": "python",
   "nbconvert_exporter": "python",
   "pygments_lexer": "ipython3",
   "version": "3.7.9"
  }
 },
 "nbformat": 4,
 "nbformat_minor": 4
}

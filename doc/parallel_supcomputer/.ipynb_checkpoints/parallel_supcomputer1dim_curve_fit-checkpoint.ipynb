{
 "cells": [
  {
   "cell_type": "code",
   "execution_count": 5,
   "metadata": {},
   "outputs": [],
   "source": [
    "import numpy as np\n",
    "import pandas as pd\n",
    "from scipy.optimize import curve_fit\n",
    "from osgeo import gdal\n",
    "import os\n",
    "import time"
   ]
  },
  {
   "cell_type": "code",
   "execution_count": 6,
   "metadata": {},
   "outputs": [],
   "source": [
    "class Dataset:\n",
    "    def __init__(self, in_file):\n",
    "        self.in_file = in_file  # Tiff或者ENVI文件\n",
    "\n",
    "        dataset = gdal.Open(self.in_file)\n",
    "        self.XSize = dataset.RasterXSize  # 网格的X轴像素数量\n",
    "        self.YSize = dataset.RasterYSize  # 网格的Y轴像素数量\n",
    "        self.Bands = dataset.RasterCount  # 波段数\n",
    "        self.GeoTransform = dataset.GetGeoTransform()  # 投影转换信息\n",
    "        self.ProjectionInfo = dataset.GetProjection()  # 投影信息\n",
    "    \n",
    "    def get_data(self):\n",
    "        #band: 读取第几个通道的数据\n",
    "        dataset = gdal.Open(self.in_file)\n",
    "        data = dataset.ReadAsArray(0,0,self.XSize,self.YSize)\n",
    "        return data\n",
    "    \n",
    "\n",
    "    def get_lon_lat(self):\n",
    "        #获取经纬度信息\n",
    "        gtf = self.GeoTransform\n",
    "        x_range = range(0, self.XSize)\n",
    "        y_range = range(0, self.YSize)\n",
    "        x, y = np.meshgrid(x_range, y_range)\n",
    "        lon = gtf[0] + x * gtf[1] + y * gtf[2]\n",
    "        lat = gtf[3] + x * gtf[4] + y * gtf[5]\n",
    "        \n",
    "        lon_lat=[]\n",
    "        for (longitude,latitude) in zip(lon,lat):\n",
    "            lon_lat.append(list(zip(longitude,latitude)))\n",
    "            \n",
    "        return np.array(lon_lat)\n",
    "    \n",
    "    def new_dataset(self,data,lon_lat):\n",
    "        new_dataset=[]\n",
    "        for i in range(self.YSize):\n",
    "            for j in range(self.XSize):\n",
    "                x1 = lon_lat[i,j]\n",
    "                x2 = data[:,i,j]\n",
    "                x=np.hstack((x1,x2))\n",
    "                new_dataset.append(x)\n",
    "            \n",
    "        return np.array(new_dataset)\n",
    "    \n",
    "    def dataset2dim(self,data):\n",
    "        dataset2dim=[]\n",
    "        for i in range(self.YSize):\n",
    "            for j in range(self.XSize):\n",
    "#                 x1 = lon_lat[i,j]\n",
    "                x2 = data[:,i,j]\n",
    "#                 x=np.hstack((x1,x2))\n",
    "                dataset2dim.append(x2)\n",
    "\n",
    "        return np.array(dataset2dim)"
   ]
  },
  {
   "cell_type": "code",
   "execution_count": 7,
   "metadata": {},
   "outputs": [],
   "source": [
    "def func(x, m1, m2, m3, m4, m5, m6):\n",
    "    return m1 + m2 /(1 + np.exp(-m3 * (x-m4))) - m2/(1 + np.exp(-m5 * (x-m6)))\n",
    "\n",
    "#注意初值\n",
    "def DofittingandValidation(yData, xData):\n",
    "    Parameters, pcov = curve_fit(func, xData, yData, p0=[5,40,0.1,140,0.1,270], maxfev=100000000)#,method='trf', maxfev=1000000)\n",
    "    return Parameters"
   ]
  },
  {
   "cell_type": "code",
   "execution_count": 4,
   "metadata": {},
   "outputs": [],
   "source": [
    "start=time.time()\n",
    "\n",
    "dir_path = r\"D:\\wangsj\\2015-lai-500r\"\n",
    "filename = \"source-LAI-2015y-500r-0000000000-0000000000.tif\"\n",
    "file_path = os.path.join(dir_path, filename)\n",
    "dataset = Dataset(file_path)\n",
    "\n",
    "data = dataset.get_data( ) \n",
    "\n",
    "lon_lat = dataset.get_lon_lat()  # 获取经纬度信息longitude, latitude\n",
    "# new_dataset=dataset.new_dataset(data,lon_lat)\n",
    "dataset2dim=dataset.dataset2dim(data)"
   ]
  },
  {
   "cell_type": "code",
   "execution_count": 5,
   "metadata": {},
   "outputs": [
    {
     "name": "stdout",
     "output_type": "stream",
     "text": [
      "(12656, 23)\n"
     ]
    }
   ],
   "source": [
    "print(dataset2dim.shape)"
   ]
  },
  {
   "cell_type": "code",
   "execution_count": 6,
   "metadata": {},
   "outputs": [
    {
     "name": "stdout",
     "output_type": "stream",
     "text": [
      "12656 23\n",
      "pData (12656, 6)\n",
      "xData (12656, 23)\n"
     ]
    }
   ],
   "source": [
    "\n",
    "xdim=dataset2dim.shape[0]\n",
    "ydim=dataset2dim.shape[1]\n",
    "\n",
    "print(xdim,ydim)\n",
    "\n",
    "pInput=[900,5000,0.1,140,0.1,270]\n",
    "pData=np.repeat([pInput],xdim,axis=0)\n",
    "print('pData',pData.shape)\n",
    "xInput=np.linspace(9, 361, 23)\n",
    "xData=np.repeat([xInput],xdim,axis=0)\n",
    "print('xData',xData.shape)\n"
   ]
  },
  {
   "cell_type": "code",
   "execution_count": 7,
   "metadata": {},
   "outputs": [
    {
     "name": "stdout",
     "output_type": "stream",
     "text": [
      "total time 201.0832097530365\n",
      "(12656, 6)\n",
      "[[3.47145803e+02 4.97798384e+03 5.67318605e-02 9.79390850e+01\n",
      "  3.24577594e-02 3.13485481e+02]\n",
      " [2.59120048e+02 5.55125543e+03 5.11231387e-02 1.03009924e+02\n",
      "  2.78770100e-02 3.13219009e+02]\n",
      " [1.68054956e+02 5.83241820e+03 6.98700130e-02 9.38572821e+01\n",
      "  2.37048203e-02 3.27735057e+02]\n",
      " ...\n",
      " [1.25017021e+03 4.47192067e+03 1.13148152e-01 1.10512407e+02\n",
      "  4.22784461e-02 2.78765832e+02]\n",
      " [1.22780440e+03 4.55375685e+03 1.20383811e-01 1.09645375e+02\n",
      "  5.42131745e-02 2.74876418e+02]\n",
      " [1.22780440e+03 4.55375685e+03 1.20383811e-01 1.09645375e+02\n",
      "  5.42131745e-02 2.74876418e+02]]\n"
     ]
    }
   ],
   "source": [
    "result=np.array(list(map(DofittingandValidation,dataset2dim,xData)))\n",
    "print('total time',time.time()-start)\n",
    "print(result.shape)\n",
    "print(result)"
   ]
  }
 ],
 "metadata": {
  "kernelspec": {
   "display_name": "Python 3",
   "language": "python",
   "name": "python3"
  },
  "language_info": {
   "codemirror_mode": {
    "name": "ipython",
    "version": 3
   },
   "file_extension": ".py",
   "mimetype": "text/x-python",
   "name": "python",
   "nbconvert_exporter": "python",
   "pygments_lexer": "ipython3",
   "version": "3.7.9"
  }
 },
 "nbformat": 4,
 "nbformat_minor": 4
}

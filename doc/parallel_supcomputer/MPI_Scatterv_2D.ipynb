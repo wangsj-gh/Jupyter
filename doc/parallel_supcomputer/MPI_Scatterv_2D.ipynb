{
 "cells": [
  {
   "cell_type": "code",
   "execution_count": null,
   "id": "guided-dialogue",
   "metadata": {},
   "outputs": [],
   "source": [
    "from mpi4py import MPI\n",
    "import numpy as np\n",
    "from osgeo import gdal\n",
    "from osgeo import osr\n",
    "import os\n",
    "\n",
    "\n",
    "\n",
    "class Dataset:\n",
    "    def __init__(self, in_file):\n",
    "        self.in_file = in_file  # Tiff或者ENVI文件\n",
    "\n",
    "        dataset = gdal.Open(self.in_file)\n",
    "        self.XSize = dataset.RasterXSize  # 网格的X轴像素数量\n",
    "        self.YSize = dataset.RasterYSize  # 网格的Y轴像素数量\n",
    "        self.Bands = dataset.RasterCount  # 波段数\n",
    "        self.GeoTransform = dataset.GetGeoTransform()  # 投影转换信息\n",
    "        self.ProjectionInfo = dataset.GetProjection()  # 投影信息\n",
    "    \n",
    "    def get_data(self):\n",
    "        #band: 读取第几个通道的数据\n",
    "        dataset = gdal.Open(self.in_file)\n",
    "        data = dataset.ReadAsArray(0,0,self.XSize,self.YSize)\n",
    "        return data\n",
    "\n",
    "\n",
    "    def get_lon_lat(self):\n",
    "        #获取经纬度信息\n",
    "        gtf = self.GeoTransform\n",
    "        x_range = range(0, self.XSize)\n",
    "        y_range = range(0, self.YSize)\n",
    "        x, y = np.meshgrid(x_range, y_range)\n",
    "        lon = gtf[0] + x * gtf[1] + y * gtf[2]\n",
    "        lat = gtf[3] + x * gtf[4] + y * gtf[5]\n",
    "        lon_lat=np.array(list(zip(lon,lat)))\n",
    "        return lon_lat\n",
    "\n",
    "if __name__ == '__main__':\n",
    "\n",
    "    comm = MPI.COMM_WORLD\n",
    "    rank = comm.Get_rank()\n",
    "    nprocs = comm.Get_size()\n",
    "    \n",
    "    if rank == 0:\n",
    "        sendbuf = np.random.random((21,5))\n",
    "        # print(sendbuf.shape)\n",
    "        colum2=sendbuf.shape[1]\n",
    "        \n",
    "        # each nprocess total number: the size of each sub-task\n",
    "        ave, res = divmod(sendbuf.size, nprocs*colum2)\n",
    "        ave1, res1 = divmod(res, colum2)\n",
    "        each_nprocess_row = np.array([ave + 1 if p < ave1 else ave  for p in range(nprocs)])\n",
    "        total_number = np.array(each_nprocess_row)*colum2\n",
    "        \n",
    "        # each nprocess star index: the starting index of each sub-task\n",
    "        star_index = np.array([sum(total_number[:p]) for p in range(nprocs)])\n",
    "\n",
    "    else:\n",
    "        sendbuf = None\n",
    "        star_index = None\n",
    "        colum2=None\n",
    "        \n",
    "        # initialize on worker processes\n",
    "        total_number = np.zeros(nprocs, dtype=np.int)\n",
    "        each_nprocess_row = np.zeros(nprocs, dtype=np.int)\n",
    "\n",
    "    # broadcast total_number,each_nprocess_row\n",
    "    comm.Bcast(total_number, root=0)\n",
    "    comm.Bcast(each_nprocess_row, root=0)\n",
    "    colum2=comm.bcast(colum2, root=0)\n",
    "    # initialize recvbuf on all processes\n",
    "    recvbuf = np.zeros((each_nprocess_row[rank],colum2))\n",
    "\n",
    "    comm.Scatterv([sendbuf, total_number, star_index, MPI.DOUBLE], recvbuf, root=0)\n",
    "\n",
    "    # print(sendbuf)\n",
    "    print('After Scatterv, process {} has data:'.format(rank))\n",
    "    print(recvbuf.shape)"
   ]
  },
  {
   "cell_type": "code",
   "execution_count": 1,
   "id": "novel-nursing",
   "metadata": {},
   "outputs": [],
   "source": [
    "import numpy as np\n",
    "nprocs=4\n",
    "sendbuf = np.random.random((21,5))\n",
    "# print(sendbuf.shape)\n",
    "colum2=sendbuf.shape[1]\n",
    "\n",
    "# each nprocess total number: the size of each sub-task\n",
    "ave, res = divmod(sendbuf.size, nprocs*colum2)\n",
    "ave1, res1 = divmod(res, colum2)\n",
    "each_nprocess_row = np.array([ave + 1 if p < ave1 else ave  for p in range(nprocs)])\n",
    "total_number = np.array(each_nprocess_row)*colum2\n",
    "\n",
    "# each nprocess star index: the starting index of each sub-task\n",
    "star_index = np.array([sum(total_number[:p]) for p in range(nprocs)])"
   ]
  },
  {
   "cell_type": "code",
   "execution_count": 3,
   "id": "literary-thousand",
   "metadata": {},
   "outputs": [
    {
     "name": "stdout",
     "output_type": "stream",
     "text": [
      "5 5\n",
      "1 0\n",
      "[6 5 5 5]\n",
      "[30 25 25 25]\n",
      "[ 0 30 55 80]\n"
     ]
    }
   ],
   "source": [
    "print(ave, res)\n",
    "print(ave1, res1)\n",
    "print(each_nprocess_row)\n",
    "print(total_number)\n",
    "print(star_index)"
   ]
  },
  {
   "cell_type": "code",
   "execution_count": null,
   "id": "accurate-writing",
   "metadata": {},
   "outputs": [],
   "source": []
  }
 ],
 "metadata": {
  "kernelspec": {
   "display_name": "Python 3",
   "language": "python",
   "name": "python3"
  },
  "language_info": {
   "codemirror_mode": {
    "name": "ipython",
    "version": 3
   },
   "file_extension": ".py",
   "mimetype": "text/x-python",
   "name": "python",
   "nbconvert_exporter": "python",
   "pygments_lexer": "ipython3",
   "version": "3.9.1"
  }
 },
 "nbformat": 4,
 "nbformat_minor": 5
}

{
 "cells": [
  {
   "cell_type": "code",
   "execution_count": 1,
   "metadata": {},
   "outputs": [],
   "source": [
    "import numpy as np\n",
    "import pandas as pd\n",
    "from scipy.optimize import curve_fit\n",
    "from osgeo import gdal\n",
    "from osgeo import osr\n",
    "import os\n",
    "import time\n",
    "import multiprocessing as mp"
   ]
  },
  {
   "cell_type": "code",
   "execution_count": 2,
   "metadata": {},
   "outputs": [],
   "source": [
    "class Dataset:\n",
    "    def __init__(self, in_file):\n",
    "        self.in_file = in_file  # Tiff或者ENVI文件\n",
    "\n",
    "        dataset = gdal.Open(self.in_file)\n",
    "        self.XSize = dataset.RasterXSize  # 网格的X轴像素数量\n",
    "        self.YSize = dataset.RasterYSize  # 网格的Y轴像素数量\n",
    "        self.Bands = dataset.RasterCount  # 波段数\n",
    "        self.GeoTransform = dataset.GetGeoTransform()  # 投影转换信息\n",
    "        self.ProjectionInfo = dataset.GetProjection()  # 投影信息\n",
    "    \n",
    "    def get_data(self):\n",
    "        #band: 读取第几个通道的数据\n",
    "        dataset = gdal.Open(self.in_file)\n",
    "        data = dataset.ReadAsArray(0,0,self.XSize,self.YSize)\n",
    "        return data\n",
    "\n",
    "\n",
    "    def get_lon_lat_minmax(self):\n",
    "        #获取经纬度信息\n",
    "        gtf = self.GeoTransform\n",
    "        print(gtf)\n",
    "        x_range = range(0, self.XSize)\n",
    "        y_range = range(0, self.YSize)\n",
    "        x, y = np.meshgrid(x_range, y_range)\n",
    "        longitude = gtf[0] + x * gtf[1] + y * gtf[2]\n",
    "        latitude = gtf[3] + x * gtf[4] + y * gtf[5]\n",
    "        return longitude,latitude "
   ]
  },
  {
   "cell_type": "code",
   "execution_count": 3,
   "metadata": {},
   "outputs": [],
   "source": [
    "def get_image(longitude,latitude,res):\n",
    "    xmin,ymin,xmax,ymax = [longitude.min(),latitude.min(),longitude.max(),latitude.max()]\n",
    "    nrows,ncols,bandsNum = np.shape(res)\n",
    "    xres = (xmax-xmin)/float(ncols)\n",
    "    yres = (ymax-ymin)/float(nrows)\n",
    "    geotransform=(xmin,xres,0,ymax,0, -yres)\n",
    "    output_raster = gdal.GetDriverByName('GTiff').Create('param-python.tif',ncols, nrows, bandsNum ,gdal.GDT_Float32)\n",
    "    output_raster.SetGeoTransform(geotransform)\n",
    "    srs = osr.SpatialReference()\n",
    "    srs.ImportFromEPSG(4326)\n",
    "    output_raster.SetProjection(srs.ExportToWkt())\n",
    "    for k in range(bandsNum):\n",
    "        data=res[:,:,k]\n",
    "        output_raster.GetRasterBand(k+1).WriteArray(data)\n",
    "        output_raster.GetRasterBand(k+1).SetDescription(\"p%s\"%k)\n",
    "    \n",
    "    output_raster.FlushCache()\n",
    "\n",
    "def func(x, m1, m2, m3, m4, m5, m6):\n",
    "    return m1 + m2 /(1 + np.exp(-m3 * (x-m4))) - m2/(1 + np.exp(-m5 * (x-m6)))\n",
    "\n",
    "#注意初值\n",
    "def get_param(yData):\n",
    "#     yData=yData[2::]\n",
    "    xData=np.linspace(1, 365, 92)\n",
    "    Parameters, pcov = curve_fit(func, xData, yData, p0=[5,40,0.1,140,0.1,270], maxfev=100000000)#,method='trf', maxfev=1000000)\n",
    "    return Parameters\n",
    "\n",
    "def fitting(yData):\n",
    "    result=np.array(list(map(get_param,yData)))\n",
    "    return result\n"
   ]
  },
  {
   "cell_type": "code",
   "execution_count": 4,
   "metadata": {},
   "outputs": [
    {
     "ename": "AttributeError",
     "evalue": "'NoneType' object has no attribute 'RasterXSize'",
     "output_type": "error",
     "traceback": [
      "\u001b[1;31m---------------------------------------------------------------------------\u001b[0m",
      "\u001b[1;31mAttributeError\u001b[0m                            Traceback (most recent call last)",
      "\u001b[1;32m<ipython-input-4-11aa822dab15>\u001b[0m in \u001b[0;36m<module>\u001b[1;34m\u001b[0m\n\u001b[0;32m      4\u001b[0m     \u001b[0mfilename\u001b[0m \u001b[1;33m=\u001b[0m \u001b[1;34m\"gee-LAI-108.tif\"\u001b[0m\u001b[1;33m\u001b[0m\u001b[1;33m\u001b[0m\u001b[0m\n\u001b[0;32m      5\u001b[0m     \u001b[0mfile_path\u001b[0m \u001b[1;33m=\u001b[0m \u001b[0mos\u001b[0m\u001b[1;33m.\u001b[0m\u001b[0mpath\u001b[0m\u001b[1;33m.\u001b[0m\u001b[0mjoin\u001b[0m\u001b[1;33m(\u001b[0m\u001b[0mdir_path\u001b[0m\u001b[1;33m,\u001b[0m \u001b[0mfilename\u001b[0m\u001b[1;33m)\u001b[0m\u001b[1;33m\u001b[0m\u001b[1;33m\u001b[0m\u001b[0m\n\u001b[1;32m----> 6\u001b[1;33m     \u001b[0mdata_path\u001b[0m \u001b[1;33m=\u001b[0m \u001b[0mDataset\u001b[0m\u001b[1;33m(\u001b[0m\u001b[0mfile_path\u001b[0m\u001b[1;33m)\u001b[0m\u001b[1;33m\u001b[0m\u001b[1;33m\u001b[0m\u001b[0m\n\u001b[0m\u001b[0;32m      7\u001b[0m     \u001b[0mdata\u001b[0m \u001b[1;33m=\u001b[0m \u001b[0mdata_path\u001b[0m\u001b[1;33m.\u001b[0m\u001b[0mget_data\u001b[0m\u001b[1;33m(\u001b[0m \u001b[1;33m)\u001b[0m\u001b[1;33m.\u001b[0m\u001b[0mtranspose\u001b[0m\u001b[1;33m(\u001b[0m\u001b[1;36m1\u001b[0m\u001b[1;33m,\u001b[0m\u001b[1;36m2\u001b[0m\u001b[1;33m,\u001b[0m\u001b[1;36m0\u001b[0m\u001b[1;33m)\u001b[0m\u001b[1;33m\u001b[0m\u001b[1;33m\u001b[0m\u001b[0m\n\u001b[0;32m      8\u001b[0m     \u001b[0mlon\u001b[0m\u001b[1;33m,\u001b[0m\u001b[0mlat\u001b[0m \u001b[1;33m=\u001b[0m \u001b[0mdata_path\u001b[0m\u001b[1;33m.\u001b[0m\u001b[0mget_lon_lat_minmax\u001b[0m\u001b[1;33m(\u001b[0m\u001b[1;33m)\u001b[0m\u001b[1;33m\u001b[0m\u001b[1;33m\u001b[0m\u001b[0m\n",
      "\u001b[1;32m<ipython-input-2-cd3493fa2b29>\u001b[0m in \u001b[0;36m__init__\u001b[1;34m(self, in_file)\u001b[0m\n\u001b[0;32m      4\u001b[0m \u001b[1;33m\u001b[0m\u001b[0m\n\u001b[0;32m      5\u001b[0m         \u001b[0mdataset\u001b[0m \u001b[1;33m=\u001b[0m \u001b[0mgdal\u001b[0m\u001b[1;33m.\u001b[0m\u001b[0mOpen\u001b[0m\u001b[1;33m(\u001b[0m\u001b[0mself\u001b[0m\u001b[1;33m.\u001b[0m\u001b[0min_file\u001b[0m\u001b[1;33m)\u001b[0m\u001b[1;33m\u001b[0m\u001b[1;33m\u001b[0m\u001b[0m\n\u001b[1;32m----> 6\u001b[1;33m         \u001b[0mself\u001b[0m\u001b[1;33m.\u001b[0m\u001b[0mXSize\u001b[0m \u001b[1;33m=\u001b[0m \u001b[0mdataset\u001b[0m\u001b[1;33m.\u001b[0m\u001b[0mRasterXSize\u001b[0m  \u001b[1;31m# 网格的X轴像素数量\u001b[0m\u001b[1;33m\u001b[0m\u001b[1;33m\u001b[0m\u001b[0m\n\u001b[0m\u001b[0;32m      7\u001b[0m         \u001b[0mself\u001b[0m\u001b[1;33m.\u001b[0m\u001b[0mYSize\u001b[0m \u001b[1;33m=\u001b[0m \u001b[0mdataset\u001b[0m\u001b[1;33m.\u001b[0m\u001b[0mRasterYSize\u001b[0m  \u001b[1;31m# 网格的Y轴像素数量\u001b[0m\u001b[1;33m\u001b[0m\u001b[1;33m\u001b[0m\u001b[0m\n\u001b[0;32m      8\u001b[0m         \u001b[0mself\u001b[0m\u001b[1;33m.\u001b[0m\u001b[0mBands\u001b[0m \u001b[1;33m=\u001b[0m \u001b[0mdataset\u001b[0m\u001b[1;33m.\u001b[0m\u001b[0mRasterCount\u001b[0m  \u001b[1;31m# 波段数\u001b[0m\u001b[1;33m\u001b[0m\u001b[1;33m\u001b[0m\u001b[0m\n",
      "\u001b[1;31mAttributeError\u001b[0m: 'NoneType' object has no attribute 'RasterXSize'"
     ]
    }
   ],
   "source": [
    "if __name__ == '__main__':\n",
    "    start_time=time.time()\n",
    "    dir_path = r\"D:\\Desktop\\mypaper\\data\"\n",
    "    filename = \"gee-LAI-108.tif\"\n",
    "    file_path = os.path.join(dir_path, filename)\n",
    "    data_path = Dataset(file_path)\n",
    "    data = data_path.get_data( ).transpose(1,2,0) \n",
    "    lon,lat = data_path.get_lon_lat_minmax()\n",
    "#     pool = mp.Pool()\n",
    "#     res = np.array(pool.map(fitting,data))\n",
    "#     imagecollection=get_image(lon,lat,res)\n",
    "\n",
    "\n",
    "    print (\"Thread pool execution in \" + str(time.time() - start_time), \"seconds\")"
   ]
  },
  {
   "cell_type": "code",
   "execution_count": 1,
   "metadata": {},
   "outputs": [
    {
     "name": "stdout",
     "output_type": "stream",
     "text": [
      "\n",
      "D:\\wangsj\\Jupyter\\parallel_supcomputer>if defined CONDA_BUILD_STATE () \n",
      "\n",
      "D:\\wangsj\\Jupyter\\parallel_supcomputer>if defined MSMPI_BIN (set \"MSMPI_BIN_CONDA_BACKUP=\" ) \n",
      "\n",
      "D:\\wangsj\\Jupyter\\parallel_supcomputer>if defined MSMPI_INC (set \"MSMPI_INC_CONDA_BACKUP=\" ) \n",
      "\n",
      "D:\\wangsj\\Jupyter\\parallel_supcomputer>if defined MSMPI_LIB64 (set \"MSMPI_LIB64_CONDA_BACKUP=\" ) \n",
      "\n",
      "D:\\wangsj\\Jupyter\\parallel_supcomputer>if defined MSMPI_LIB32 (set \"MSMPI_LIB32_CONDA_BACKUP=\" ) \n",
      "\n",
      "D:\\wangsj\\Jupyter\\parallel_supcomputer>set MSMPI_BIN= \n",
      "\n",
      "D:\\wangsj\\Jupyter\\parallel_supcomputer>set MSMPI_INC= \n",
      "\n",
      "D:\\wangsj\\Jupyter\\parallel_supcomputer>set MSMPI_LIB64= \n",
      "\n",
      "D:\\wangsj\\Jupyter\\parallel_supcomputer>set MSMPI_LIB32=\"\" \n"
     ]
    }
   ],
   "source": [
    "!conda activate base"
   ]
  },
  {
   "cell_type": "code",
   "execution_count": null,
   "metadata": {},
   "outputs": [],
   "source": [
    "%run D:\\Desktop\\pool_3D_image.py"
   ]
  },
  {
   "cell_type": "code",
   "execution_count": 3,
   "metadata": {},
   "outputs": [
    {
     "name": "stderr",
     "output_type": "stream",
     "text": [
      "ERROR 4: D:\\Desktop\\mypaper\\data\\gee-LAI-108.tif: No such file or directory\n",
      "Traceback (most recent call last):\n",
      "  File \"D:\\Desktop\\test1.py\", line 58, in <module>\n",
      "    data_path = Dataset(file_path)\n",
      "  File \"D:\\Desktop\\test1.py\", line 12, in __init__\n",
      "    self.XSize = dataset.RasterXSize  # 网格的X轴像素数量\n",
      "AttributeError: 'NoneType' object has no attribute 'RasterXSize'\n"
     ]
    }
   ],
   "source": []
  },
  {
   "cell_type": "code",
   "execution_count": null,
   "metadata": {},
   "outputs": [],
   "source": []
  }
 ],
 "metadata": {
  "kernelspec": {
   "display_name": "Python 3",
   "language": "python",
   "name": "python3"
  },
  "language_info": {
   "codemirror_mode": {
    "name": "ipython",
    "version": 3
   },
   "file_extension": ".py",
   "mimetype": "text/x-python",
   "name": "python",
   "nbconvert_exporter": "python",
   "pygments_lexer": "ipython3",
   "version": "3.9.1"
  }
 },
 "nbformat": 4,
 "nbformat_minor": 4
}

{
 "cells": [
  {
   "cell_type": "code",
   "execution_count": 2,
   "id": "crude-thomas",
   "metadata": {},
   "outputs": [
    {
     "name": "stdout",
     "output_type": "stream",
     "text": [
      "[-6686109.35398201  4576054.67699644        0.         ...\n",
      "        0.                0.                0.        ]\n"
     ]
    }
   ],
   "source": [
    "from mpi4py import MPI\n",
    "import numpy as np\n",
    "from osgeo import gdal\n",
    "from osgeo import osr\n",
    "import os\n",
    "from scipy.optimize import curve_fit\n",
    "import matplotlib.pyplot as plt \n",
    "\n",
    "class Dataset:\n",
    "    def __init__(self, in_file):\n",
    "        self.in_file = in_file  # Tiff或者ENVI文件\n",
    "\n",
    "        dataset = gdal.Open(self.in_file)\n",
    "        self.XSize = dataset.RasterXSize  # 网格的X轴像素数量\n",
    "        self.YSize = dataset.RasterYSize  # 网格的Y轴像素数量\n",
    "        self.Bands = dataset.RasterCount  # 波段数\n",
    "        self.GeoTransform = dataset.GetGeoTransform()  # 投影转换信息\n",
    "        self.ProjectionInfo = dataset.GetProjection()  # 投影信息\n",
    "    \n",
    "    def get_data(self):\n",
    "        #band: 读取第几个通道的数据\n",
    "        dataset = gdal.Open(self.in_file)\n",
    "        data = dataset.ReadAsArray(0,0,self.XSize,self.YSize)\n",
    "        return data\n",
    "\n",
    "    def get_lon_lat(self):\n",
    "        #获取经纬度信息\n",
    "        gtf = self.GeoTransform\n",
    "        x_range = range(0, self.XSize)\n",
    "        y_range = range(0, self.YSize)\n",
    "        x, y = np.meshgrid(x_range, y_range)\n",
    "        lon = gtf[0] + x * gtf[1] + y * gtf[2]\n",
    "        lat = gtf[3] + x * gtf[4] + y * gtf[5]\n",
    "        lon_lat=np.array(list(zip(lon,lat)))\n",
    "        return lon_lat\n",
    "if __name__ == '__main__':\n",
    "    dir_path = r\"D:\\Desktop\\MPI-document\"\n",
    "    # dir_path = r\"D:\\Desktop\"   \n",
    "    filename = \"gee-LAI-12656.tif\"\n",
    "    file_path = os.path.join(dir_path, filename)\n",
    "    data_path = Dataset(file_path)\n",
    "    data = data_path.get_data( ).transpose(1,2,0) \n",
    "    lon_lat = data_path.get_lon_lat().transpose(0,2,1)\n",
    "    lon_lat_data=np.hstack((lon_lat.transpose(0,2,1),data.transpose(0,2,1))).transpose(0,2,1)\n",
    "    sendbuf=lon_lat_data.reshape(-1,lon_lat_data.shape[2])\n",
    "    # colum2=sendbuf.shape[1]\n",
    "    # print(lon_lat_data.shape)\n",
    "    # print(lon_lat_data[60,90,:])\n",
    "    print(sendbuf.flatten())"
   ]
  },
  {
   "cell_type": "code",
   "execution_count": 6,
   "id": "sapphire-invite",
   "metadata": {},
   "outputs": [
    {
     "data": {
      "text/plain": [
       "1947680"
      ]
     },
     "execution_count": 6,
     "metadata": {},
     "output_type": "execute_result"
    }
   ],
   "source": [
    "sendbuf.flatten().size"
   ]
  },
  {
   "cell_type": "code",
   "execution_count": 7,
   "id": "consolidated-andrew",
   "metadata": {},
   "outputs": [
    {
     "data": {
      "text/plain": [
       "1947680"
      ]
     },
     "execution_count": 7,
     "metadata": {},
     "output_type": "execute_result"
    }
   ],
   "source": [
    "lon_lat_data.flatten().size"
   ]
  },
  {
   "cell_type": "code",
   "execution_count": 8,
   "id": "united-electric",
   "metadata": {},
   "outputs": [],
   "source": [
    "np.savetxt('D:\\Desktop\\gee-LAI-sendbuf.txt',sendbuf.flatten(),fmt='%1.3f')\n",
    "np.savetxt('D:\\Desktop\\gee-LAI-lon_lat_data.txt',lon_lat_data.flatten(),fmt='%1.3f')\n"
   ]
  },
  {
   "cell_type": "code",
   "execution_count": null,
   "id": "round-rough",
   "metadata": {},
   "outputs": [],
   "source": []
  }
 ],
 "metadata": {
  "kernelspec": {
   "display_name": "Python 3",
   "language": "python",
   "name": "python3"
  },
  "language_info": {
   "codemirror_mode": {
    "name": "ipython",
    "version": 3
   },
   "file_extension": ".py",
   "mimetype": "text/x-python",
   "name": "python",
   "nbconvert_exporter": "python",
   "pygments_lexer": "ipython3",
   "version": "3.9.1"
  }
 },
 "nbformat": 4,
 "nbformat_minor": 5
}

{
 "cells": [
  {
   "cell_type": "code",
   "execution_count": 1,
   "metadata": {},
   "outputs": [],
   "source": [
    "import mpi4py.MPI as MPI\n",
    "import numpy as np"
   ]
  },
  {
   "cell_type": "code",
   "execution_count": 12,
   "metadata": {},
   "outputs": [],
   "source": [
    "data = np.arange(20.0)\n",
    "nprocs=6\n",
    "# determine the size of each sub-task\n",
    "ave, res = divmod(data.size, nprocs)\n",
    "counts = [ave + 1 if p < res else ave for p in range(nprocs)]\n",
    "\n",
    "# determine the starting and ending indices of each sub-task\n",
    "starts = [sum(counts[:p]) for p in range(nprocs)]\n",
    "ends = [sum(counts[:p+1]) for p in range(nprocs)]\n",
    "\n",
    "# converts data into a list of arrays \n",
    "data = [data[starts[p]:ends[p]] for p in range(nprocs)]"
   ]
  },
  {
   "cell_type": "code",
   "execution_count": 32,
   "metadata": {},
   "outputs": [
    {
     "data": {
      "text/plain": [
       "array([[4, 2, 1, 4, 2],\n",
       "       [2, 2, 2, 3, 8],\n",
       "       [4, 0, 8, 0, 0],\n",
       "       [2, 4, 1, 0, 1],\n",
       "       [1, 9, 6, 5, 4],\n",
       "       [6, 2, 7, 9, 4],\n",
       "       [7, 8, 3, 6, 5],\n",
       "       [5, 4, 0, 6, 0],\n",
       "       [1, 5, 8, 1, 5],\n",
       "       [9, 2, 8, 8, 2]])"
      ]
     },
     "execution_count": 32,
     "metadata": {},
     "output_type": "execute_result"
    }
   ],
   "source": [
    "data1=np.random.randint(0,10,(10,5))\n",
    "data1"
   ]
  },
  {
   "cell_type": "code",
   "execution_count": 33,
   "metadata": {},
   "outputs": [],
   "source": [
    "nprocs=6"
   ]
  },
  {
   "cell_type": "code",
   "execution_count": 35,
   "metadata": {},
   "outputs": [],
   "source": [
    "# determine the size of each sub-task\n",
    "ave, res = divmod(data1.shape[0], nprocs)\n",
    "counts = [ave + 1 if p < res else ave for p in range(nprocs)]"
   ]
  },
  {
   "cell_type": "code",
   "execution_count": 36,
   "metadata": {},
   "outputs": [
    {
     "name": "stdout",
     "output_type": "stream",
     "text": [
      "1\n",
      "4\n",
      "[2, 2, 2, 2, 1, 1]\n"
     ]
    }
   ],
   "source": [
    "print(ave)\n",
    "print(res)\n",
    "print(counts)"
   ]
  },
  {
   "cell_type": "code",
   "execution_count": 37,
   "metadata": {},
   "outputs": [],
   "source": [
    "# determine the starting and ending indices of each sub-task\n",
    "starts = [sum(counts[:p]) for p in range(nprocs)]\n",
    "ends = [sum(counts[:p+1]) for p in range(nprocs)]"
   ]
  },
  {
   "cell_type": "code",
   "execution_count": 38,
   "metadata": {},
   "outputs": [
    {
     "name": "stdout",
     "output_type": "stream",
     "text": [
      "[0, 2, 4, 6, 8, 9]\n",
      "[2, 4, 6, 8, 9, 10]\n"
     ]
    }
   ],
   "source": [
    "print(starts)\n",
    "print(ends)"
   ]
  },
  {
   "cell_type": "code",
   "execution_count": 45,
   "metadata": {},
   "outputs": [],
   "source": [
    "# converts data into a list of arrays \n",
    "dataset = [data1[starts[p]:ends[p],:] for p in range(nprocs)]"
   ]
  },
  {
   "cell_type": "code",
   "execution_count": 46,
   "metadata": {},
   "outputs": [
    {
     "data": {
      "text/plain": [
       "[array([[4, 2, 1, 4, 2],\n",
       "        [2, 2, 2, 3, 8]]),\n",
       " array([[4, 0, 8, 0, 0],\n",
       "        [2, 4, 1, 0, 1]]),\n",
       " array([[1, 9, 6, 5, 4],\n",
       "        [6, 2, 7, 9, 4]]),\n",
       " array([[7, 8, 3, 6, 5],\n",
       "        [5, 4, 0, 6, 0]]),\n",
       " array([[1, 5, 8, 1, 5]]),\n",
       " array([[9, 2, 8, 8, 2]])]"
      ]
     },
     "execution_count": 46,
     "metadata": {},
     "output_type": "execute_result"
    }
   ],
   "source": [
    "dataset"
   ]
  },
  {
   "cell_type": "code",
   "execution_count": 48,
   "metadata": {},
   "outputs": [
    {
     "data": {
      "text/plain": [
       "array([[1, 5, 8, 1, 5]])"
      ]
     },
     "execution_count": 48,
     "metadata": {},
     "output_type": "execute_result"
    }
   ],
   "source": [
    "dataset[4]"
   ]
  },
  {
   "cell_type": "code",
   "execution_count": null,
   "metadata": {},
   "outputs": [],
   "source": []
  }
 ],
 "metadata": {
  "kernelspec": {
   "display_name": "Python 3",
   "language": "python",
   "name": "python3"
  },
  "language_info": {
   "codemirror_mode": {
    "name": "ipython",
    "version": 3
   },
   "file_extension": ".py",
   "mimetype": "text/x-python",
   "name": "python",
   "nbconvert_exporter": "python",
   "pygments_lexer": "ipython3",
   "version": "3.9.1"
  }
 },
 "nbformat": 4,
 "nbformat_minor": 4
}

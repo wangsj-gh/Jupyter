{
 "cells": [
  {
   "cell_type": "code",
   "execution_count": 1,
   "id": "022f33e6",
   "metadata": {},
   "outputs": [],
   "source": [
    "import numpy as np\n",
    "import pandas as pd\n",
    "from osgeo import gdal\n",
    "import os\n",
    "import time\n",
    "import xlwt\n",
    "\n",
    "from scipy.stats import ttest_ind\n",
    "from scipy.stats import pearsonr"
   ]
  },
  {
   "cell_type": "code",
   "execution_count": 24,
   "id": "60b9351c",
   "metadata": {},
   "outputs": [],
   "source": [
    "data=pd.read_excel(r'D:\\\\Desktop\\\\remote sensing\\\\remotesensing-1539253-revision\\\\Reviewer2_2.xlsx',header=0,sheet_name='Sheet2')"
   ]
  },
  {
   "cell_type": "code",
   "execution_count": 28,
   "id": "0545fcf2",
   "metadata": {},
   "outputs": [
    {
     "name": "stdout",
     "output_type": "stream",
     "text": [
      "[3.02085596e+00 6.00407404e+01 3.02119674e-02 1.85898149e+02\n",
      " 7.77557550e-02 2.63166163e+02]\n"
     ]
    }
   ],
   "source": [
    "# print(data)\n",
    "data=np.array(data)\n",
    "print(data[0,0:6])"
   ]
  },
  {
   "cell_type": "code",
   "execution_count": 29,
   "id": "be92288e",
   "metadata": {},
   "outputs": [],
   "source": [
    "def double_logistic(arry,t):\n",
    "    p0=arry[0]\n",
    "    p1=arry[1]\n",
    "    p2=arry[2]\n",
    "    p3=arry[3]\n",
    "    p4=arry[4]\n",
    "    p5=arry[5]\n",
    "    return p0+p1/(1+np.exp(-p2*(t-p3)))-p1/(1+np.exp(-p4*(t-p5)))\n",
    "    \n"
   ]
  },
  {
   "cell_type": "code",
   "execution_count": 32,
   "id": "a5e48b39",
   "metadata": {},
   "outputs": [
    {
     "data": {
      "text/plain": [
       "array([  1,   5,   9,  13,  17,  21,  25,  29,  33,  37,  41,  45,  49,\n",
       "        53,  57,  61,  65,  69,  73,  77,  81,  85,  89,  93,  97, 101,\n",
       "       105, 109, 113, 117, 121, 125, 129, 133, 137, 141, 145, 149, 153,\n",
       "       157, 161, 165, 169, 173, 177, 181, 185, 189, 193, 197, 201, 205,\n",
       "       209, 213, 217, 221, 225, 229, 233, 237, 241, 245, 249, 253, 257,\n",
       "       261, 265, 269, 273, 277, 281, 285, 289, 293, 297, 301, 305, 309,\n",
       "       313, 317, 321, 325, 329, 333, 337, 341, 345, 349, 353, 357, 361,\n",
       "       365])"
      ]
     },
     "execution_count": 32,
     "metadata": {},
     "output_type": "execute_result"
    }
   ],
   "source": [
    "time=np.arange(1,366,4)\n",
    "time"
   ]
  },
  {
   "cell_type": "code",
   "execution_count": 33,
   "id": "b540b79b",
   "metadata": {},
   "outputs": [
    {
     "name": "stderr",
     "output_type": "stream",
     "text": [
      "D:\\Miniconda3\\lib\\site-packages\\ipykernel_launcher.py:8: RuntimeWarning: overflow encountered in exp\n",
      "  \n"
     ]
    }
   ],
   "source": [
    "pea=[]\n",
    "for i in range(data.shape[0]):\n",
    "    NLS=double_logistic(data[i,0:6],time)\n",
    "    LM=double_logistic(data[i,6::],time)\n",
    "    corr,p = pearsonr(NLS,LM)\n",
    "    pea.append(p)"
   ]
  },
  {
   "cell_type": "code",
   "execution_count": 43,
   "id": "cea28d08",
   "metadata": {},
   "outputs": [],
   "source": [
    "\n",
    "pd.DataFrame(pea).to_csv(\"D:\\\\Desktop\\\\remote sensing\\\\remotesensing-1539253-revision\\pra.txt\",sep='\\t',index=False)\n",
    "\n"
   ]
  },
  {
   "cell_type": "code",
   "execution_count": null,
   "id": "553cbc61",
   "metadata": {},
   "outputs": [],
   "source": []
  },
  {
   "cell_type": "code",
   "execution_count": null,
   "id": "7fa656ca",
   "metadata": {},
   "outputs": [],
   "source": []
  },
  {
   "cell_type": "code",
   "execution_count": null,
   "id": "e9397619",
   "metadata": {},
   "outputs": [],
   "source": []
  }
 ],
 "metadata": {
  "kernelspec": {
   "display_name": "Python 3 (ipykernel)",
   "language": "python",
   "name": "python3"
  },
  "language_info": {
   "codemirror_mode": {
    "name": "ipython",
    "version": 3
   },
   "file_extension": ".py",
   "mimetype": "text/x-python",
   "name": "python",
   "nbconvert_exporter": "python",
   "pygments_lexer": "ipython3",
   "version": "3.7.10"
  }
 },
 "nbformat": 4,
 "nbformat_minor": 5
}

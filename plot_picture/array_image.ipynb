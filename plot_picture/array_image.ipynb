{
 "cells": [
  {
   "cell_type": "code",
   "execution_count": 1,
   "metadata": {},
   "outputs": [],
   "source": [
    "import numpy as np\n",
    "import pandas as pd\n",
    "from osgeo import gdal\n",
    "# from osgeo import gdal_array\n",
    "from osgeo import osr\n",
    "# import rasterio\n",
    "# import rasterio.plot as plt\n",
    "import matplotlib.pylab as plt\n",
    "# from PIL import Image\n",
    "# data=pd.read_excel(r'D:\\Desktop\\gee-double-LAI.xls',header=0,sheet_name='solver-param')\n",
    "\n",
    "# data.head(10)\n",
    "# data = data.set_index(['lat','lon'])"
   ]
  },
  {
   "cell_type": "code",
   "execution_count": 2,
   "metadata": {},
   "outputs": [],
   "source": [
    "# size=data.lat.drop_duplicates().count()\n",
    "data=pd.read_excel(r'D:\\Desktop\\data.xlsx',header=0,sheet_name='lat-lon-intital')\n",
    "size=data.lat.count()\n",
    "daset=np.array(data)"
   ]
  },
  {
   "cell_type": "code",
   "execution_count": 3,
   "metadata": {
    "scrolled": true
   },
   "outputs": [],
   "source": [
    "lon=daset[:,0].reshape(size,-1)\n",
    "lat=daset[:,1].reshape(size,-1)\n",
    "p0=daset[:,2].reshape(size,-1)\n",
    "p1=daset[:,3].reshape(size,-1)\n",
    "p2=daset[:,4].reshape(size,-1)\n",
    "p3=daset[:,5].reshape(size,-1)\n",
    "p4=daset[:,6].reshape(size,-1)\n",
    "p5=daset[:,7].reshape(size,-1)"
   ]
  },
  {
   "cell_type": "code",
   "execution_count": null,
   "metadata": {},
   "outputs": [],
   "source": []
  },
  {
   "cell_type": "markdown",
   "metadata": {},
   "source": [
    "### tif with one bands\n",
    "\n",
    "array=p0\n",
    "xmin,ymin,xmax,ymax = [lon.min(),lat.min(),lon.max(),lat.max()]\n",
    "nrows,ncols = np.shape(array)\n",
    "xres = (xmax-xmin)/float(ncols)\n",
    "yres = (ymax-ymin)/float(nrows)\n",
    "geotransform=(xmin,xres,0,ymax,0, -yres) \n",
    "### geotransform=(463.3127165279165, 0, -20015109.353988, 0, -463.3127165274999, 10007554.676994)\n",
    "### That's (top left x, w-e pixel resolution, rotation (0 if North is up), \n",
    "###        top left y, rotation (0 if North is up), n-s pixel resolution)\n",
    "\n",
    "output_raster = gdal.GetDriverByName('GTiff').Create('p0.tif',ncols, nrows, 1 ,gdal.GDT_Float32)  # Open the file\n",
    "output_raster.SetGeoTransform(geotransform)  # Specify its coordinates\n",
    "srs = osr.SpatialReference()                 # Establish its coordinate encoding\n",
    "srs.ImportFromEPSG(4326)                     # This one specifies WGS84 lat long.\n",
    "                                             # Anyone know how to specify the \n",
    "                                             # IAU2000:49900 Mars encoding?\n",
    "output_raster.SetProjection(srs.ExportToWkt())   # Exports the coordinate system to the file\n",
    "output_raster.GetRasterBand(1).WriteArray(array) # Writes my array to the raster\n",
    "output_raster.FlushCache()"
   ]
  },
  {
   "cell_type": "code",
   "execution_count": 4,
   "metadata": {},
   "outputs": [],
   "source": [
    "# tif with multiply bands\n",
    "\n",
    "array3=np.array([p0,p1,p2,p3,p4,p5])\n",
    "xmin,ymin,xmax,ymax = [lon.min(),lat.min(),lon.max(),lat.max()]\n",
    "bandsNum,nrows,ncols = np.shape(array3)\n",
    "xres = (xmax-xmin)/float(ncols)\n",
    "yres = (ymax-ymin)/float(nrows)\n",
    "geotransform=(xmin,xres,0,ymax,0, -yres)\n",
    "\n",
    "# ENVI\n",
    "output_raster = gdal.GetDriverByName('GTiff').Create('D:\\Desktop\\intital.tif',ncols, nrows, bandsNum ,gdal.GDT_Float32)\n",
    "output_raster.SetGeoTransform(geotransform)\n",
    "srs = osr.SpatialReference()\n",
    "srs.ImportFromEPSG(4326)\n",
    "\n",
    "output_raster.SetProjection(srs.ExportToWkt())\n",
    "\n",
    "for k in range(bandsNum):\n",
    "    data=array3[k,:,:]\n",
    "    output_raster.GetRasterBand(k+1).WriteArray(data)\n",
    "    output_raster.GetRasterBand(k+1).SetDescription(\"p%s\"%k)\n",
    "    \n",
    "output_raster.FlushCache()"
   ]
  },
  {
   "cell_type": "code",
   "execution_count": 11,
   "metadata": {},
   "outputs": [],
   "source": [
    "filepath = 'D:\\Desktop\\intial_param_limit.tif'\n",
    "dataset=gdal.Open(filepath)\n",
    "im_width = dataset.RasterXSize #栅格矩阵的列数\n",
    "im_height = dataset.RasterYSize #栅格矩阵的行数\n",
    "im_bands = dataset.RasterCount #波段数\n",
    "im_data = dataset.ReadAsArray(0,0,im_width,im_height)#获取数据\n",
    "im_geotrans = dataset.GetGeoTransform()#获取仿射矩阵信息\n",
    "im_proj = dataset.GetProjection()#获取投影信息"
   ]
  },
  {
   "cell_type": "code",
   "execution_count": 12,
   "metadata": {},
   "outputs": [],
   "source": [
    "np.savetxt('D:\\Desktop\\intial_param_limit.txt',np.squeeze(im_data).T,fmt='%1.3f')"
   ]
  },
  {
   "cell_type": "code",
   "execution_count": null,
   "metadata": {},
   "outputs": [],
   "source": []
  },
  {
   "cell_type": "code",
   "execution_count": null,
   "metadata": {},
   "outputs": [],
   "source": []
  },
  {
   "cell_type": "code",
   "execution_count": 11,
   "metadata": {},
   "outputs": [
    {
     "ename": "NameError",
     "evalue": "name 'rasterio' is not defined",
     "output_type": "error",
     "traceback": [
      "\u001b[1;31m---------------------------------------------------------------------------\u001b[0m",
      "\u001b[1;31mNameError\u001b[0m                                 Traceback (most recent call last)",
      "\u001b[1;32m<ipython-input-11-cd96a6ef3e75>\u001b[0m in \u001b[0;36m<module>\u001b[1;34m\u001b[0m\n\u001b[0;32m      1\u001b[0m \u001b[0mfilepath\u001b[0m \u001b[1;33m=\u001b[0m \u001b[1;34m'D:\\Desktop\\intital.tif'\u001b[0m\u001b[1;33m\u001b[0m\u001b[1;33m\u001b[0m\u001b[0m\n\u001b[1;32m----> 2\u001b[1;33m \u001b[0mmirband\u001b[0m \u001b[1;33m=\u001b[0m \u001b[0mrasterio\u001b[0m\u001b[1;33m.\u001b[0m\u001b[0mopen\u001b[0m\u001b[1;33m(\u001b[0m\u001b[0mfilepath\u001b[0m\u001b[1;33m)\u001b[0m\u001b[1;33m\u001b[0m\u001b[1;33m\u001b[0m\u001b[0m\n\u001b[0m\u001b[0;32m      3\u001b[0m \u001b[0mmir\u001b[0m \u001b[1;33m=\u001b[0m \u001b[0mmirband\u001b[0m\u001b[1;33m.\u001b[0m\u001b[0mread\u001b[0m\u001b[1;33m(\u001b[0m\u001b[1;36m1\u001b[0m\u001b[1;33m)\u001b[0m\u001b[1;33m.\u001b[0m\u001b[0mastype\u001b[0m\u001b[1;33m(\u001b[0m\u001b[0mfloat\u001b[0m\u001b[1;33m)\u001b[0m\u001b[1;33m\u001b[0m\u001b[1;33m\u001b[0m\u001b[0m\n\u001b[0;32m      4\u001b[0m \u001b[0mplt\u001b[0m\u001b[1;33m.\u001b[0m\u001b[0mfigure\u001b[0m\u001b[1;33m(\u001b[0m\u001b[0mfigsize\u001b[0m\u001b[1;33m=\u001b[0m\u001b[1;33m(\u001b[0m\u001b[1;36m10\u001b[0m\u001b[1;33m,\u001b[0m\u001b[1;36m8\u001b[0m\u001b[1;33m)\u001b[0m\u001b[1;33m)\u001b[0m\u001b[1;33m\u001b[0m\u001b[1;33m\u001b[0m\u001b[0m\n\u001b[0;32m      5\u001b[0m \u001b[0mplt\u001b[0m\u001b[1;33m.\u001b[0m\u001b[0mimshow\u001b[0m\u001b[1;33m(\u001b[0m\u001b[0mmir\u001b[0m\u001b[1;33m,\u001b[0m \u001b[0mcmap\u001b[0m\u001b[1;33m=\u001b[0m\u001b[1;34m'viridis'\u001b[0m\u001b[1;33m)\u001b[0m\u001b[1;33m\u001b[0m\u001b[1;33m\u001b[0m\u001b[0m\n",
      "\u001b[1;31mNameError\u001b[0m: name 'rasterio' is not defined"
     ]
    }
   ],
   "source": [
    "filepath = 'D:\\Desktop\\intital.tif'\n",
    "mirband = rasterio.open(filepath)\n",
    "mir = mirband.read(1).astype(float)\n",
    "plt.figure(figsize=(10,8))\n",
    "plt.imshow(mir, cmap='viridis')\n",
    "plt.xticks([0,2,4,6,8],['$-79.24^{o}W$','$-79.23^{o}W$','$-79.22^{o}W$','$79.21^{o}W$','$-79.20^{o}W$'])\n",
    "\n",
    "plt.yticks([0,2,4,6,8,10],\n",
    "           ['$41.69^{o}N$','$41.68^{o}N$','$41.68^{o}N$','$41.67^{o}N$','$41.66^{o}N$','$41.65^{o}N$'])\n",
    "plt.colorbar()\n",
    "plt.title('GEE-LAI-p0')\n",
    "# plt.xlabel('lat')\n",
    "# plt.ylabel('lon')"
   ]
  },
  {
   "cell_type": "code",
   "execution_count": 6,
   "metadata": {
    "scrolled": false
   },
   "outputs": [
    {
     "data": {
      "text/plain": [
       "Text(0.5, 1.0, 'GEE-LAI-p0')"
      ]
     },
     "execution_count": 6,
     "metadata": {},
     "output_type": "execute_result"
    },
    {
     "data": {
      "image/png": "[encoded data removed]",
      "text/plain": [
       "<Figure size 720x576 with 2 Axes>"
      ]
     },
     "metadata": {
      "needs_background": "light"
     },
     "output_type": "display_data"
    }
   ],
   "source": [
    "filepath = 'D:\\Desktop\\gee1.tif'\n",
    "dataset=gdal.Open(filepath)\n",
    "im_width = dataset.RasterXSize #栅格矩阵的列数\n",
    "im_height = dataset.RasterYSize #栅格矩阵的行数\n",
    "im_bands = dataset.RasterCount #波段数\n",
    "im_data = dataset.ReadAsArray(0,0,im_width,im_height)#获取数据\n",
    "im_geotrans = dataset.GetGeoTransform()#获取仿射矩阵信息\n",
    "im_proj = dataset.GetProjection()#获取投影信息\n",
    "# print(im_geotrans)\n",
    "# print(im_proj)\n",
    "\n",
    "output = gdal.GetDriverByName('GTiff').Create('gee-trans.tif',9, 12, im_bands ,gdal.GDT_Float32)\n",
    "output.SetGeoTransform(im_geotrans)\n",
    "output.SetProjection(im_proj)\n",
    "# srs = osr.SpatialReference()\n",
    "# srs.ImportFromEPSG(4326)\n",
    "# output.SetProjection(srs.ExportToWkt())\n",
    "for k in range(im_bands):\n",
    "    data=im_data[k,0:12,2:11]\n",
    "    output.GetRasterBand(k+1).WriteArray(data)\n",
    "    output.GetRasterBand(k+1).SetDescription(\"p%s\"%k)\n",
    "output.FlushCache()\n",
    "\n",
    "filepath1 = 'D:\\Desktop\\python_parallel\\jupyter\\gee-trans.tif'\n",
    "\n",
    "mirband = rasterio.open(filepath1)\n",
    "mir = mirband.read(1).astype(float)/10\n",
    "plt.figure(figsize=(10,8))\n",
    "plt.imshow(mir, cmap='viridis')\n",
    "plt.xticks([0,2,4,6,8],\n",
    "          ['$-79.24^{o}W$','$-79.23^{o}W$','$-79.22^{o}W$','$79.21^{o}W$','$-79.20^{o}W$'])\n",
    "\n",
    "plt.yticks([0,2,4,6,8,10],\n",
    "          ['$41.69^{o}N$','$41.68^{o}N$','$41.68^{o}N$','$41.67^{o}N$','$41.66^{o}N$','$41.65^{o}N$'])\n",
    "plt.colorbar()\n",
    "plt.title('GEE-LAI-p0')"
   ]
  },
  {
   "cell_type": "code",
   "execution_count": 16,
   "metadata": {},
   "outputs": [
    {
     "data": {
      "text/plain": [
       "Text(0.5, 1.0, 'GEE-LAI-p0')"
      ]
     },
     "execution_count": 16,
     "metadata": {},
     "output_type": "execute_result"
    },
    {
     "data": {
      "image/png": "[encoded data removed]",
      "text/plain": [
       "<Figure size 720x576 with 2 Axes>"
      ]
     },
     "metadata": {
      "needs_background": "light"
     },
     "output_type": "display_data"
    }
   ],
   "source": [
    "filepath = 'D:\\Desktop\\gee1.tif'\n",
    "mirband = rasterio.open(filepath)\n",
    "mir = mirband.read(1).astype(float)\n",
    "plt.figure(figsize=(10,8))\n",
    "plt.imshow(mir, cmap='viridis')\n",
    "# plt.xticks([0,2,4,6,8],['$-79.24^{o}W$','$-79.23^{o}W$','$-79.22^{o}W$','$79.21^{o}W$','$-79.20^{o}W$'])\n",
    "\n",
    "# plt.yticks([0,2,4,6,8,10],\n",
    "#            ['$41.69^{o}N$','$41.68^{o}N$','$41.68^{o}N$','$41.67^{o}N$','$41.66^{o}N$','$41.65^{o}N$'])\n",
    "plt.colorbar()\n",
    "plt.title('GEE-LAI-p0')"
   ]
  },
  {
   "cell_type": "code",
   "execution_count": null,
   "metadata": {},
   "outputs": [],
   "source": []
  },
  {
   "cell_type": "code",
   "execution_count": null,
   "metadata": {},
   "outputs": [],
   "source": []
  },
  {
   "cell_type": "code",
   "execution_count": null,
   "metadata": {},
   "outputs": [],
   "source": []
  }
 ],
 "metadata": {
  "kernelspec": {
   "display_name": "Python 3 (ipykernel)",
   "language": "python",
   "name": "python3"
  },
  "language_info": {
   "codemirror_mode": {
    "name": "ipython",
    "version": 3
   },
   "file_extension": ".py",
   "mimetype": "text/x-python",
   "name": "python",
   "nbconvert_exporter": "python",
   "pygments_lexer": "ipython3",
   "version": "3.7.10"
  }
 },
 "nbformat": 4,
 "nbformat_minor": 4
}

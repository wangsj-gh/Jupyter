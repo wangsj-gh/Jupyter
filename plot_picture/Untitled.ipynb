{
 "cells": [
  {
   "cell_type": "code",
   "execution_count": 1,
   "id": "3ba66b9a",
   "metadata": {},
   "outputs": [],
   "source": [
    "\n",
    "import numpy as np\n",
    "from matplotlib import pyplot as plt\n",
    "from sympy import *"
   ]
  },
  {
   "cell_type": "code",
   "execution_count": 18,
   "id": "82da48ac",
   "metadata": {},
   "outputs": [
    {
     "data": {
      "image/png": "[encoded data removed]",
      "text/plain": [
       "<Figure size 432x288 with 1 Axes>"
      ]
     },
     "metadata": {
      "needs_background": "light"
     },
     "output_type": "display_data"
    }
   ],
   "source": [
    "# 一元一次函数图像\n",
    "x = np.arange(0, 100, 0.1)\n",
    "a=0.11\n",
    "b=-0.2\n",
    "c=0.3\n",
    "d=-0.4\n",
    "k=0.2\n",
    "\n",
    "y = a * np.exp(b*x)+c*np.exp(d*x)-k\n",
    "plt.xlabel('x')\n",
    "plt.ylabel('y')\n",
    "# plt.title(\"一元一次函数\")\n",
    "plt.plot(x, y)\n",
    "plt.show()"
   ]
  },
  {
   "cell_type": "code",
   "execution_count": 2,
   "id": "453c3ea3",
   "metadata": {},
   "outputs": [],
   "source": [
    "x = symbols('x')\n"
   ]
  },
  {
   "cell_type": "code",
   "execution_count": 11,
   "id": "a075d9df",
   "metadata": {},
   "outputs": [],
   "source": [
    "\n",
    "from scipy.optimize import root,fsolve\n",
    "def f2(x):\n",
    "    a=0.11\n",
    "    b=-0.2\n",
    "    c=0.3\n",
    "    d=-0.4\n",
    "    k=0.2\n",
    "    return a * np.exp(b*x)+c*np.exp(d*x)-k\n",
    "# x=np.linspace(-5,5,num=100)\n",
    "# y=f2(x)\n",
    "root1=fsolve(f2,[1])\n"
   ]
  },
  {
   "cell_type": "code",
   "execution_count": 12,
   "id": "9c3cf362",
   "metadata": {},
   "outputs": [
    {
     "data": {
      "text/plain": [
       "array([2.12711973])"
      ]
     },
     "execution_count": 12,
     "metadata": {},
     "output_type": "execute_result"
    }
   ],
   "source": [
    "root1"
   ]
  },
  {
   "cell_type": "code",
   "execution_count": null,
   "id": "fc309522",
   "metadata": {},
   "outputs": [],
   "source": []
  }
 ],
 "metadata": {
  "kernelspec": {
   "display_name": "Python 3 (ipykernel)",
   "language": "python",
   "name": "python3"
  },
  "language_info": {
   "codemirror_mode": {
    "name": "ipython",
    "version": 3
   },
   "file_extension": ".py",
   "mimetype": "text/x-python",
   "name": "python",
   "nbconvert_exporter": "python",
   "pygments_lexer": "ipython3",
   "version": "3.9.1"
  }
 },
 "nbformat": 4,
 "nbformat_minor": 5
}

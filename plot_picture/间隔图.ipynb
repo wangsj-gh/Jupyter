{
 "cells": [
  {
   "cell_type": "code",
   "execution_count": 1,
   "metadata": {},
   "outputs": [],
   "source": [
    "import numpy as np\n",
    "import pandas as pd\n",
    "import matplotlib.pyplot as plt\n",
    "import time"
   ]
  },
  {
   "cell_type": "code",
   "execution_count": 2,
   "metadata": {},
   "outputs": [
    {
     "data": {
      "image/png": "[encoded data removed]",
      "text/plain": [
       "<Figure size 432x288 with 2 Axes>"
      ]
     },
     "metadata": {
      "needs_background": "light"
     },
     "output_type": "display_data"
    }
   ],
   "source": [
    "# point\n",
    "geetime = [42.471,49.975,35.272]\n",
    "pythontime = [0.187,0.259,0.32]\n",
    "exceltime = [1.07,2.64,0.95]\n",
    "\n",
    "geeitem = [44,56,39]\n",
    "pythonitem = [79,103,58]\n",
    "excelitem = [17,18,20]\n",
    "\n",
    "# mediumspringgreen，cornflowerblue，coral，aqua，\n",
    "\n",
    "labels = ['LAI', 'NDVI','EVI']\n",
    " \n",
    "plt.rcParams['axes.labelsize'] = 15 # xy轴label的size\n",
    "plt.rcParams['xtick.labelsize'] = 15  # x轴ticks的size\n",
    "plt.rcParams['ytick.labelsize'] = 15  # y轴ticks的size\n",
    " \n",
    "# 设置柱形的间隔\n",
    "x = [1,2,3] \n",
    "# 创建图层\n",
    "# fig = plt.figure(figsize=(8,10),dpi=300)\n",
    "f, (ax1, ax1_1) = plt.subplots(2, 1, sharex=False)  # 绘制两个子图\n",
    "\n",
    "# plt.subplots_adjust(wspace=0,hspace=0.1)\n",
    "\n",
    "ax1_1.plot(x,pythontime,color='blue', marker='o', linestyle='solid', label=\"Python\")\n",
    "ax1_1.plot(x,exceltime,color='g', marker='o', linestyle='solid', label=\"Excel\")\n",
    "\n",
    "\n",
    "ax1.set_ylabel('Time(s)')\n",
    "\n",
    "plt.xticks(x, labels) # 刻度值\n",
    "ax1.xaxis.set_major_locator(plt.NullLocator()) # 删除坐标轴的刻度显示\n",
    "\n",
    "ax1.plot(x,geetime, color='red', marker='o', linestyle='solid', label=\"GEE\")\n",
    "ax1.plot(x,pythontime,color='blue', marker='o', linestyle='solid', label=\"Python\")\n",
    "ax1.plot(x,exceltime,color='g', marker='o', linestyle='solid', label=\"Excel\")\n",
    "\n",
    "ax1.legend()\n",
    "ax1.set_ylim(32, 55) \n",
    "ax1_1.set_ylim(0, 3)\n",
    "\n",
    "ax1.grid(axis='both',linestyle='-.') # 打开网格线\n",
    "ax1_1.grid(axis='y',linestyle='-.')   # 打开网格线\n",
    "\n",
    "\n",
    "ax1_1.spines['top'].set_visible(False)    # 边框控制\n",
    "ax1_1.spines['bottom'].set_visible(True) # 边框控制\n",
    "ax1_1.spines['right'].set_visible(False)  # 边框控制\n",
    "\n",
    "ax1.spines['top'].set_visible(False)   # 边框控制\n",
    "# ax1.spines['bottom'].set_visible(False) # 边框控制\n",
    "ax1.spines['right'].set_visible(False)  # 边框控制\n",
    "\n",
    "# 绘制断层线\n",
    "d = 0.01  # 断层线的大小\n",
    "# kwargs = dict(transform=ax1.transAxes, color='k', clip_on=False)\n",
    "# ax1.plot((-d, +d), (-d, +d), **kwargs)        # top-left diagonal\n",
    "\n",
    "# kwargs.update(transform=ax1_1.transAxes, color='k')  # switch to the bottom axes\n",
    "# ax1_1.plot((-d, +d), (1 - d, 1 + d), **kwargs)  # bottom-left diagonal\n",
    "\n",
    "\n",
    "plt.show()\n",
    "# plt.savefig('D:/Desktop/mypaper/point/all-time-item-108.jpg',bbox_inches='tight',pad_inches=0.1)"
   ]
  },
  {
   "cell_type": "code",
   "execution_count": null,
   "metadata": {},
   "outputs": [],
   "source": []
  }
 ],
 "metadata": {
  "kernelspec": {
   "display_name": "Python 3",
   "language": "python",
   "name": "python3"
  },
  "language_info": {
   "codemirror_mode": {
    "name": "ipython",
    "version": 3
   },
   "file_extension": ".py",
   "mimetype": "text/x-python",
   "name": "python",
   "nbconvert_exporter": "python",
   "pygments_lexer": "ipython3",
   "version": "3.7.9"
  }
 },
 "nbformat": 4,
 "nbformat_minor": 4
}

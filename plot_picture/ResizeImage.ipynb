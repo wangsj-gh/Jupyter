{
 "cells": [
  {
   "cell_type": "code",
   "execution_count": 1,
   "id": "c47aafee",
   "metadata": {},
   "outputs": [
    {
     "name": "stdout",
     "output_type": "stream",
     "text": [
      "开始运行\n"
     ]
    }
   ],
   "source": [
    "from PIL import Image\n",
    "\n",
    "\n",
    "def ResizeImage(filein, fileout, scale):\n",
    "    \n",
    "    \"\"\"\n",
    "    改变图片大小\n",
    "    :param filein: 输入图片\n",
    "    :param fileout: 输出图片\n",
    "    :param width: 输出图片宽度\n",
    "    :param height: 输出图片宽度\n",
    "    :param type: 输出图片类型（png, gif, jpeg...）\n",
    "    :return:\n",
    "    \"\"\"\n",
    "    img = Image.open(filein)\n",
    "    width = int(img.size[0] * scale)\n",
    "    height = int(img.size[1] * scale)\n",
    "    type = img.format\n",
    "    out = img.resize((width, height), Image.ANTIALIAS)\n",
    "    # 第二个参数：\n",
    "    # Image.NEAREST ：低质量\n",
    "    # Image.BILINEAR：双线性\n",
    "    # Image.BICUBIC ：三次样条插值\n",
    "    # Image.ANTIALIAS：高质量\n",
    "    out.save(fileout, type)\n",
    " \n",
    " \n",
    "if __name__ == \"__main__\":\n",
    "    print(\"开始运行\")\n",
    "    filein = r'D:\\Desktop\\光合作用.png'\n",
    "    fileout = r'D:\\Desktop\\光合作用1.png'\n",
    "    ResizeImage(filein, fileout, scale=10)\n",
    "    print(\"结束\")"
   ]
  },
  {
   "cell_type": "code",
   "execution_count": null,
   "id": "4916f6d9",
   "metadata": {},
   "outputs": [],
   "source": []
  }
 ],
 "metadata": {
  "kernelspec": {
   "display_name": "Python 3 (ipykernel)",
   "language": "python",
   "name": "python3"
  },
  "language_info": {
   "codemirror_mode": {
    "name": "ipython",
    "version": 3
   },
   "file_extension": ".py",
   "mimetype": "text/x-python",
   "name": "python",
   "nbconvert_exporter": "python",
   "pygments_lexer": "ipython3",
   "version": "3.9.1"
  }
 },
 "nbformat": 4,
 "nbformat_minor": 5
}

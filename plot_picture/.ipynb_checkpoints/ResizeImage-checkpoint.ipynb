{
 "cells": [
  {
   "cell_type": "code",
   "execution_count": 3,
   "id": "89976b6f",
   "metadata": {},
   "outputs": [
    {
     "name": "stdout",
     "output_type": "stream",
     "text": [
      "<PIL.PngImagePlugin.PngImageFile image mode=RGBA size=980x1141 at 0x1B636723D60>\n",
      "<class 'PIL.PngImagePlugin.PngImageFile'>\n"
     ]
    },
    {
     "ename": "error",
     "evalue": "OpenCV(4.5.3) C:\\Users\\runneradmin\\AppData\\Local\\Temp\\pip-req-build-sn_xpupm\\opencv\\modules\\imgproc\\src\\color.cpp:182: error: (-215:Assertion failed) !_src.empty() in function 'cv::cvtColor'\n",
     "output_type": "error",
     "traceback": [
      "\u001b[1;31m---------------------------------------------------------------------------\u001b[0m",
      "\u001b[1;31merror\u001b[0m                                     Traceback (most recent call last)",
      "\u001b[1;32m~\\AppData\\Local\\Temp/ipykernel_4404/3205743165.py\u001b[0m in \u001b[0;36m<module>\u001b[1;34m\u001b[0m\n\u001b[0;32m      6\u001b[0m \u001b[0mprint\u001b[0m\u001b[1;33m(\u001b[0m\u001b[0mtype\u001b[0m\u001b[1;33m(\u001b[0m\u001b[0mim\u001b[0m\u001b[1;33m)\u001b[0m\u001b[1;33m)\u001b[0m\u001b[1;33m\u001b[0m\u001b[1;33m\u001b[0m\u001b[0m\n\u001b[0;32m      7\u001b[0m \u001b[0mim\u001b[0m \u001b[1;33m=\u001b[0m \u001b[0mcv2\u001b[0m\u001b[1;33m.\u001b[0m\u001b[0mimread\u001b[0m\u001b[1;33m(\u001b[0m\u001b[1;34m'D:\\Desktop\\光合作用.png'\u001b[0m\u001b[1;33m)\u001b[0m\u001b[1;33m\u001b[0m\u001b[1;33m\u001b[0m\u001b[0m\n\u001b[1;32m----> 8\u001b[1;33m \u001b[0mimage\u001b[0m \u001b[1;33m=\u001b[0m \u001b[0mImage\u001b[0m\u001b[1;33m.\u001b[0m\u001b[0mfromarray\u001b[0m\u001b[1;33m(\u001b[0m\u001b[0mcv2\u001b[0m\u001b[1;33m.\u001b[0m\u001b[0mcvtColor\u001b[0m\u001b[1;33m(\u001b[0m\u001b[0mim\u001b[0m\u001b[1;33m,\u001b[0m\u001b[0mcv2\u001b[0m\u001b[1;33m.\u001b[0m\u001b[0mCOLOR_BGR2RGB\u001b[0m\u001b[1;33m)\u001b[0m\u001b[1;33m)\u001b[0m\u001b[1;33m\u001b[0m\u001b[1;33m\u001b[0m\u001b[0m\n\u001b[0m\u001b[0;32m      9\u001b[0m \u001b[1;31m# image.save('D:\\Desktop\\光合作用1.png',quality=95,dpi=(9800.0,11410.0))    #调整图像的分辨率\u001b[0m\u001b[1;33m\u001b[0m\u001b[1;33m\u001b[0m\u001b[1;33m\u001b[0m\u001b[0m\n",
      "\u001b[1;31merror\u001b[0m: OpenCV(4.5.3) C:\\Users\\runneradmin\\AppData\\Local\\Temp\\pip-req-build-sn_xpupm\\opencv\\modules\\imgproc\\src\\color.cpp:182: error: (-215:Assertion failed) !_src.empty() in function 'cv::cvtColor'\n"
     ]
    }
   ],
   "source": [
    "import cv2\n",
    "from PIL import Image as ImagePIL\n",
    "from PIL import Image\n",
    "im = ImagePIL.open('D:\\Desktop\\光合作用.png')\n",
    "print(im)\n",
    "print(type(im))\n",
    "im = cv2.imread('D:\\Desktop\\光合作用.png')\n",
    "image = Image.fromarray(cv2.cvtColor(im,cv2.COLOR_BGR2RGB))\n",
    "# image.save('D:\\Desktop\\光合作用1.png',quality=95,dpi=(9800.0,11410.0))    #调整图像的分辨率\n"
   ]
  },
  {
   "cell_type": "code",
   "execution_count": 1,
   "id": "f95c40de",
   "metadata": {},
   "outputs": [
    {
     "name": "stdout",
     "output_type": "stream",
     "text": [
      "开始运行\n"
     ]
    }
   ],
   "source": [
    "from PIL import Image\n",
    "\n",
    "\n",
    "def ResizeImage(filein, fileout, scale):\n",
    "    \n",
    "    \"\"\"\n",
    "    改变图片大小\n",
    "    :param filein: 输入图片\n",
    "    :param fileout: 输出图片\n",
    "    :param width: 输出图片宽度\n",
    "    :param height: 输出图片宽度\n",
    "    :param type: 输出图片类型（png, gif, jpeg...）\n",
    "    :return:\n",
    "    \"\"\"\n",
    "    img = Image.open(filein)\n",
    "    width = int(img.size[0] * scale)\n",
    "    height = int(img.size[1] * scale)\n",
    "    type = img.format\n",
    "    out = img.resize((width, height), Image.ANTIALIAS)\n",
    "    # 第二个参数：\n",
    "    # Image.NEAREST ：低质量\n",
    "    # Image.BILINEAR：双线性\n",
    "    # Image.BICUBIC ：三次样条插值\n",
    "    # Image.ANTIALIAS：高质量\n",
    "    out.save(fileout, type)\n",
    " \n",
    " \n",
    "if __name__ == \"__main__\":\n",
    "    print(\"开始运行\")\n",
    "    filein = r'D:\\Desktop\\光合作用.png'\n",
    "    fileout = r'D:\\Desktop\\光合作用1.png'\n",
    "    ResizeImage(filein, fileout, scale=10)\n",
    "    print(\"结束\")"
   ]
  },
  {
   "cell_type": "code",
   "execution_count": null,
   "id": "9309f654",
   "metadata": {},
   "outputs": [],
   "source": []
  }
 ],
 "metadata": {
  "kernelspec": {
   "display_name": "Python 3 (ipykernel)",
   "language": "python",
   "name": "python3"
  },
  "language_info": {
   "codemirror_mode": {
    "name": "ipython",
    "version": 3
   },
   "file_extension": ".py",
   "mimetype": "text/x-python",
   "name": "python",
   "nbconvert_exporter": "python",
   "pygments_lexer": "ipython3",
   "version": "3.9.1"
  }
 },
 "nbformat": 4,
 "nbformat_minor": 5
}

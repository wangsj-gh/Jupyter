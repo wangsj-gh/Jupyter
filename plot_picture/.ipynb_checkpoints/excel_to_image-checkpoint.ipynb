{
 "cells": [
  {
   "cell_type": "code",
   "execution_count": 1,
   "metadata": {},
   "outputs": [],
   "source": [
    "import numpy as np\n",
    "import pandas as pd\n",
    "import gdal\n",
    "\n",
    "data=pd.read_excel(r'D:\\Desktop\\gee-double-LAI.xls',header=0,sheet_name='solver-param')\n",
    "data = data.set_index(['lat','lon'])\n",
    "# data = xlrd.open_workbook(r'D:\\Desktop\\gee-double-LAI.xls',sheet_name='solver-param')\n",
    "# table = data.sheets(['solver-param'])\n",
    "# nrows = data.nrows #行数\n",
    "# ncols = data.ncols #列数\n",
    "# c1=arange(0,nrows,1)\n",
    "# datamatrix=zeros((nrows,ncols))\n",
    "# , header=0,index_col=[0,1]\n",
    "# crs_LAI = 'SR-ORG:6974'\n",
    "# crsTransform_LAI = [463.3127165279165, 0, -20015109.353988, 0, -463.3127165274999, 10007554.676994]"
   ]
  },
  {
   "cell_type": "code",
   "execution_count": 2,
   "metadata": {},
   "outputs": [],
   "source": [
    "daset=np.array(data)\n"
   ]
  },
  {
   "cell_type": "code",
   "execution_count": 3,
   "metadata": {},
   "outputs": [],
   "source": [
    "p0=daset[:,0].reshape(data.index.levels[0].size,-1)\n",
    "p1=daset[:,0].reshape(data.index.levels[0].size,-1)\n",
    "p2=daset[:,0].reshape(data.index.levels[0].size,-1)\n",
    "p3=daset[:,0].reshape(data.index.levels[0].size,-1)\n",
    "p4=daset[:,0].reshape(data.index.levels[0].size,-1)\n",
    "p5=daset[:,0].reshape(data.index.levels[0].size,-1)"
   ]
  },
  {
   "cell_type": "code",
   "execution_count": 5,
   "metadata": {},
   "outputs": [
    {
     "name": "stdout",
     "output_type": "stream",
     "text": [
      "(12, 9)\n",
      "[[0.40190869 0.43107115 0.49054525 0.6244909  0.51182089 0.39022794\n",
      "  0.37150837 0.22533941 0.25300605]\n",
      " [0.38520821 0.56384771 0.55495488 0.53062728 0.41059711 0.28421097\n",
      "  0.40915372 0.3395779  0.12324152]\n",
      " [0.53674822 0.60690133 0.4873535  0.4675526  0.39079447 0.49522425\n",
      "  0.42024843 0.22565426 0.31766432]\n",
      " [0.55021377 0.58254303 0.72776954 0.50158029 0.37885779 0.39868336\n",
      "  0.33660688 0.35199121 0.33216105]\n",
      " [0.3295093  0.33685789 0.63398916 0.58726557 0.39062978 0.39590442\n",
      "  0.33836704 0.31314513 0.30145925]\n",
      " [0.39022062 0.47801809 0.38332987 0.58845522 0.47168881 0.42738876\n",
      "  0.40969551 0.43536233 0.36601623]\n",
      " [0.38375458 0.44912611 0.47183883 0.60464066 0.52694515 0.4286224\n",
      "  0.53572021 0.53645601 0.43882235]\n",
      " [0.47641526 0.6033513  0.57452135 0.57915454 0.54527088 0.60348921\n",
      "  0.58460467 0.61826802 0.59331531]\n",
      " [0.38057715 0.49795419 0.4907     0.49979084 0.43621344 0.45893699\n",
      "  0.51163232 0.56914788 0.59003458]\n",
      " [0.23465225 0.2805112  0.45765887 0.4649961  0.39162323 0.43189612\n",
      "  0.53002905 0.70733414 0.76524007]\n",
      " [0.29424216 0.3262875  0.2798104  0.3954249  0.37704249 0.44158401\n",
      "  0.5709065  0.80420435 0.5750737 ]\n",
      " [0.24246396 0.36612978 0.44212965 0.21972191 0.41415676 0.31220102\n",
      "  0.30635083 0.66104977 0.82923536]]\n"
     ]
    }
   ],
   "source": [
    "# total=np.array([p0,p1,p2,p3,p4,p5])\n",
    "total=np.array(p0)\n",
    "print(total.shape)\n",
    "print(total)"
   ]
  },
  {
   "cell_type": "code",
   "execution_count": 6,
   "metadata": {},
   "outputs": [],
   "source": [
    "import numpy as np\n",
    "from osgeo import gdal\n",
    "from osgeo import gdal_array\n",
    "from osgeo import osr\n",
    "import matplotlib.pylab as plt\n",
    "\n",
    "\n",
    "array = np.array(( (0.1, 0.2, 0.3, 0.4),\n",
    "                   (0.2, 0.3, 0.4, 0.5),\n",
    "                   (0.3, 0.4, 0.5, 0.6),\n",
    "                   (0.4, 0.5, 0.6, 0.7),\n",
    "                   (0.5, 0.6, 0.7, 0.8) ))\n",
    "# My image array      \n",
    "lat = np.array(( (10.0, 10.0, 10.0, 10.0),\n",
    "                 ( 9.5,  9.5,  9.5,  9.5),\n",
    "                 ( 9.0,  9.0,  9.0,  9.0),\n",
    "                 ( 8.5,  8.5,  8.5,  8.5),\n",
    "                 ( 8.0,  8.0,  8.0,  8.0) ))\n",
    "lon = np.array(( (20.0, 20.5, 21.0, 21.5),\n",
    "                 (20.0, 20.5, 21.0, 21.5),\n",
    "                 (20.0, 20.5, 21.0, 21.5),\n",
    "                 (20.0, 20.5, 21.0, 21.5),\n",
    "                 (20.0, 20.5, 21.0, 21.5) ))\n",
    "# For each pixel I know it's latitude and longitude.\n",
    "# As you'll see below you only really need the coordinates of\n",
    "# one corner, and the resolution of the file.\n",
    "\n",
    "xmin,ymin,xmax,ymax = [lon.min(),lat.min(),lon.max(),lat.max()]\n",
    "nrows,ncols = np.shape(array)\n",
    "xres = (xmax-xmin)/float(ncols)\n",
    "yres = (ymax-ymin)/float(nrows)\n",
    "geotransform=(xmin,xres,0,ymax,0, -yres)   \n",
    "# That's (top left x, w-e pixel resolution, rotation (0 if North is up), \n",
    "#         top left y, rotation (0 if North is up), n-s pixel resolution)\n",
    "# I don't know why rotation is in twice???\n",
    "\n",
    "output_raster = gdal.GetDriverByName('GTiff').Create('myraster.tif',ncols, nrows, 1 ,gdal.GDT_Float32)  # Open the file\n",
    "output_raster.SetGeoTransform(geotransform)  # Specify its coordinates\n",
    "srs = osr.SpatialReference()                 # Establish its coordinate encoding\n",
    "srs.ImportFromEPSG(4326)                     # This one specifies WGS84 lat long.\n",
    "                                             # Anyone know how to specify the \n",
    "                                             # IAU2000:49900 Mars encoding?\n",
    "output_raster.SetProjection( srs.ExportToWkt() )   # Exports the coordinate system \n",
    "                                                   # to the file\n",
    "output_raster.GetRasterBand(1).WriteArray(array)   # Writes my array to the raster\n",
    "\n",
    "output_raster.FlushCache()"
   ]
  },
  {
   "cell_type": "code",
   "execution_count": null,
   "metadata": {},
   "outputs": [],
   "source": []
  },
  {
   "cell_type": "code",
   "execution_count": null,
   "metadata": {},
   "outputs": [],
   "source": [
    "import gdal\n",
    "\n",
    "class Dataset:\n",
    "    def __init__(self, in_file):\n",
    "        self.in_file = in_file  # Tiff或者ENVI文件\n",
    "\n",
    "        dataset = gdal.Open(self.in_file)\n",
    "        self.XSize = dataset.RasterXSize  # 网格的X轴像素数量\n",
    "        self.YSize = dataset.RasterYSize  # 网格的Y轴像素数量\n",
    "        self.GeoTransform = dataset.GetGeoTransform()  # 投影转换信息\n",
    "        self.ProjectionInfo = dataset.GetProjection()  # 投影信息\n",
    "\n",
    "    def get_data(self, band):\n",
    "        \"\"\"\n",
    "        band: 读取第几个通道的数据\n",
    "        \"\"\"\n",
    "        dataset = gdal.Open(self.in_file)\n",
    "        band = dataset.GetRasterBand(band)\n",
    "        data = band.ReadAsArray()\n",
    "        return data\n",
    "\n",
    "    def get_lon_lat(self):\n",
    "        \"\"\"\n",
    "        获取经纬度信息\n",
    "        \"\"\"\n",
    "        gtf = self.GeoTransform\n",
    "        x_range = range(0, self.XSize)\n",
    "        y_range = range(0, self.YSize)\n",
    "        x, y = np.meshgrid(x_range, y_range)\n",
    "        lon = gtf[0] + x * gtf[1] + y * gtf[2]\n",
    "        lat = gtf[3] + x * gtf[4] + y * gtf[5]\n",
    "        return lon, lat\n",
    "    \n",
    "# dir_path = r\"E:/data\"\n",
    "# filename = \"dataset.tif\"\n",
    "# file_path = os.path.join(dir_path, filename)\n",
    "dataset = Dataset(filepath)\n",
    "\n",
    "band = 1\n",
    "data = dataset.get_data(band)  # 获取第一个通道的数据\n",
    "\n",
    "longitude, latitude = dataset.get_lon_lat()  # 获取经纬度信息"
   ]
  },
  {
   "cell_type": "code",
   "execution_count": null,
   "metadata": {},
   "outputs": [],
   "source": []
  }
 ],
 "metadata": {
  "kernelspec": {
   "display_name": "Python 3 (ipykernel)",
   "language": "python",
   "name": "python3"
  },
  "language_info": {
   "codemirror_mode": {
    "name": "ipython",
    "version": 3
   },
   "file_extension": ".py",
   "mimetype": "text/x-python",
   "name": "python",
   "nbconvert_exporter": "python",
   "pygments_lexer": "ipython3",
   "version": "3.7.10"
  }
 },
 "nbformat": 4,
 "nbformat_minor": 4
}

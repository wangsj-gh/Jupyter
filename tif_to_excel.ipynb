{
 "cells": [
  {
   "cell_type": "code",
   "execution_count": 1,
   "metadata": {},
   "outputs": [],
   "source": [
    "import numpy as np\n",
    "import pandas as pd\n",
    "from osgeo import gdal\n",
    "import os\n",
    "import time\n",
    "import xlwt"
   ]
  },
  {
   "cell_type": "code",
   "execution_count": 2,
   "metadata": {},
   "outputs": [],
   "source": [
    "class Dataset:\n",
    "    def __init__(self, in_file):\n",
    "        self.in_file = in_file  # Tiff或者ENVI文件\n",
    "\n",
    "        dataset = gdal.Open(self.in_file)\n",
    "        self.XSize = dataset.RasterXSize  # 网格的X轴像素数量\n",
    "        self.YSize = dataset.RasterYSize  # 网格的Y轴像素数量\n",
    "        self.Bands = dataset.RasterCount  # 波段数\n",
    "        self.GeoTransform = dataset.GetGeoTransform()  # 投影转换信息\n",
    "        self.ProjectionInfo = dataset.GetProjection()  # 投影信息\n",
    "\n",
    "#     def get_data(self, band):\n",
    "#         #band: 读取第几个通道的数据\n",
    "#         dataset = gdal.Open(self.in_file)\n",
    "#         band = dataset.GetRasterBand(band)\n",
    "#         data = band.ReadAsArray()\n",
    "#         return data\n",
    "    \n",
    "    def get_data(self):\n",
    "        #band: 读取第几个通道的数据\n",
    "        dataset = gdal.Open(self.in_file)\n",
    "        data = dataset.ReadAsArray(0,0,self.XSize,self.YSize)\n",
    "        return data\n",
    "    \n",
    "\n",
    "    def get_lon_lat(self):\n",
    "        #获取经纬度信息\n",
    "        gtf = self.GeoTransform\n",
    "        x_range = range(0, self.XSize)\n",
    "        y_range = range(0, self.YSize)\n",
    "        x, y = np.meshgrid(x_range, y_range)\n",
    "        lon = gtf[0] + x * gtf[1] + y * gtf[2]\n",
    "        lat = gtf[3] + x * gtf[4] + y * gtf[5]\n",
    "        \n",
    "        lon_lat=[]\n",
    "        for (longitude,latitude) in zip(lon,lat):\n",
    "            lon_lat.append(list(zip(longitude,latitude)))\n",
    "            \n",
    "        return np.array(lon_lat)\n",
    "    \n",
    "    def new_dataset(self,data,lon_lat):\n",
    "        new_dataset=[]\n",
    "        for i in range(self.YSize):\n",
    "            for j in range(self.XSize):\n",
    "                x1 = lon_lat[i,j]\n",
    "                x2 = data[:,i,j]\n",
    "#                 x2 = data[i,j]\n",
    "                x=np.hstack((x1,x2))\n",
    "                new_dataset.append(x)\n",
    "#         for (i,j) in zip(lon_lat[i,j],data[:,i,j]):\n",
    "#             new_dataset.append(list(zip(i,j)))\n",
    "            \n",
    "        return np.array(new_dataset)"
   ]
  },
  {
   "cell_type": "code",
   "execution_count": 3,
   "metadata": {},
   "outputs": [
    {
     "name": "stderr",
     "output_type": "stream",
     "text": [
      "D:\\Miniconda3\\lib\\site-packages\\IPython\\core\\interactiveshell.py:3361: FutureWarning: As the xlwt package is no longer maintained, the xlwt engine will be removed in a future version of pandas. This is the only engine in pandas that supports writing in the xls format. Install openpyxl and write to an xlsx file instead. You can set the option io.excel.xls.writer to 'xlwt' to silence this warning. While this option is deprecated and will also raise a warning, it can be globally set and the warning suppressed.\n",
      "  if (await self.run_code(code, result,  async_=asy)):\n"
     ]
    }
   ],
   "source": [
    "# 以下代码演示读取E:/data/dataset.tif的第一个通道的数据，并且获取经纬度信息\n",
    "start_time = time.time()\n",
    "dir_path = r\"D:\\Desktop\"\n",
    "filename = \"scale-offset-linear.tif\"\n",
    "file_path = os.path.join(dir_path, filename)\n",
    "dataset = Dataset(file_path)\n",
    "\n",
    "data = dataset.get_data( )  # 获取第一个通道的数据\n",
    "\n",
    "lon_lat = dataset.get_lon_lat()  # 获取经纬度信息longitude, latitude\n",
    "\n",
    "new_dataset=dataset.new_dataset(data,lon_lat)\n",
    "\n",
    "# # EVI_108\n",
    "writer = pd.ExcelWriter(r\"D:\\Desktop\\scale-offset-linear.xls\")\n",
    "# pd.DataFrame(new_dataset).to_excel(writer,sheet_name='LAI',na_rep=0,\\\n",
    "#                                    index=False,header=['lon','lat']+['LAI']*92)\n",
    "pd.DataFrame(new_dataset).to_excel(writer,na_rep=0,index=False,\\\n",
    "                                   header=['lon','lat','p0','p1','p2','p3','p4','p5','item'])\n",
    "writer.save()\n",
    "writer.close()"
   ]
  },
  {
   "cell_type": "code",
   "execution_count": 4,
   "metadata": {},
   "outputs": [
    {
     "name": "stdout",
     "output_type": "stream",
     "text": [
      "839160\n"
     ]
    }
   ],
   "source": [
    "import sys\n",
    "print(sys.getsizeof(new_dataset))"
   ]
  },
  {
   "cell_type": "code",
   "execution_count": 4,
   "metadata": {},
   "outputs": [],
   "source": [
    "dir_path = r\"D:\\Desktop\"\n",
    "filename = \"scale-offset-LM.tif\"\n",
    "file_path = os.path.join(dir_path, filename)\n",
    "dataset = Dataset(file_path)\n",
    "\n",
    "data = dataset.get_data( )  # 获取第一个通道的数据\n",
    "\n",
    "lon_lat = dataset.get_lon_lat()  # 获取经纬度信息longitude, latitude\n",
    "\n",
    "new_dataset=dataset.new_dataset(data,lon_lat)\n",
    "new_dataset.shape\n",
    "\n",
    "writer = pd.ExcelWriter(r\"D:\\Desktop\\scale-offset-LM.xls\")\n",
    "\n",
    "\n",
    "pd.DataFrame(new_dataset).to_excel(writer,na_rep=0,index=False,\\\n",
    "                                   header=['lon','lat','scale','offset'])\n",
    "# ,sheet_name='biubiu'\n",
    "writer.save()\n",
    "writer.close()"
   ]
  }
 ],
 "metadata": {
  "kernelspec": {
   "display_name": "Python 3 (ipykernel)",
   "language": "python",
   "name": "python3"
  },
  "language_info": {
   "codemirror_mode": {
    "name": "ipython",
    "version": 3
   },
   "file_extension": ".py",
   "mimetype": "text/x-python",
   "name": "python",
   "nbconvert_exporter": "python",
   "pygments_lexer": "ipython3",
   "version": "3.7.10"
  }
 },
 "nbformat": 4,
 "nbformat_minor": 4
}

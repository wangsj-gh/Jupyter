{
 "cells": [
  {
   "cell_type": "code",
   "execution_count": 1,
   "metadata": {},
   "outputs": [],
   "source": [
    "import matplotlib.pyplot as plt \n",
    "import numpy as np\n",
    "import pandas as pd\n",
    "from scipy.optimize import curve_fit"
   ]
  },
  {
   "cell_type": "code",
   "execution_count": 2,
   "metadata": {},
   "outputs": [],
   "source": [
    "def func(x,m,p0,p1,p2,p3,p4,p5,p00,p10,p20,p30,p40,p50):\n",
    "    first=np.where(x <= m, 1, 0)\n",
    "    second=np.where(x > m, 1, 0)\n",
    "    return (p0+p1/(1+np.exp(p2*p3-p2*x))-p1/(1+np.exp(p4*p5-p4*x)))*first\\\n",
    "        +(p00+p10/(1+np.exp(p20*p30-p20*x))-p10/(1+np.exp(p40*p50-p40*x)))*second"
   ]
  },
  {
   "cell_type": "code",
   "execution_count": 3,
   "metadata": {},
   "outputs": [
    {
     "name": "stdout",
     "output_type": "stream",
     "text": [
      "[150.           2.6649655  -19.22407043   0.20434677 151.59032347\n",
      "   0.03790087 126.19111878   2.79842377  21.74987412   0.03854971\n",
      " 182.73614723   0.06096243 262.35706897]\n"
     ]
    },
    {
     "name": "stderr",
     "output_type": "stream",
     "text": [
      "D:\\Miniconda3\\lib\\site-packages\\scipy\\optimize\\minpack.py:828: OptimizeWarning: Covariance of the parameters could not be estimated\n",
      "  warnings.warn('Covariance of the parameters could not be estimated',\n"
     ]
    }
   ],
   "source": [
    "np.set_printoptions(suppress=True)\n",
    "\n",
    "df = pd.read_csv(r'D:\\Desktop\\ee-chart1.csv',header=0,names=['name', 'value'])\n",
    "xData=df.name\n",
    "yData=df.value\n",
    "Parameters, pcov = curve_fit(func, xData, yData,\\\n",
    "                p0=[150,10,40,0.05,50,0.06,180,10,40,0.05,180,0.06,300],maxfev=100000000)\n",
    "#,method='trf', maxfev=1000000)\n",
    "# Parameters, pcov = curve_fit(func, xData, yData, bounds=([0,0,0,0,0,0], [70,70,0.5,365,0.5,365]),maxfev=100000000)\n",
    "print(Parameters)"
   ]
  },
  {
   "cell_type": "code",
   "execution_count": 4,
   "metadata": {},
   "outputs": [
    {
     "data": {
      "image/png": "[encoded data removed]",
      "text/plain": [
       "<Figure size 432x288 with 1 Axes>"
      ]
     },
     "metadata": {
      "needs_background": "light"
     },
     "output_type": "display_data"
    }
   ],
   "source": [
    "x=np.arange(1, 365,4)\n",
    "m,p0,p1,p2,p3,p4,p5,p00,p10,p20,p30,p40,p50=Parameters\n",
    "y=func(x,m,p0,p1,p2,p3,p4,p5,p00,p10,p20,p30,p40,p50)\n",
    "plt.plot(x,y)\n",
    "plt.show()"
   ]
  },
  {
   "cell_type": "code",
   "execution_count": null,
   "metadata": {},
   "outputs": [],
   "source": []
  }
 ],
 "metadata": {
  "kernelspec": {
   "display_name": "Python 3",
   "language": "python",
   "name": "python3"
  },
  "language_info": {
   "codemirror_mode": {
    "name": "ipython",
    "version": 3
   },
   "file_extension": ".py",
   "mimetype": "text/x-python",
   "name": "python",
   "nbconvert_exporter": "python",
   "pygments_lexer": "ipython3",
   "version": "3.9.1"
  }
 },
 "nbformat": 4,
 "nbformat_minor": 4
}

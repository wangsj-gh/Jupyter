{
 "cells": [
  {
   "cell_type": "code",
   "execution_count": 8,
   "id": "2dea468f",
   "metadata": {},
   "outputs": [],
   "source": [
    "import numpy as np\n",
    "import pandas as pd\n",
    "from osgeo import gdal\n",
    "from osgeo import osr\n",
    "import os\n",
    "import time"
   ]
  },
  {
   "cell_type": "code",
   "execution_count": 20,
   "id": "cf8fac90",
   "metadata": {},
   "outputs": [],
   "source": [
    "class Dataset:\n",
    "    def __init__(self, in_file):\n",
    "        self.in_file = in_file  # Tiff或者ENVI文件\n",
    "\n",
    "        dataset = gdal.Open(self.in_file)\n",
    "        self.XSize = dataset.RasterXSize  # 网格的X轴像素数量\n",
    "        self.YSize = dataset.RasterYSize  # 网格的Y轴像素数量\n",
    "        self.Bands = dataset.RasterCount  # 波段数\n",
    "        self.GeoTransform = dataset.GetGeoTransform()  # 投影转换信息\n",
    "        self.ProjectionInfo = dataset.GetProjection()  # 投影信息\n",
    "    \n",
    "    def get_Trans_Proj(self):\n",
    "        #获取经纬度信息\n",
    "        gtf = self.GeoTransform\n",
    "        pro = self.ProjectionInfo\n",
    "        xSize=self.XSize\n",
    "        ySize=self.YSize\n",
    "        Bands=self.Bands\n",
    "        return [gtf, pro,xSize,ySize,Bands]\n",
    "    \n",
    "    def get_data(self):\n",
    "        #band: 读取第几个通道的数据\n",
    "        dataset = gdal.Open(self.in_file)\n",
    "        data = dataset.ReadAsArray(0,0,self.XSize,self.YSize)\n",
    "        \n",
    "        return data"
   ]
  },
  {
   "cell_type": "code",
   "execution_count": 21,
   "id": "3fbeab33",
   "metadata": {},
   "outputs": [],
   "source": [
    "dir_path = r\"D:\\Desktop\"\n",
    "data=Dataset(os.path.join(dir_path, \"GPP_make_thread.tif\"))\n",
    "dataset=data.get_data( ) "
   ]
  },
  {
   "cell_type": "code",
   "execution_count": 22,
   "id": "c8024f5b",
   "metadata": {},
   "outputs": [
    {
     "data": {
      "text/plain": [
       "(365, 630, 1439)"
      ]
     },
     "execution_count": 22,
     "metadata": {},
     "output_type": "execute_result"
    }
   ],
   "source": [
    "# dataset=dataset[:,2::]\n",
    "dataset.shape"
   ]
  },
  {
   "cell_type": "code",
   "execution_count": 26,
   "id": "9b8b860e",
   "metadata": {},
   "outputs": [
    {
     "data": {
      "text/plain": [
       "(630, 1439)"
      ]
     },
     "execution_count": 26,
     "metadata": {},
     "output_type": "execute_result"
    }
   ],
   "source": [
    "sum_data=np.sum(dataset,axis=0).astype(np.float32)\n",
    "sum_data.shape"
   ]
  },
  {
   "cell_type": "code",
   "execution_count": 28,
   "id": "494ed459",
   "metadata": {},
   "outputs": [
    {
     "name": "stdout",
     "output_type": "stream",
     "text": [
      "total time: 0.5565392971038818\n"
     ]
    }
   ],
   "source": [
    "start=time.time()\n",
    "\n",
    "Inform=data.get_Trans_Proj()\n",
    "# [gtf, pro,xSize,ySize,Bands]\n",
    "output_raster = gdal.GetDriverByName('GTiff').Create('D:\\Desktop\\sum.tif',Inform[2], Inform[3], 1 ,gdal.GDT_Float32)\n",
    "output_raster.SetGeoTransform(Inform[0])\n",
    "srs = osr.SpatialReference()\n",
    "srs.ImportFromEPSG(4326)\n",
    "\n",
    "output_raster.SetProjection(srs.ExportToWkt())\n",
    "\n",
    "output_raster.GetRasterBand(1).WriteArray(sum_data)\n",
    "output_raster.GetRasterBand(1).SetDescription(\"p%s\"%sum)\n",
    "print(\"total time:\",time.time()-start)  "
   ]
  },
  {
   "cell_type": "code",
   "execution_count": null,
   "id": "ea660b46",
   "metadata": {},
   "outputs": [],
   "source": []
  }
 ],
 "metadata": {
  "kernelspec": {
   "display_name": "Python 3 (ipykernel)",
   "language": "python",
   "name": "python3"
  },
  "language_info": {
   "codemirror_mode": {
    "name": "ipython",
    "version": 3
   },
   "file_extension": ".py",
   "mimetype": "text/x-python",
   "name": "python",
   "nbconvert_exporter": "python",
   "pygments_lexer": "ipython3",
   "version": "3.7.10"
  }
 },
 "nbformat": 4,
 "nbformat_minor": 5
}

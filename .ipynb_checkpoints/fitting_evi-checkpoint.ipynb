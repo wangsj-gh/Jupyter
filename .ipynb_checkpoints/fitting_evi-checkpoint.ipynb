{
 "cells": [
  {
   "cell_type": "code",
   "execution_count": 1,
   "metadata": {},
   "outputs": [],
   "source": [
    "import numpy as np\n",
    "import pandas as pd\n",
    "from scipy.optimize import curve_fit\n",
    "import time"
   ]
  },
  {
   "cell_type": "code",
   "execution_count": 6,
   "metadata": {},
   "outputs": [],
   "source": [
    "def func(x, m1, m2, m3, m4, m5, m6):\n",
    "    return m1 + m2 /(1 + np.exp(-m3 * (x-m4))) - m2/(1 + np.exp(-m5 * (x-m6)))\n",
    "\n",
    "#注意初值\n",
    "def DofittingandValidation(yData, xData):\n",
    "    Parameters, pcov = curve_fit(func, xData, yData, p0=[900,5000,0.1,140,0.1,270], maxfev=10000000)#,method='trf', maxfev=1000000)\n",
    "    return Parameters\n",
    "\n",
    "#注意时间序列\n",
    "def get_python_param(data):\n",
    "    timeDims=data.shape[1]\n",
    "    xData=16 * (np.array(list(range(timeDims)))) + 9\n",
    "    print(xData)\n",
    "    pars=[]\n",
    "    for i in range(data.shape[0]):\n",
    "        lon_lat=data_lon_lat[i]\n",
    "        yData = data[i,:]\n",
    "        pars_ = DofittingandValidation(yData, xData) \n",
    "        x=np.hstack((lon_lat,pars_))\n",
    "        pars.append(x)\n",
    "    return np.array(pars)\n",
    "\n"
   ]
  },
  {
   "cell_type": "code",
   "execution_count": 8,
   "metadata": {},
   "outputs": [
    {
     "data": {
      "text/plain": [
       "array([1.70349831e+03, 4.53956548e+03, 3.81787616e+00, 1.21406544e+02,\n",
       "       4.32887102e-02, 2.60987939e+02])"
      ]
     },
     "execution_count": 8,
     "metadata": {},
     "output_type": "execute_result"
    }
   ],
   "source": [
    "xData = np.linspace(9, 361, 23)\n",
    "# y=[971,712,805,360,1873,1975,2651,4300,5376,5285,5979,5910,5300,4917,4877,4612,4627,3442,2689,2183,2155,2049,1495]\n",
    "yData=[2321,1298,1654,1415,2021,2025,1973,2486,6112,7321,5971,6552,5446,3790,5632,5148,4354,2996,1869,1806,1722,1744,1706]\n",
    "\n",
    "Parameters, pcov = curve_fit(func, xData, yData, p0=[900,5000,0.1,140,0.1,270], maxfev=10000000)\n",
    "Parameters"
   ]
  },
  {
   "cell_type": "code",
   "execution_count": 7,
   "metadata": {},
   "outputs": [
    {
     "name": "stdout",
     "output_type": "stream",
     "text": [
      "[  9  25  41  57  73  89 105 121 137 153 169 185 201 217 233 249 265 281\n",
      " 297 313 329 345 361]\n"
     ]
    }
   ],
   "source": [
    "start_time = time.time()\n",
    "dataset=pd.read_excel(r'D:\\Desktop\\EVI_test_70.xls',header=0,sheet_name='evi-108')\n",
    "# dataset = dataset.set_index(['lat','lon'])\n",
    "dataset=np.array(dataset)\n",
    "data_lon_lat=dataset[:,0:2]\n",
    "data=dataset[:,2::]\n",
    "param=get_python_param(data)\n",
    "\n",
    "# print(\"Thread pool execution in \" + str(time.time() - start_time), \"seconds\")\n",
    "# writer = pd.ExcelWriter(r\"D:\\Desktop\\evi_108_python_param.xls\")\n",
    "# pd.DataFrame(param).to_excel(writer,sheet_name='evi_108_python_param',na_rep=0,index=False,\\\n",
    "#                                    header=['lon','lat','p0','p1','p2','p3','p4','p5'])\n",
    "# writer.save()\n",
    "# writer.close()"
   ]
  },
  {
   "cell_type": "code",
   "execution_count": 25,
   "metadata": {},
   "outputs": [
    {
     "name": "stdout",
     "output_type": "stream",
     "text": [
      "Thread pool execution in 93.60049891471863 seconds\n"
     ]
    }
   ],
   "source": [
    "start_time = time.time()\n",
    "dataset=pd.read_excel(r'D:\\Desktop\\EVI_test.xls',header=0,sheet_name='evi-10884')\n",
    "# dataset = dataset.set_index(['lat','lon'])\n",
    "dataset=np.array(dataset)\n",
    "data_lon_lat=dataset[:,0:2]\n",
    "data=dataset[:,2::]\n",
    "param=get_python_param(data)\n",
    "\n",
    "print(\"Thread pool execution in \" + str(time.time() - start_time), \"seconds\")\n",
    "writer = pd.ExcelWriter(r\"D:\\Desktop\\evi_10884_python_param.xls\")\n",
    "pd.DataFrame(param).to_excel(writer,sheet_name='evi_10884_python_param',na_rep=0,index=False,\\\n",
    "                                   header=['lon','lat','p0','p1','p2','p3','p4','p5'])\n",
    "writer.save()\n",
    "writer.close()"
   ]
  },
  {
   "cell_type": "code",
   "execution_count": null,
   "metadata": {},
   "outputs": [],
   "source": []
  }
 ],
 "metadata": {
  "kernelspec": {
   "display_name": "Python 3",
   "language": "python",
   "name": "python3"
  },
  "language_info": {
   "codemirror_mode": {
    "name": "ipython",
    "version": 3
   },
   "file_extension": ".py",
   "mimetype": "text/x-python",
   "name": "python",
   "nbconvert_exporter": "python",
   "pygments_lexer": "ipython3",
   "version": "3.7.9"
  }
 },
 "nbformat": 4,
 "nbformat_minor": 4
}

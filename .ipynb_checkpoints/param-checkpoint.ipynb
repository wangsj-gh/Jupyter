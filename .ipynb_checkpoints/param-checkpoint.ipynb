{
 "cells": [
  {
   "cell_type": "code",
   "execution_count": 16,
   "id": "champion-graph",
   "metadata": {},
   "outputs": [],
   "source": [
    "import numpy as np\n",
    "import pandas as pd\n",
    "from scipy.optimize import curve_fit"
   ]
  },
  {
   "cell_type": "code",
   "execution_count": 17,
   "id": "accredited-athletics",
   "metadata": {},
   "outputs": [],
   "source": [
    "def func(x, m1, m2, m3, m4, m5, m6):\n",
    "    return m1 + m2 /(1 + np.exp(-m3 * (x-m4))) - m2/(1 + np.exp(-m5 * (x-m6)))"
   ]
  },
  {
   "cell_type": "code",
   "execution_count": 21,
   "id": "01b229a4",
   "metadata": {},
   "outputs": [
    {
     "name": "stdout",
     "output_type": "stream",
     "text": [
      "[  0.          70.           0.06869895 192.51774034   0.05155035\n",
      " 208.89349079][ -0.08540042  69.51211417   0.06818124 192.66872134   0.0513782\n",
      " 209.382729  ]"
     ]
    }
   ],
   "source": [
    "np.set_printoptions(suppress=True)\n",
    "\n",
    "df = pd.read_excel(r'D:\\Desktop\\DL.xlsx',sheet_name='lai',header=0,names=['name', 'value'])\n",
    "xData=df.name\n",
    "yData=df.value\n",
    "lai=[5,40,0.05,140,0.05,270]\n",
    "ndvi=[1000,7000,0.1,140,0.1,270]\n",
    "evi=[900,5000,0.1,140,0.1,270]\n",
    "\n",
    "Parameters, pcov = curve_fit(func, xData, yData, bounds=([0,0,0,0,0,0], [70,70,0.3,365,0.3,365]),maxfev=100000000)\n",
    "print(Parameters,end='')\n",
    "Parameters, pcov = curve_fit(func, xData, yData, p0=lai,maxfev=100000000)\n",
    "\n",
    "print(Parameters,end='')"
   ]
  },
  {
   "cell_type": "code",
   "execution_count": 14,
   "id": "49da4db4",
   "metadata": {},
   "outputs": [
    {
     "data": {
      "text/plain": [
       "array([  0,   0,   0,   0,   0,   0,   0,   0,   0, -10, -10,   0,   0,\n",
       "         0,   0,   0,   0,   0,   0,   0,   0,   0,   0,   0,   0,   0,\n",
       "         0,   0,   0,   0,   0, -10,   0,   0, -10, -10,   0,   0,   0,\n",
       "         0, -10,   1,   5,   7,   7, -10, -10, -10,  12, -10,  16,  19,\n",
       "        18,  22,  15,  13,  14, -10, -10, -10, -10, -10, -10, -10,   6,\n",
       "         6,   6, -10,   1,   0,   0,   0,   0,   0,   0,   0, -10, -10,\n",
       "         0,   0,   0,   0,   0,   0,   0,   0,   0,   0,   0,   0,   0,\n",
       "         0], dtype=int64)"
      ]
     },
     "execution_count": 14,
     "metadata": {},
     "output_type": "execute_result"
    }
   ],
   "source": [
    "np.array(yData)"
   ]
  },
  {
   "cell_type": "code",
   "execution_count": 11,
   "id": "4634b118",
   "metadata": {},
   "outputs": [
    {
     "data": {
      "text/plain": [
       "array([  1,   5,   9,  13,  17,  21,  25,  29,  33,  45,  49,  53,  57,\n",
       "        61,  65,  69,  73,  77,  81,  85,  89,  93,  97, 101, 105, 109,\n",
       "       113, 117, 121, 129, 133, 145, 149, 153, 157, 165, 169, 173, 177,\n",
       "       193, 201, 205, 209, 213, 217, 221, 225, 257, 261, 265, 273, 277,\n",
       "       281, 285, 289, 293, 297, 301, 313, 317, 321, 325, 329, 333, 337,\n",
       "       341, 345, 349, 353, 357, 361, 365], dtype=int64)"
      ]
     },
     "execution_count": 11,
     "metadata": {},
     "output_type": "execute_result"
    }
   ],
   "source": [
    "np.array(xData)"
   ]
  },
  {
   "cell_type": "markdown",
   "id": "everyday-turner",
   "metadata": {},
   "source": [
    "# 第1个点"
   ]
  },
  {
   "cell_type": "code",
   "execution_count": null,
   "id": "interpreted-cyprus",
   "metadata": {
    "scrolled": true
   },
   "outputs": [],
   "source": [
    "np.set_printoptions(suppress=True)\n",
    "\n",
    "df = pd.read_csv(r'D:\\Desktop\\ee-chart.csv',header=0,names=['name', 'value'])\n",
    "xData=df.name\n",
    "yData=df.value\n",
    "Parameters, pcov = curve_fit(func, xData, yData, p0=[5,40,0.001,140,0.001,270],maxfev=100000000)\n",
    "#,method='trf', maxfev=1000000)\n",
    "# Parameters, pcov = curve_fit(func, xData, yData, bounds=([0,0,0,0,0,0], [70,70,0.3,365,0.3,365]),maxfev=100000000)\n",
    "print(Parameters,end='')\n"
   ]
  },
  {
   "cell_type": "code",
   "execution_count": 12,
   "id": "bbd04d4f",
   "metadata": {},
   "outputs": [
    {
     "name": "stdout",
     "output_type": "stream",
     "text": [
      "[ 1090.94318717 10821.98078646     0.04145755   152.0836941\n",
      "     0.02223032   201.94464239]"
     ]
    }
   ],
   "source": [
    "np.set_printoptions(suppress=True)\n",
    "\n",
    "df = pd.read_excel(r'D:\\Desktop\\mypaper\\version17\\data\\point\\total_data.xlsx',sheet_name='evi',header=0,names=['name', 'value'])\n",
    "xData=df.name\n",
    "yData=df.value\n",
    "lai=[5,40,0.05,140,0.05,270]\n",
    "ndvi=[1000,7000,0.1,140,0.1,270]\n",
    "evi=[900,5000,0.1,140,0.1,270]\n",
    "\n",
    "Parameters, pcov = curve_fit(func, xData, yData, p0=evi,maxfev=100000000)\n",
    "print(Parameters,end='')"
   ]
  },
  {
   "cell_type": "code",
   "execution_count": 13,
   "id": "80a837aa",
   "metadata": {},
   "outputs": [
    {
     "data": {
      "text/plain": [
       "array([1255,  988,  984,  902,  791,  854, 1083, 2116, 3123, 3360, 5092,\n",
       "       5403, 5141, 4706, 4289, 3900, 3887, 2282, 1832, 1813, 1995, 1061,\n",
       "       1547], dtype=int64)"
      ]
     },
     "execution_count": 13,
     "metadata": {},
     "output_type": "execute_result"
    }
   ],
   "source": [
    "np.array(yData)"
   ]
  },
  {
   "cell_type": "code",
   "execution_count": null,
   "id": "fd8b38b1",
   "metadata": {},
   "outputs": [],
   "source": [
    "lai=1.9495945   38.92759698   0.08017682 151.74114592   0.04618053\n",
    " 254.37194364\n",
    "ndvi=945.00690534 7345.25955598    0.07455564  124.6933856     0.03470721\n",
    "  308.62522985\n",
    "evi=1090.94318717 10821.98078646     0.04145755   152.0836941\n",
    "     0.02223032   201.94464239"
   ]
  },
  {
   "cell_type": "code",
   "execution_count": 1,
   "id": "temporal-module",
   "metadata": {},
   "outputs": [],
   "source": [
    "# from openpyxl import load_workbook\n",
    "np.set_printoptions(suppress=True)\n",
    "\n",
    "data = pd.read_excel(r'D:\\Desktop\\data.xlsx',sheet_name='data',header=0,names=['name', 'value'])\n",
    "param = np.array(pd.read_excel(r'D:\\Desktop\\data.xlsx',sheet_name='intital'))\n",
    "row=param.shape[0]\n",
    "param_set=[]\n",
    "for i in range(row):\n",
    "    xData=data.name\n",
    "    yData=data.value\n",
    "    p00=param[i,:]\n",
    "    Parameters, pcov = curve_fit(func, xData, yData, p0=p00,maxfev=100000000)\n",
    "    param_set.append(Parameters)\n",
    "param_set=np.array(param_set)\n",
    "\n",
    "# pd_data=pd.DataFrame(param_set)\n",
    "\n",
    "# writer = pd.ExcelWriter('D:\\Desktop\\data1.xlsx')\n",
    "# pd_data.to_excel(writer,sheet_name='param', float_format='%.5f')\n",
    "# writer.save()\n",
    "# writer.close()"
   ]
  },
  {
   "cell_type": "code",
   "execution_count": 6,
   "id": "married-excellence",
   "metadata": {},
   "outputs": [
    {
     "data": {
      "text/plain": [
       "array([ 7,  2,  2,  1,  0,  1,  1,  1,  1,  0,  3,  1,  1,  3,  1,  0,  1,\n",
       "        1,  0,  1,  7,  7,  6,  5,  4, 10, 10, 10, 12, 10, 11, 18, 34, 18,\n",
       "       45, 50, 46, 14, 49, 45,  4, 70, 15, 50, 49, 59, 66, 55, 34, 55, 61,\n",
       "       56, 59,  7, 55, 14, 53, 20, 26,  9, 53, 49, 47, 44, 46, 44, 44, 15,\n",
       "        5, 40, 14, 15, 14, 10,  7,  2,  7,  7,  2,  5,  7,  3,  5,  5,  5,\n",
       "        4,  0,  0,  3,  3,  0,  0], dtype=int64)"
      ]
     },
     "execution_count": 6,
     "metadata": {},
     "output_type": "execute_result"
    }
   ],
   "source": [
    "data = pd.read_excel(r'D:\\Desktop\\data.xlsx',sheet_name='data',header=0,names=['name', 'value'])\n",
    "np.array(data.value)"
   ]
  },
  {
   "cell_type": "code",
   "execution_count": null,
   "id": "relevant-serum",
   "metadata": {},
   "outputs": [],
   "source": []
  }
 ],
 "metadata": {
  "kernelspec": {
   "display_name": "Python 3",
   "language": "python",
   "name": "python3"
  },
  "language_info": {
   "codemirror_mode": {
    "name": "ipython",
    "version": 3
   },
   "file_extension": ".py",
   "mimetype": "text/x-python",
   "name": "python",
   "nbconvert_exporter": "python",
   "pygments_lexer": "ipython3",
   "version": "3.9.1"
  }
 },
 "nbformat": 4,
 "nbformat_minor": 5
}
